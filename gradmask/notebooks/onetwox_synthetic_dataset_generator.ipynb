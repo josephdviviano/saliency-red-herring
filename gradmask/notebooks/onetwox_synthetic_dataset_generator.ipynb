{
 "cells": [
  {
   "cell_type": "code",
   "execution_count": 112,
   "metadata": {},
   "outputs": [
    {
     "data": {
      "image/png": "[encoded data removed]",
      "text/plain": [
       "<matplotlib.figure.Figure at 0x7fd9734c1940>"
      ]
     },
     "metadata": {},
     "output_type": "display_data"
    }
   ],
   "source": [
    "import numpy as np\n",
    "import matplotlib.pyplot as plt\n",
    "\n",
    "\"\"\" goal: randomly generate a dataset of images with the following properties:\n",
    "         training set:\n",
    "             class 0: two cross symbols as the main predictor (add noise and random cropping of \n",
    "                                                                 crosses to make less predictive)\n",
    "                      single solid rectangle in lower left corner as a distractor\n",
    "             class 1: one cross symbol as main predictor\n",
    "                      single solid rectangle in lower right corner as distractor\n",
    "        \n",
    "         test set:\n",
    "             as per training but with distractors removed in all cases or most cases...\n",
    "         \n",
    "\"\"\"\n",
    "\n",
    "def add_cross(img, class_label, cross_dims=1, add_noise=False):\n",
    "    \"\"\" Add the predictive cross(es) to the image arbirarily (may accidentally intersect the distractor, but\n",
    "            that's ok). Class label defines how many times the cross is placed to ensure no overlap\n",
    "    \n",
    "        Args: \n",
    "            class_label: 0 or 1\n",
    "            add_noise: True/False - if True, add blurring, randomly truncate cross limbs proportional to how\n",
    "                        long they are\n",
    "    \"\"\"\n",
    "\n",
    "    x_centres = np.random.choice(range(cross_dims, 28-cross_dims), size=[class_label + 1], replace=False)\n",
    "    y_centres = np.random.choice(range(cross_dims, 28-cross_dims), size=[class_label + 1], replace=False)\n",
    "    for i in range(class_label+1):\n",
    "\n",
    "        centre_x = x_centres[i]\n",
    "        centre_y = y_centres[i]\n",
    "        img[centre_x-cross_dims:centre_x+cross_dims+1, centre_y] = 1\n",
    "        img[centre_x, centre_y-cross_dims:centre_y+cross_dims+1] = 1\n",
    "\n",
    "def add_distractor(img, class_label, tag_dims=[2,3], add_noise=False):\n",
    "    \"\"\" Add a distractor for prediction based on the class label - zero puts it on the left, one puts it on the\n",
    "            right\n",
    "        \n",
    "        Args:\n",
    "            tag_dims: list of the sizes for the rectangular distractor tag\n",
    "            add_noise: True/False - if True, blurs the distractor and also shifts its location by some\n",
    "                        random amount fixed within 2-5 pixels from the edges of the image\n",
    "    \n",
    "    \"\"\"\n",
    "    tag_buffer = 3\n",
    "    size_x, size_y = img.shape\n",
    "    if class_label == 0:\n",
    "        # buffer of 3 from the border\n",
    "        img[size_y-tag_buffer-tag_dims[0]:size_y-tag_buffer, tag_buffer:tag_buffer+tag_dims[1]] = 1\n",
    "        tag_centre_x = (tag_buffer+tag_dims[1]) // 2\n",
    "        tag_centre_y = 1\n",
    "    else:\n",
    "        img[size_y-tag_buffer-tag_dims[0]:size_y-tag_buffer, size_x-tag_buffer-tag_dims[1]:size_x-tag_buffer] = 1\n",
    "    \n",
    "    \n",
    "img_size = 28\n",
    "label = 0\n",
    "img_base = np.zeros([img_size,img_size])\n",
    "add_cross(img_base, label, np.random.randint(1,3))\n",
    "# capture the original image before the distractor gets added and this forms the segmentation\n",
    "img_seg = img_base \n",
    "add_distractor(img_base, label)\n",
    "plt.imshow(img_base)\n",
    "plt.show()"
   ]
  },
  {
   "cell_type": "code",
   "execution_count": 111,
   "metadata": {},
   "outputs": [
    {
     "data": {
      "text/plain": [
       "' Dataset Builder\\n    Parameters: \\n\\n'"
      ]
     },
     "execution_count": 111,
     "metadata": {},
     "output_type": "execute_result"
    }
   ],
   "source": [
    "\"\"\" Dataset Builder\n",
    "    Parameters: \n",
    "\n",
    "\"\"\""
   ]
  },
  {
   "cell_type": "code",
   "execution_count": null,
   "metadata": {
    "collapsed": true
   },
   "outputs": [],
   "source": []
  }
 ],
 "metadata": {
  "kernelspec": {
   "display_name": "Python 3",
   "language": "python",
   "name": "python3"
  },
  "language_info": {
   "codemirror_mode": {
    "name": "ipython",
    "version": 3
   },
   "file_extension": ".py",
   "mimetype": "text/x-python",
   "name": "python",
   "nbconvert_exporter": "python",
   "pygments_lexer": "ipython3",
   "version": "3.6.6"
  }
 },
 "nbformat": 4,
 "nbformat_minor": 2
}
