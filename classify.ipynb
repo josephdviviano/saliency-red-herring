{
 "cells": [
  {
   "cell_type": "code",
   "execution_count": null,
   "metadata": {
    "collapsed": true
   },
   "outputs": [],
   "source": []
  },
  {
   "cell_type": "code",
   "execution_count": 1,
   "metadata": {
    "collapsed": false
   },
   "outputs": [],
   "source": [
    "import torch\n",
    "from torch.autograd import Variable\n",
    "import torchvision\n",
    "from torch import nn\n",
    "import numpy as np\n",
    "import sklearn, sklearn.model_selection\n",
    "import random, argparse, pickle, collections\n",
    "import datasets\n",
    "import matplotlib.pyplot as plt\n",
    "import models.simple_cnn\n",
    "%matplotlib inline"
   ]
  },
  {
   "cell_type": "code",
   "execution_count": null,
   "metadata": {
    "collapsed": true
   },
   "outputs": [],
   "source": []
  },
  {
   "cell_type": "code",
   "execution_count": 2,
   "metadata": {
    "collapsed": false
   },
   "outputs": [],
   "source": [
    "import sys\n",
    "import argparse\n",
    "\n",
    "sys.argv = ['a','-thing']\n",
    "    \n",
    "parser = argparse.ArgumentParser()\n",
    "\n",
    "parser.add_argument('-seed', type=int, nargs='?', default=0, help='random seed for split and init')\n",
    "parser.add_argument('-nsamples', type=int, nargs='?', default=256, help='Number of samples for train')\n",
    "parser.add_argument('-maxmasks', type=int, nargs='?', default=64, help='Number of masks to use for train')\n",
    "parser.add_argument('-maskblur', type=int, nargs='?', default=4, help='std for blur applied to each mask')\n",
    "parser.add_argument('-annealinglambda', type=float, default=1.0, help='Annealing')\n",
    "parser.add_argument('-lr', type=float, default=0.001)\n",
    "parser.add_argument('-batchsize', type=int, default=32)\n",
    "parser.add_argument('-thing', default=False, action='store_true', help='Do the thing')\n",
    "parser.add_argument('-thingstyle', type=int, default=1, help='Do the thing style')\n",
    "parser.add_argument('-dataset', type=str, default=\"lung\", help='name of dataset')\n",
    "\n",
    "args = parser.parse_args()"
   ]
  },
  {
   "cell_type": "code",
   "execution_count": 3,
   "metadata": {
    "collapsed": false
   },
   "outputs": [],
   "source": [
    "torch.manual_seed(args.seed);\n",
    "random.seed(args.seed)"
   ]
  },
  {
   "cell_type": "code",
   "execution_count": 4,
   "metadata": {
    "collapsed": false
   },
   "outputs": [],
   "source": [
    "cuda = torch.cuda.is_available()"
   ]
  },
  {
   "cell_type": "code",
   "execution_count": 66,
   "metadata": {
    "collapsed": false
   },
   "outputs": [
    {
     "name": "stdout",
     "output_type": "stream",
     "text": [
      "annealinglambda1.0-batchsize32-datasetlung-lr0.0001-maskblur3-maxmasks64-nsamples256-seed0-thingTrue-thingstyle1\n"
     ]
    }
   ],
   "source": [
    "exp_id = str(args).replace(\" \",\"\").replace(\"Namespace(\",\"\").replace(\")\",\"\").replace(\",\",\"-\").replace(\"=\",\"\").replace(\"'\",\"\")\n",
    "print(exp_id)"
   ]
  },
  {
   "cell_type": "code",
   "execution_count": null,
   "metadata": {
    "collapsed": false
   },
   "outputs": [],
   "source": [
    "open(\"stats/\" + exp_id + \".pkl\", \"r\")"
   ]
  },
  {
   "cell_type": "code",
   "execution_count": 69,
   "metadata": {
    "collapsed": false
   },
   "outputs": [
    {
     "ename": "SystemExit",
     "evalue": "",
     "output_type": "error",
     "traceback": [
      "An exception has occurred, use %tb to see the full traceback.\n",
      "\u001b[1;31mSystemExit\u001b[0m\n"
     ]
    },
    {
     "name": "stderr",
     "output_type": "stream",
     "text": [
      "To exit: use 'exit', 'quit', or Ctrl-D.\n"
     ]
    }
   ],
   "source": [
    "import os.path\n",
    "if (not os.path.isfile(\"stats/\" + exp_id + \".pkl\")):\n",
    "    sys.exit()"
   ]
  },
  {
   "cell_type": "code",
   "execution_count": 5,
   "metadata": {
    "collapsed": false
   },
   "outputs": [],
   "source": [
    "torch.manual_seed(args.seed)\n",
    "random.seed(args.seed)\n",
    "\n",
    "cuda = torch.cuda.is_available()\n",
    "\n",
    "mytransform = torchvision.transforms.Compose([\n",
    "    torchvision.transforms.Resize(100),\n",
    "    torchvision.transforms.ToTensor()])"
   ]
  },
  {
   "cell_type": "code",
   "execution_count": 6,
   "metadata": {
    "collapsed": false
   },
   "outputs": [],
   "source": [
    "\n",
    "\n",
    "# if args.dataset == \"tnt\":\n",
    "#     train, valid, test = [datasets.TNTDataset('/data/lisa/data/brats2013_tumor-notumor/',\n",
    "#                        mode=thismode,\n",
    "#                        transform=mytransform,\n",
    "#                        blur=args.maskblur,\n",
    "#                        nsamples=args.nsamples,\n",
    "#                        seed=args.seed, \n",
    "#                        maxmasks=args.maxmasks)\n",
    "#                        for thismode in [\"train\", \"valid\", \"test\"]]\n",
    "# elif args.dataset == \"lung\":\n",
    "#     train, valid, test = [datasets.MSDDataset('/data/lisa/data/MSD/MSD/Task06_Lung/',\n",
    "#                        mode=thismode,\n",
    "#                        transform=mytransform,\n",
    "#                        blur=args.maskblur,\n",
    "#                        nsamples=args.nsamples,\n",
    "#                        seed=args.seed, \n",
    "#                        maxmasks=args.maxmasks,\n",
    "#                        max_files=10)\n",
    "#                        for thismode in [\"train\", \"valid\", \"test\"]]\n",
    "# elif args.dataset == \"colon\":\n",
    "#     train, valid, test = [datasets.MSDDataset('/data/lisa/data/MSD/MSD/Task10_Colon/',\n",
    "#                        mode=thismode,\n",
    "#                        transform=mytransform,\n",
    "#                        blur=args.maskblur,\n",
    "#                        nsamples=args.nsamples,\n",
    "#                        seed=args.seed, \n",
    "#                        maxmasks=args.maxmasks, \n",
    "#                        max_files=10)\n",
    "#                        for thismode in [\"train\", \"valid\", \"test\"]]\n",
    "\n",
    "\n"
   ]
  },
  {
   "cell_type": "code",
   "execution_count": 7,
   "metadata": {
    "collapsed": false
   },
   "outputs": [],
   "source": [
    "# len(train.dataset[\"training\"])"
   ]
  },
  {
   "cell_type": "code",
   "execution_count": 20,
   "metadata": {
    "collapsed": false
   },
   "outputs": [],
   "source": [
    "reload(datasets);"
   ]
  },
  {
   "cell_type": "code",
   "execution_count": 32,
   "metadata": {
    "collapsed": false
   },
   "outputs": [
    {
     "name": "stdout",
     "output_type": "stream",
     "text": [
      "mode=train\n",
      "(u'./imagesTr/lung_064.nii.gz', u'./labelsTr/lung_064.nii.gz')\n",
      "Counter({False: 193, True: 55})\n",
      "(u'./imagesTr/lung_073.nii.gz', u'./labelsTr/lung_073.nii.gz')\n",
      "Counter({False: 447, True: 46})\n",
      "(u'./imagesTr/lung_096.nii.gz', u'./labelsTr/lung_096.nii.gz')\n",
      "Counter({False: 239, True: 12})\n",
      "(u'./imagesTr/lung_075.nii.gz', u'./labelsTr/lung_075.nii.gz')\n",
      "Counter({False: 388, True: 35})\n",
      "(u'./imagesTr/lung_048.nii.gz', u'./labelsTr/lung_048.nii.gz')\n",
      "Counter({False: 308, True: 14})\n",
      "Counter({False: 1575, True: 162})\n",
      "mode=valid\n",
      "(u'./imagesTr/lung_034.nii.gz', u'./labelsTr/lung_034.nii.gz')\n",
      "Counter({False: 269, True: 27})\n",
      "(u'./imagesTr/lung_031.nii.gz', u'./labelsTr/lung_031.nii.gz')\n",
      "Counter({False: 234, True: 70})\n",
      "(u'./imagesTr/lung_016.nii.gz', u'./labelsTr/lung_016.nii.gz')\n",
      "Counter({False: 207, True: 21})\n",
      "(u'./imagesTr/lung_058.nii.gz', u'./labelsTr/lung_058.nii.gz')\n",
      "Counter({False: 231, True: 10})\n",
      "(u'./imagesTr/lung_086.nii.gz', u'./labelsTr/lung_086.nii.gz')\n",
      "Counter({False: 226, True: 41})\n",
      "Counter({False: 1167, True: 169})\n",
      "mode=test\n",
      "(u'./imagesTr/lung_005.nii.gz', u'./labelsTr/lung_005.nii.gz')\n",
      "Counter({False: 303, True: 26})\n",
      "(u'./imagesTr/lung_001.nii.gz', u'./labelsTr/lung_001.nii.gz')\n",
      "Counter({False: 286, True: 18})\n",
      "(u'./imagesTr/lung_079.nii.gz', u'./labelsTr/lung_079.nii.gz')\n",
      "Counter({False: 231, True: 20})\n",
      "(u'./imagesTr/lung_070.nii.gz', u'./labelsTr/lung_070.nii.gz')\n",
      "Counter({False: 252, True: 14})\n",
      "(u'./imagesTr/lung_065.nii.gz', u'./labelsTr/lung_065.nii.gz')\n",
      "Counter({False: 109, True: 19})\n",
      "Counter({False: 1181, True: 97})\n"
     ]
    }
   ],
   "source": [
    "train = datasets.MSDDataset('/data/lisa/data/MSD/MSD/Task06_Lung/',\n",
    "                   mode=\"train\",\n",
    "                   #transform=mytransform,\n",
    "                   blur=args.maskblur,\n",
    "                   nsamples=64,\n",
    "                   seed=args.seed, \n",
    "                   maxmasks=args.maxmasks,\n",
    "                   max_files=5)\n",
    "valid = datasets.MSDDataset('/data/lisa/data/MSD/MSD/Task06_Lung/',\n",
    "                   mode=\"valid\",\n",
    "                   #transform=mytransform,\n",
    "                   blur=args.maskblur,\n",
    "                   nsamples=64,\n",
    "                   seed=args.seed, \n",
    "                   maxmasks=args.maxmasks,\n",
    "                   max_files=5)\n",
    "test = datasets.MSDDataset('/data/lisa/data/MSD/MSD/Task06_Lung/',\n",
    "                   mode=\"test\",\n",
    "                   #transform=mytransform,\n",
    "                   blur=args.maskblur,\n",
    "                   nsamples=64,\n",
    "                   seed=args.seed, \n",
    "                   maxmasks=args.maxmasks,\n",
    "                   max_files=5)\n",
    "                   #for thismode, files, num in [(\"train\", 60, 5000),(\"valid\", 10, 256),(\"test\",10,256),]]"
   ]
  },
  {
   "cell_type": "code",
   "execution_count": 33,
   "metadata": {
    "collapsed": true
   },
   "outputs": [],
   "source": [
    "args.seed = 0"
   ]
  },
  {
   "cell_type": "code",
   "execution_count": null,
   "metadata": {
    "collapsed": false
   },
   "outputs": [],
   "source": []
  },
  {
   "cell_type": "code",
   "execution_count": null,
   "metadata": {
    "collapsed": true
   },
   "outputs": [],
   "source": []
  },
  {
   "cell_type": "code",
   "execution_count": 34,
   "metadata": {
    "collapsed": false
   },
   "outputs": [
    {
     "name": "stdout",
     "output_type": "stream",
     "text": [
      "('classes train', Counter({False: 32, True: 32}))\n",
      "('classes valid', Counter({False: 32, True: 32}))\n",
      "('classes test', Counter({False: 32, True: 32}))\n",
      "Building valid set\n",
      "done\n",
      "Building test set\n",
      "done\n"
     ]
    }
   ],
   "source": [
    "print(\"classes train\", collections.Counter(train.labels))\n",
    "print(\"classes valid\", collections.Counter(valid.labels))\n",
    "print(\"classes test\", collections.Counter(test.labels))\n",
    "\n",
    "train_loader = torch.utils.data.DataLoader(dataset=train, batch_size=args.batchsize,num_workers=0,shuffle=True)\n",
    "valid_loader = torch.utils.data.DataLoader(dataset=valid, batch_size=len(valid),num_workers=8, shuffle=True)\n",
    "test_loader = torch.utils.data.DataLoader(dataset=test, batch_size=len(test), num_workers=8, shuffle=True)\n",
    "\n",
    "print(\"Building valid set\")\n",
    "valid_data = list(valid_loader)\n",
    "valid_x = Variable(valid_data[0][0][0]).cuda()\n",
    "valid_y = valid_data[0][1].cuda()\n",
    "print(\"done\")\n",
    "\n",
    "print(\"Building test set\")\n",
    "test_data = list(test_loader)\n",
    "test_x = Variable(test_data[0][0][0]).cuda()\n",
    "test_y = test_data[0][1].cuda()\n",
    "print(\"done\")"
   ]
  },
  {
   "cell_type": "code",
   "execution_count": 35,
   "metadata": {
    "collapsed": true
   },
   "outputs": [],
   "source": [
    "# train_loader = torch.utils.data.DataLoader(dataset=train, batch_size=64,num_workers=0,shuffle=True)\n"
   ]
  },
  {
   "cell_type": "code",
   "execution_count": 40,
   "metadata": {
    "collapsed": true
   },
   "outputs": [],
   "source": []
  },
  {
   "cell_type": "code",
   "execution_count": 450,
   "metadata": {
    "collapsed": false
   },
   "outputs": [
    {
     "name": "stdout",
     "output_type": "stream",
     "text": [
      "CNN(\n",
      "  (conv1): Sequential(\n",
      "    (0): Conv2d(1, 128, kernel_size=(3, 3), stride=(1, 1))\n",
      "    (1): Dropout(p=0.2)\n",
      "    (2): BatchNorm2d(128, eps=1e-05, momentum=0.1, affine=True, track_running_stats=True)\n",
      "    (3): ReLU()\n",
      "  )\n",
      "  (conv2): Sequential(\n",
      "    (0): Conv2d(128, 128, kernel_size=(3, 3), stride=(2, 2))\n",
      "    (1): Dropout(p=0.2)\n",
      "    (2): BatchNorm2d(128, eps=1e-05, momentum=0.1, affine=True, track_running_stats=True)\n",
      "    (3): ReLU()\n",
      "  )\n",
      "  (conv3): Sequential(\n",
      "    (0): Conv2d(128, 64, kernel_size=(6, 6), stride=(2, 2))\n",
      "    (1): ReLU()\n",
      "  )\n",
      "  (pool): MaxPool2d(kernel_size=20, stride=1, padding=0, dilation=1, ceil_mode=False)\n",
      "  (out): Sequential(\n",
      "    (0): Linear(in_features=576, out_features=100, bias=True)\n",
      "    (1): ReLU()\n",
      "    (2): Linear(in_features=100, out_features=2, bias=True)\n",
      "  )\n",
      ")\n"
     ]
    }
   ],
   "source": [
    "import models.simple_cnn2\n",
    "reload(models.simple_cnn2)\n",
    "\n",
    "torch.manual_seed(args.seed)\n",
    "random.seed(args.seed)\n",
    "\n",
    "cnn = models.simple_cnn2.CNN(train[0][0][0])\n",
    "cnn = cnn.cuda()\n",
    "\n",
    "print(cnn)\n"
   ]
  },
  {
   "cell_type": "code",
   "execution_count": 451,
   "metadata": {
    "collapsed": true
   },
   "outputs": [],
   "source": [
    "args.lr = 0.0001\n",
    "optimizer = torch.optim.Adam(cnn.parameters(), lr=args.lr)\n",
    "loss_func = nn.CrossEntropyLoss()"
   ]
  },
  {
   "cell_type": "code",
   "execution_count": 452,
   "metadata": {
    "collapsed": false
   },
   "outputs": [],
   "source": [
    "args.thingstyle = 1\n",
    "args.thing = True\n",
    "epoch = 0\n",
    "args.annealinglambda = 1"
   ]
  },
  {
   "cell_type": "code",
   "execution_count": null,
   "metadata": {
    "collapsed": true
   },
   "outputs": [],
   "source": []
  },
  {
   "cell_type": "code",
   "execution_count": null,
   "metadata": {
    "collapsed": true
   },
   "outputs": [],
   "source": []
  },
  {
   "cell_type": "code",
   "execution_count": null,
   "metadata": {
    "collapsed": true
   },
   "outputs": [],
   "source": []
  },
  {
   "cell_type": "code",
   "execution_count": null,
   "metadata": {
    "collapsed": false,
    "scrolled": false
   },
   "outputs": [
    {
     "name": "stderr",
     "output_type": "stream",
     "text": [
      "a:56: UserWarning: invalid index of a 0-dim tensor. This will be an error in PyTorch 0.5. Use tensor.item() to convert a 0-dim tensor to a Python number\n"
     ]
    },
    {
     "name": "stdout",
     "output_type": "stream",
     "text": [
      "('Epoch: ', 0, '| train loss: 0.6976', '| valid auc: 0.50', '| test auc: 0.50')\n",
      "('Epoch: ', 1, '| train loss: 0.6860', '| valid auc: 0.50', '| test auc: 0.52')\n",
      "('Epoch: ', 2, '| train loss: 0.6908', '| valid auc: 0.55', '| test auc: 0.53')\n",
      "('Epoch: ', 3, '| train loss: 0.6885', '| valid auc: 0.52', '| test auc: 0.53')\n",
      "('Epoch: ', 4, '| train loss: 0.6865', '| valid auc: 0.52', '| test auc: 0.52')\n",
      "('Epoch: ', 5, '| train loss: 0.6812', '| valid auc: 0.52', '| test auc: 0.53')\n",
      "('Epoch: ', 6, '| train loss: 0.6791', '| valid auc: 0.56', '| test auc: 0.55')\n",
      "('Epoch: ', 7, '| train loss: 0.6818', '| valid auc: 0.59', '| test auc: 0.58')\n",
      "('Epoch: ', 8, '| train loss: 0.6781', '| valid auc: 0.58', '| test auc: 0.59')\n",
      "('Epoch: ', 9, '| train loss: 0.6714', '| valid auc: 0.56', '| test auc: 0.59')\n",
      "('Epoch: ', 10, '| train loss: 0.6697', '| valid auc: 0.58', '| test auc: 0.62')\n",
      "('Epoch: ', 11, '| train loss: 0.6675', '| valid auc: 0.59', '| test auc: 0.64')\n",
      "('Epoch: ', 12, '| train loss: 0.6700', '| valid auc: 0.58', '| test auc: 0.64')\n",
      "('Epoch: ', 13, '| train loss: 0.6649', '| valid auc: 0.64', '| test auc: 0.64')\n",
      "('Epoch: ', 14, '| train loss: 0.6552', '| valid auc: 0.67', '| test auc: 0.62')\n",
      "('Epoch: ', 15, '| train loss: 0.6532', '| valid auc: 0.67', '| test auc: 0.69')\n",
      "('Epoch: ', 16, '| train loss: 0.6492', '| valid auc: 0.67', '| test auc: 0.67')\n",
      "('Epoch: ', 17, '| train loss: 0.6490', '| valid auc: 0.69', '| test auc: 0.66')\n",
      "('Epoch: ', 18, '| train loss: 0.6466', '| valid auc: 0.70', '| test auc: 0.67')\n",
      "('Epoch: ', 19, '| train loss: 0.6384', '| valid auc: 0.67', '| test auc: 0.64')\n",
      "('Epoch: ', 20, '| train loss: 0.6321', '| valid auc: 0.62', '| test auc: 0.64')\n",
      "('Epoch: ', 21, '| train loss: 0.6299', '| valid auc: 0.64', '| test auc: 0.64')\n",
      "('Epoch: ', 22, '| train loss: 0.6228', '| valid auc: 0.66', '| test auc: 0.64')\n",
      "('Epoch: ', 23, '| train loss: 0.6194', '| valid auc: 0.70', '| test auc: 0.66')\n",
      "('Epoch: ', 24, '| train loss: 0.6177', '| valid auc: 0.73', '| test auc: 0.70')\n",
      "('Epoch: ', 25, '| train loss: 0.6081', '| valid auc: 0.70', '| test auc: 0.64')\n",
      "('Epoch: ', 26, '| train loss: 0.6009', '| valid auc: 0.66', '| test auc: 0.62')\n",
      "('Epoch: ', 27, '| train loss: 0.5889', '| valid auc: 0.67', '| test auc: 0.62')\n",
      "('Epoch: ', 28, '| train loss: 0.5814', '| valid auc: 0.72', '| test auc: 0.64')\n",
      "('Epoch: ', 29, '| train loss: 0.5728', '| valid auc: 0.70', '| test auc: 0.66')\n",
      "('Epoch: ', 30, '| train loss: 0.5752', '| valid auc: 0.72', '| test auc: 0.69')\n",
      "('Epoch: ', 31, '| train loss: 0.5684', '| valid auc: 0.72', '| test auc: 0.69')\n",
      "('Epoch: ', 32, '| train loss: 0.5375', '| valid auc: 0.72', '| test auc: 0.66')\n",
      "('Epoch: ', 33, '| train loss: 0.5367', '| valid auc: 0.72', '| test auc: 0.66')\n",
      "('Epoch: ', 34, '| train loss: 0.5252', '| valid auc: 0.72', '| test auc: 0.66')\n",
      "('Epoch: ', 35, '| train loss: 0.5400', '| valid auc: 0.72', '| test auc: 0.66')\n",
      "('Epoch: ', 36, '| train loss: 0.5431', '| valid auc: 0.70', '| test auc: 0.70')\n",
      "('Epoch: ', 37, '| train loss: 0.5081', '| valid auc: 0.72', '| test auc: 0.69')\n",
      "('Epoch: ', 38, '| train loss: 0.5066', '| valid auc: 0.72', '| test auc: 0.64')\n",
      "('Epoch: ', 39, '| train loss: 0.4993', '| valid auc: 0.72', '| test auc: 0.64')\n",
      "('Epoch: ', 40, '| train loss: 0.4977', '| valid auc: 0.73', '| test auc: 0.66')\n",
      "('Epoch: ', 41, '| train loss: 0.4634', '| valid auc: 0.72', '| test auc: 0.69')\n",
      "('Epoch: ', 42, '| train loss: 0.4708', '| valid auc: 0.73', '| test auc: 0.67')\n",
      "('Epoch: ', 43, '| train loss: 0.4596', '| valid auc: 0.73', '| test auc: 0.66')\n",
      "('Epoch: ', 44, '| train loss: 0.4480', '| valid auc: 0.72', '| test auc: 0.66')\n",
      "('Epoch: ', 45, '| train loss: 0.4393', '| valid auc: 0.72', '| test auc: 0.66')\n",
      "('Epoch: ', 46, '| train loss: 0.4378', '| valid auc: 0.73', '| test auc: 0.67')\n",
      "('Epoch: ', 47, '| train loss: 0.4268', '| valid auc: 0.73', '| test auc: 0.67')\n",
      "('Epoch: ', 48, '| train loss: 0.4309', '| valid auc: 0.73', '| test auc: 0.67')\n",
      "('Epoch: ', 49, '| train loss: 0.4138', '| valid auc: 0.72', '| test auc: 0.66')\n",
      "('Epoch: ', 50, '| train loss: 0.4049', '| valid auc: 0.72', '| test auc: 0.66')\n",
      "('Epoch: ', 51, '| train loss: 0.4066', '| valid auc: 0.73', '| test auc: 0.67')\n",
      "('Epoch: ', 52, '| train loss: 0.4104', '| valid auc: 0.72', '| test auc: 0.69')\n",
      "('Epoch: ', 53, '| train loss: 0.4119', '| valid auc: 0.72', '| test auc: 0.67')\n",
      "('Epoch: ', 54, '| train loss: 0.3722', '| valid auc: 0.72', '| test auc: 0.67')\n",
      "('Epoch: ', 55, '| train loss: 0.3674', '| valid auc: 0.72', '| test auc: 0.67')\n",
      "('Epoch: ', 56, '| train loss: 0.3660', '| valid auc: 0.72', '| test auc: 0.67')\n",
      "('Epoch: ', 57, '| train loss: 0.3557', '| valid auc: 0.73', '| test auc: 0.67')\n",
      "('Epoch: ', 58, '| train loss: 0.3719', '| valid auc: 0.73', '| test auc: 0.67')\n",
      "('Epoch: ', 59, '| train loss: 0.3683', '| valid auc: 0.72', '| test auc: 0.67')\n",
      "('Epoch: ', 60, '| train loss: 0.3541', '| valid auc: 0.72', '| test auc: 0.67')\n",
      "('Epoch: ', 61, '| train loss: 0.3433', '| valid auc: 0.73', '| test auc: 0.67')\n",
      "('Epoch: ', 62, '| train loss: 0.3332', '| valid auc: 0.73', '| test auc: 0.69')\n",
      "('Epoch: ', 63, '| train loss: 0.3541', '| valid auc: 0.72', '| test auc: 0.67')\n",
      "('Epoch: ', 64, '| train loss: 0.3328', '| valid auc: 0.72', '| test auc: 0.66')\n",
      "('Epoch: ', 65, '| train loss: 0.3094', '| valid auc: 0.72', '| test auc: 0.67')\n",
      "('Epoch: ', 66, '| train loss: 0.3173', '| valid auc: 0.72', '| test auc: 0.67')\n",
      "('Epoch: ', 67, '| train loss: 0.3117', '| valid auc: 0.72', '| test auc: 0.67')\n",
      "('Epoch: ', 68, '| train loss: 0.3190', '| valid auc: 0.72', '| test auc: 0.67')\n",
      "('Epoch: ', 69, '| train loss: 0.3102', '| valid auc: 0.72', '| test auc: 0.67')\n",
      "('Epoch: ', 70, '| train loss: 0.2999', '| valid auc: 0.72', '| test auc: 0.69')\n",
      "('Epoch: ', 71, '| train loss: 0.3063', '| valid auc: 0.72', '| test auc: 0.67')\n",
      "('Epoch: ', 72, '| train loss: 0.3088', '| valid auc: 0.72', '| test auc: 0.66')\n",
      "('Epoch: ', 73, '| train loss: 0.2972', '| valid auc: 0.72', '| test auc: 0.67')\n",
      "('Epoch: ', 74, '| train loss: 0.2863', '| valid auc: 0.72', '| test auc: 0.69')\n",
      "('Epoch: ', 75, '| train loss: 0.2897', '| valid auc: 0.72', '| test auc: 0.67')\n",
      "('Epoch: ', 76, '| train loss: 0.2968', '| valid auc: 0.72', '| test auc: 0.64')\n",
      "('Epoch: ', 77, '| train loss: 0.3046', '| valid auc: 0.69', '| test auc: 0.62')\n",
      "('Epoch: ', 78, '| train loss: 0.2984', '| valid auc: 0.72', '| test auc: 0.67')\n",
      "('Epoch: ', 79, '| train loss: 0.3044', '| valid auc: 0.72', '| test auc: 0.67')\n",
      "('Epoch: ', 80, '| train loss: 0.2632', '| valid auc: 0.72', '| test auc: 0.62')\n",
      "('Epoch: ', 81, '| train loss: 0.2437', '| valid auc: 0.70', '| test auc: 0.62')\n",
      "('Epoch: ', 82, '| train loss: 0.2725', '| valid auc: 0.72', '| test auc: 0.69')\n",
      "('Epoch: ', 83, '| train loss: 0.2576', '| valid auc: 0.72', '| test auc: 0.66')\n",
      "('Epoch: ', 84, '| train loss: 0.2541', '| valid auc: 0.70', '| test auc: 0.62')\n",
      "('Epoch: ', 85, '| train loss: 0.2462', '| valid auc: 0.73', '| test auc: 0.62')\n",
      "('Epoch: ', 86, '| train loss: 0.2393', '| valid auc: 0.72', '| test auc: 0.64')\n",
      "('Epoch: ', 87, '| train loss: 0.2542', '| valid auc: 0.72', '| test auc: 0.67')\n",
      "('Epoch: ', 88, '| train loss: 0.2249', '| valid auc: 0.72', '| test auc: 0.64')\n",
      "('Epoch: ', 89, '| train loss: 0.2268', '| valid auc: 0.69', '| test auc: 0.62')\n",
      "('Epoch: ', 90, '| train loss: 0.2188', '| valid auc: 0.70', '| test auc: 0.62')\n",
      "('Epoch: ', 91, '| train loss: 0.2440', '| valid auc: 0.72', '| test auc: 0.66')\n",
      "('Epoch: ', 92, '| train loss: 0.2331', '| valid auc: 0.70', '| test auc: 0.62')\n",
      "('Epoch: ', 93, '| train loss: 0.2325', '| valid auc: 0.70', '| test auc: 0.62')\n",
      "('Epoch: ', 94, '| train loss: 0.2167', '| valid auc: 0.70', '| test auc: 0.62')\n",
      "('Epoch: ', 95, '| train loss: 0.1985', '| valid auc: 0.70', '| test auc: 0.64')\n",
      "('Epoch: ', 96, '| train loss: 0.2014', '| valid auc: 0.70', '| test auc: 0.64')\n",
      "('Epoch: ', 97, '| train loss: 0.2246', '| valid auc: 0.72', '| test auc: 0.66')\n",
      "('Epoch: ', 98, '| train loss: 0.2061', '| valid auc: 0.67', '| test auc: 0.61')\n",
      "('Epoch: ', 99, '| train loss: 0.2069', '| valid auc: 0.70', '| test auc: 0.62')\n",
      "('Epoch: ', 100, '| train loss: 0.1833', '| valid auc: 0.69', '| test auc: 0.64')\n",
      "('Epoch: ', 101, '| train loss: 0.2005', '| valid auc: 0.70', '| test auc: 0.66')\n",
      "('Epoch: ', 102, '| train loss: 0.2190', '| valid auc: 0.70', '| test auc: 0.66')\n",
      "('Epoch: ', 103, '| train loss: 0.2039', '| valid auc: 0.61', '| test auc: 0.61')\n",
      "('Epoch: ', 104, '| train loss: 0.1849', '| valid auc: 0.61', '| test auc: 0.61')\n",
      "('Epoch: ', 105, '| train loss: 0.2050', '| valid auc: 0.70', '| test auc: 0.66')\n",
      "('Epoch: ', 106, '| train loss: 0.2340', '| valid auc: 0.70', '| test auc: 0.66')\n",
      "('Epoch: ', 107, '| train loss: 0.2003', '| valid auc: 0.58', '| test auc: 0.61')\n",
      "('Epoch: ', 108, '| train loss: 0.2002', '| valid auc: 0.58', '| test auc: 0.61')\n",
      "('Epoch: ', 109, '| train loss: 0.2154', '| valid auc: 0.67', '| test auc: 0.66')\n",
      "('Epoch: ', 110, '| train loss: 0.1834', '| valid auc: 0.70', '| test auc: 0.66')\n",
      "('Epoch: ', 111, '| train loss: 0.1858', '| valid auc: 0.58', '| test auc: 0.61')\n",
      "('Epoch: ', 112, '| train loss: 0.1850', '| valid auc: 0.56', '| test auc: 0.61')\n",
      "('Epoch: ', 113, '| train loss: 0.1870', '| valid auc: 0.59', '| test auc: 0.61')\n",
      "('Epoch: ', 114, '| train loss: 0.2028', '| valid auc: 0.70', '| test auc: 0.66')\n",
      "('Epoch: ', 115, '| train loss: 0.2071', '| valid auc: 0.59', '| test auc: 0.61')\n",
      "('Epoch: ', 116, '| train loss: 0.1822', '| valid auc: 0.56', '| test auc: 0.61')\n",
      "('Epoch: ', 117, '| train loss: 0.1886', '| valid auc: 0.69', '| test auc: 0.66')\n",
      "('Epoch: ', 118, '| train loss: 0.1625', '| valid auc: 0.69', '| test auc: 0.66')\n",
      "('Epoch: ', 119, '| train loss: 0.1627', '| valid auc: 0.61', '| test auc: 0.62')\n",
      "('Epoch: ', 120, '| train loss: 0.1682', '| valid auc: 0.58', '| test auc: 0.61')\n",
      "('Epoch: ', 121, '| train loss: 0.1680', '| valid auc: 0.64', '| test auc: 0.66')\n",
      "('Epoch: ', 122, '| train loss: 0.1666', '| valid auc: 0.70', '| test auc: 0.66')\n",
      "('Epoch: ', 123, '| train loss: 0.1823', '| valid auc: 0.67', '| test auc: 0.66')\n",
      "('Epoch: ', 124, '| train loss: 0.1646', '| valid auc: 0.59', '| test auc: 0.64')\n",
      "('Epoch: ', 125, '| train loss: 0.1619', '| valid auc: 0.64', '| test auc: 0.66')\n",
      "('Epoch: ', 126, '| train loss: 0.1677', '| valid auc: 0.70', '| test auc: 0.66')\n",
      "('Epoch: ', 127, '| train loss: 0.1601', '| valid auc: 0.69', '| test auc: 0.66')\n",
      "('Epoch: ', 128, '| train loss: 0.1747', '| valid auc: 0.64', '| test auc: 0.66')\n",
      "('Epoch: ', 129, '| train loss: 0.1669', '| valid auc: 0.61', '| test auc: 0.66')\n",
      "('Epoch: ', 130, '| train loss: 0.1816', '| valid auc: 0.70', '| test auc: 0.67')\n",
      "('Epoch: ', 131, '| train loss: 0.1672', '| valid auc: 0.67', '| test auc: 0.66')\n",
      "('Epoch: ', 132, '| train loss: 0.1531', '| valid auc: 0.58', '| test auc: 0.66')\n",
      "('Epoch: ', 133, '| train loss: 0.1658', '| valid auc: 0.58', '| test auc: 0.66')\n",
      "('Epoch: ', 134, '| train loss: 0.1749', '| valid auc: 0.72', '| test auc: 0.67')\n",
      "('Epoch: ', 135, '| train loss: 0.1647', '| valid auc: 0.67', '| test auc: 0.67')\n",
      "('Epoch: ', 136, '| train loss: 0.1310', '| valid auc: 0.58', '| test auc: 0.66')\n",
      "('Epoch: ', 137, '| train loss: 0.1568', '| valid auc: 0.58', '| test auc: 0.66')\n",
      "('Epoch: ', 138, '| train loss: 0.1460', '| valid auc: 0.67', '| test auc: 0.66')\n",
      "('Epoch: ', 139, '| train loss: 0.1459', '| valid auc: 0.67', '| test auc: 0.66')\n",
      "('Epoch: ', 140, '| train loss: 0.1399', '| valid auc: 0.58', '| test auc: 0.66')\n",
      "('Epoch: ', 141, '| train loss: 0.1376', '| valid auc: 0.61', '| test auc: 0.66')\n",
      "('Epoch: ', 142, '| train loss: 0.1436', '| valid auc: 0.62', '| test auc: 0.66')\n",
      "('Epoch: ', 143, '| train loss: 0.1440', '| valid auc: 0.64', '| test auc: 0.66')\n",
      "('Epoch: ', 144, '| train loss: 0.1551', '| valid auc: 0.61', '| test auc: 0.66')\n",
      "('Epoch: ', 145, '| train loss: 0.1304', '| valid auc: 0.58', '| test auc: 0.66')\n",
      "('Epoch: ', 146, '| train loss: 0.1454', '| valid auc: 0.59', '| test auc: 0.66')\n",
      "('Epoch: ', 147, '| train loss: 0.1396', '| valid auc: 0.62', '| test auc: 0.66')\n",
      "('Epoch: ', 148, '| train loss: 0.1165', '| valid auc: 0.64', '| test auc: 0.66')\n",
      "('Epoch: ', 149, '| train loss: 0.1517', '| valid auc: 0.62', '| test auc: 0.66')\n",
      "('Epoch: ', 150, '| train loss: 0.1201', '| valid auc: 0.61', '| test auc: 0.66')\n",
      "('Epoch: ', 151, '| train loss: 0.1156', '| valid auc: 0.62', '| test auc: 0.66')\n",
      "('Epoch: ', 152, '| train loss: 0.1041', '| valid auc: 0.64', '| test auc: 0.66')\n",
      "('Epoch: ', 153, '| train loss: 0.1366', '| valid auc: 0.62', '| test auc: 0.66')\n",
      "('Epoch: ', 154, '| train loss: 0.1508', '| valid auc: 0.56', '| test auc: 0.64')\n",
      "('Epoch: ', 155, '| train loss: 0.1192', '| valid auc: 0.59', '| test auc: 0.66')\n",
      "('Epoch: ', 156, '| train loss: 0.1171', '| valid auc: 0.66', '| test auc: 0.67')\n",
      "('Epoch: ', 157, '| train loss: 0.1297', '| valid auc: 0.62', '| test auc: 0.66')\n",
      "('Epoch: ', 158, '| train loss: 0.0960', '| valid auc: 0.59', '| test auc: 0.66')\n",
      "('Epoch: ', 159, '| train loss: 0.1057', '| valid auc: 0.59', '| test auc: 0.66')\n",
      "('Epoch: ', 160, '| train loss: 0.1189', '| valid auc: 0.64', '| test auc: 0.66')\n",
      "('Epoch: ', 161, '| train loss: 0.1232', '| valid auc: 0.59', '| test auc: 0.66')\n",
      "('Epoch: ', 162, '| train loss: 0.1090', '| valid auc: 0.59', '| test auc: 0.66')\n",
      "('Epoch: ', 163, '| train loss: 0.1126', '| valid auc: 0.66', '| test auc: 0.67')\n",
      "('Epoch: ', 164, '| train loss: 0.1363', '| valid auc: 0.58', '| test auc: 0.66')\n",
      "('Epoch: ', 165, '| train loss: 0.0931', '| valid auc: 0.58', '| test auc: 0.66')\n",
      "('Epoch: ', 166, '| train loss: 0.1453', '| valid auc: 0.64', '| test auc: 0.67')\n",
      "('Epoch: ', 167, '| train loss: 0.1182', '| valid auc: 0.59', '| test auc: 0.66')\n",
      "('Epoch: ', 168, '| train loss: 0.1397', '| valid auc: 0.58', '| test auc: 0.66')\n",
      "('Epoch: ', 169, '| train loss: 0.1377', '| valid auc: 0.64', '| test auc: 0.67')\n",
      "('Epoch: ', 170, '| train loss: 0.1112', '| valid auc: 0.64', '| test auc: 0.67')\n",
      "('Epoch: ', 171, '| train loss: 0.1055', '| valid auc: 0.59', '| test auc: 0.66')\n",
      "('Epoch: ', 172, '| train loss: 0.1026', '| valid auc: 0.59', '| test auc: 0.66')\n",
      "('Epoch: ', 173, '| train loss: 0.0943', '| valid auc: 0.64', '| test auc: 0.67')\n",
      "('Epoch: ', 174, '| train loss: 0.1304', '| valid auc: 0.64', '| test auc: 0.69')\n",
      "('Epoch: ', 175, '| train loss: 0.1461', '| valid auc: 0.52', '| test auc: 0.66')\n",
      "('Epoch: ', 176, '| train loss: 0.1135', '| valid auc: 0.55', '| test auc: 0.66')\n",
      "('Epoch: ', 177, '| train loss: 0.0996', '| valid auc: 0.64', '| test auc: 0.67')\n",
      "('Epoch: ', 178, '| train loss: 0.1136', '| valid auc: 0.62', '| test auc: 0.67')\n",
      "('Epoch: ', 179, '| train loss: 0.0916', '| valid auc: 0.58', '| test auc: 0.66')\n",
      "('Epoch: ', 180, '| train loss: 0.1060', '| valid auc: 0.53', '| test auc: 0.66')\n",
      "('Epoch: ', 181, '| train loss: 0.1265', '| valid auc: 0.64', '| test auc: 0.67')\n",
      "('Epoch: ', 182, '| train loss: 0.0889', '| valid auc: 0.62', '| test auc: 0.67')\n",
      "('Epoch: ', 183, '| train loss: 0.0987', '| valid auc: 0.62', '| test auc: 0.67')\n",
      "('Epoch: ', 184, '| train loss: 0.0793', '| valid auc: 0.58', '| test auc: 0.67')\n",
      "('Epoch: ', 185, '| train loss: 0.0916', '| valid auc: 0.59', '| test auc: 0.67')\n",
      "('Epoch: ', 186, '| train loss: 0.1095', '| valid auc: 0.64', '| test auc: 0.67')\n",
      "('Epoch: ', 187, '| train loss: 0.0772', '| valid auc: 0.64', '| test auc: 0.67')\n",
      "('Epoch: ', 188, '| train loss: 0.0695', '| valid auc: 0.58', '| test auc: 0.67')\n",
      "('Epoch: ', 189, '| train loss: 0.0950', '| valid auc: 0.59', '| test auc: 0.67')\n",
      "('Epoch: ', 190, '| train loss: 0.0767', '| valid auc: 0.62', '| test auc: 0.67')\n",
      "('Epoch: ', 191, '| train loss: 0.0723', '| valid auc: 0.62', '| test auc: 0.67')\n",
      "('Epoch: ', 192, '| train loss: 0.0836', '| valid auc: 0.58', '| test auc: 0.67')\n",
      "('Epoch: ', 193, '| train loss: 0.0923', '| valid auc: 0.58', '| test auc: 0.67')\n",
      "('Epoch: ', 194, '| train loss: 0.0659', '| valid auc: 0.62', '| test auc: 0.67')\n",
      "('Epoch: ', 195, '| train loss: 0.0716', '| valid auc: 0.61', '| test auc: 0.67')\n",
      "('Epoch: ', 196, '| train loss: 0.0680', '| valid auc: 0.59', '| test auc: 0.67')\n",
      "('Epoch: ', 197, '| train loss: 0.0776', '| valid auc: 0.59', '| test auc: 0.67')\n",
      "('Epoch: ', 198, '| train loss: 0.0648', '| valid auc: 0.62', '| test auc: 0.67')\n",
      "('Epoch: ', 199, '| train loss: 0.0779', '| valid auc: 0.62', '| test auc: 0.67')\n",
      "('Epoch: ', 200, '| train loss: 0.0618', '| valid auc: 0.58', '| test auc: 0.67')\n",
      "('Epoch: ', 201, '| train loss: 0.0725', '| valid auc: 0.58', '| test auc: 0.67')\n",
      "('Epoch: ', 202, '| train loss: 0.0796', '| valid auc: 0.61', '| test auc: 0.67')\n",
      "('Epoch: ', 203, '| train loss: 0.0624', '| valid auc: 0.62', '| test auc: 0.69')\n",
      "('Epoch: ', 204, '| train loss: 0.0630', '| valid auc: 0.61', '| test auc: 0.67')\n",
      "('Epoch: ', 205, '| train loss: 0.0630', '| valid auc: 0.58', '| test auc: 0.66')\n",
      "('Epoch: ', 206, '| train loss: 0.0769', '| valid auc: 0.56', '| test auc: 0.66')\n",
      "('Epoch: ', 207, '| train loss: 0.0714', '| valid auc: 0.62', '| test auc: 0.67')\n",
      "('Epoch: ', 208, '| train loss: 0.0691', '| valid auc: 0.62', '| test auc: 0.67')\n",
      "('Epoch: ', 209, '| train loss: 0.0962', '| valid auc: 0.61', '| test auc: 0.66')\n",
      "('Epoch: ', 210, '| train loss: 0.0735', '| valid auc: 0.62', '| test auc: 0.67')\n",
      "('Epoch: ', 211, '| train loss: 0.0450', '| valid auc: 0.62', '| test auc: 0.67')\n",
      "('Epoch: ', 212, '| train loss: 0.0581', '| valid auc: 0.62', '| test auc: 0.67')\n",
      "('Epoch: ', 213, '| train loss: 0.0659', '| valid auc: 0.62', '| test auc: 0.67')\n",
      "('Epoch: ', 214, '| train loss: 0.0641', '| valid auc: 0.62', '| test auc: 0.67')\n",
      "('Epoch: ', 215, '| train loss: 0.0448', '| valid auc: 0.62', '| test auc: 0.66')\n",
      "('Epoch: ', 216, '| train loss: 0.0547', '| valid auc: 0.62', '| test auc: 0.67')\n",
      "('Epoch: ', 217, '| train loss: 0.0858', '| valid auc: 0.62', '| test auc: 0.67')\n",
      "('Epoch: ', 218, '| train loss: 0.0837', '| valid auc: 0.62', '| test auc: 0.67')\n",
      "('Epoch: ', 219, '| train loss: 0.0781', '| valid auc: 0.62', '| test auc: 0.67')\n",
      "('Epoch: ', 220, '| train loss: 0.0491', '| valid auc: 0.62', '| test auc: 0.67')\n",
      "('Epoch: ', 221, '| train loss: 0.0527', '| valid auc: 0.62', '| test auc: 0.67')\n",
      "('Epoch: ', 222, '| train loss: 0.0451', '| valid auc: 0.62', '| test auc: 0.67')\n",
      "('Epoch: ', 223, '| train loss: 0.0489', '| valid auc: 0.62', '| test auc: 0.67')\n",
      "('Epoch: ', 224, '| train loss: 0.0516', '| valid auc: 0.64', '| test auc: 0.67')\n",
      "('Epoch: ', 225, '| train loss: 0.0786', '| valid auc: 0.61', '| test auc: 0.67')\n",
      "('Epoch: ', 226, '| train loss: 0.0528', '| valid auc: 0.62', '| test auc: 0.67')\n",
      "('Epoch: ', 227, '| train loss: 0.0610', '| valid auc: 0.66', '| test auc: 0.69')\n",
      "('Epoch: ', 228, '| train loss: 0.0765', '| valid auc: 0.61', '| test auc: 0.67')\n",
      "('Epoch: ', 229, '| train loss: 0.0604', '| valid auc: 0.59', '| test auc: 0.66')\n",
      "('Epoch: ', 230, '| train loss: 0.0626', '| valid auc: 0.62', '| test auc: 0.67')\n",
      "('Epoch: ', 231, '| train loss: 0.0623', '| valid auc: 0.62', '| test auc: 0.67')\n",
      "('Epoch: ', 232, '| train loss: 0.0578', '| valid auc: 0.62', '| test auc: 0.67')\n",
      "('Epoch: ', 233, '| train loss: 0.0610', '| valid auc: 0.64', '| test auc: 0.67')\n",
      "('Epoch: ', 234, '| train loss: 0.0591', '| valid auc: 0.62', '| test auc: 0.67')\n",
      "('Epoch: ', 235, '| train loss: 0.0655', '| valid auc: 0.62', '| test auc: 0.67')\n",
      "('Epoch: ', 236, '| train loss: 0.0611', '| valid auc: 0.61', '| test auc: 0.67')\n",
      "('Epoch: ', 237, '| train loss: 0.0517', '| valid auc: 0.61', '| test auc: 0.67')\n",
      "('Epoch: ', 238, '| train loss: 0.0445', '| valid auc: 0.62', '| test auc: 0.67')\n",
      "('Epoch: ', 239, '| train loss: 0.0601', '| valid auc: 0.62', '| test auc: 0.67')\n",
      "('Epoch: ', 240, '| train loss: 0.0371', '| valid auc: 0.62', '| test auc: 0.67')\n",
      "('Epoch: ', 241, '| train loss: 0.0492', '| valid auc: 0.62', '| test auc: 0.67')\n",
      "('Epoch: ', 242, '| train loss: 0.0426', '| valid auc: 0.62', '| test auc: 0.67')\n",
      "('Epoch: ', 243, '| train loss: 0.0518', '| valid auc: 0.64', '| test auc: 0.67')\n",
      "('Epoch: ', 244, '| train loss: 0.0461', '| valid auc: 0.62', '| test auc: 0.67')\n",
      "('Epoch: ', 245, '| train loss: 0.0560', '| valid auc: 0.62', '| test auc: 0.67')\n",
      "('Epoch: ', 246, '| train loss: 0.0476', '| valid auc: 0.62', '| test auc: 0.67')\n",
      "('Epoch: ', 247, '| train loss: 0.0365', '| valid auc: 0.62', '| test auc: 0.67')\n",
      "('Epoch: ', 248, '| train loss: 0.0417', '| valid auc: 0.62', '| test auc: 0.67')\n",
      "('Epoch: ', 249, '| train loss: 0.0442', '| valid auc: 0.62', '| test auc: 0.67')\n",
      "('Epoch: ', 250, '| train loss: 0.0543', '| valid auc: 0.64', '| test auc: 0.67')\n",
      "('Epoch: ', 251, '| train loss: 0.0531', '| valid auc: 0.62', '| test auc: 0.67')\n",
      "('Epoch: ', 252, '| train loss: 0.0451', '| valid auc: 0.62', '| test auc: 0.67')\n",
      "('Epoch: ', 253, '| train loss: 0.0430', '| valid auc: 0.62', '| test auc: 0.67')\n",
      "('Epoch: ', 254, '| train loss: 0.0433', '| valid auc: 0.62', '| test auc: 0.67')\n",
      "('Epoch: ', 255, '| train loss: 0.0518', '| valid auc: 0.62', '| test auc: 0.67')\n",
      "('Epoch: ', 256, '| train loss: 0.0515', '| valid auc: 0.61', '| test auc: 0.67')\n",
      "('Epoch: ', 257, '| train loss: 0.0390', '| valid auc: 0.61', '| test auc: 0.67')\n",
      "('Epoch: ', 258, '| train loss: 0.0498', '| valid auc: 0.62', '| test auc: 0.67')\n",
      "('Epoch: ', 259, '| train loss: 0.0519', '| valid auc: 0.62', '| test auc: 0.67')\n",
      "('Epoch: ', 260, '| train loss: 0.0507', '| valid auc: 0.62', '| test auc: 0.67')\n",
      "('Epoch: ', 261, '| train loss: 0.0449', '| valid auc: 0.61', '| test auc: 0.67')\n",
      "('Epoch: ', 262, '| train loss: 0.0372', '| valid auc: 0.61', '| test auc: 0.67')\n",
      "('Epoch: ', 263, '| train loss: 0.0508', '| valid auc: 0.62', '| test auc: 0.67')\n",
      "('Epoch: ', 264, '| train loss: 0.0416', '| valid auc: 0.61', '| test auc: 0.67')\n",
      "('Epoch: ', 265, '| train loss: 0.0430', '| valid auc: 0.59', '| test auc: 0.67')\n",
      "('Epoch: ', 266, '| train loss: 0.0371', '| valid auc: 0.61', '| test auc: 0.67')\n",
      "('Epoch: ', 267, '| train loss: 0.0379', '| valid auc: 0.62', '| test auc: 0.67')\n",
      "('Epoch: ', 268, '| train loss: 0.0468', '| valid auc: 0.62', '| test auc: 0.67')\n",
      "('Epoch: ', 269, '| train loss: 0.0406', '| valid auc: 0.61', '| test auc: 0.67')\n",
      "('Epoch: ', 270, '| train loss: 0.0437', '| valid auc: 0.59', '| test auc: 0.67')\n",
      "('Epoch: ', 271, '| train loss: 0.0469', '| valid auc: 0.61', '| test auc: 0.67')\n",
      "('Epoch: ', 272, '| train loss: 0.0431', '| valid auc: 0.62', '| test auc: 0.67')\n",
      "('Epoch: ', 273, '| train loss: 0.0409', '| valid auc: 0.62', '| test auc: 0.67')\n",
      "('Epoch: ', 274, '| train loss: 0.0325', '| valid auc: 0.59', '| test auc: 0.67')\n",
      "('Epoch: ', 275, '| train loss: 0.0425', '| valid auc: 0.59', '| test auc: 0.67')\n",
      "('Epoch: ', 276, '| train loss: 0.0296', '| valid auc: 0.59', '| test auc: 0.67')\n",
      "('Epoch: ', 277, '| train loss: 0.0423', '| valid auc: 0.61', '| test auc: 0.67')\n",
      "('Epoch: ', 278, '| train loss: 0.0598', '| valid auc: 0.61', '| test auc: 0.67')\n",
      "('Epoch: ', 279, '| train loss: 0.0453', '| valid auc: 0.62', '| test auc: 0.67')\n",
      "('Epoch: ', 280, '| train loss: 0.0397', '| valid auc: 0.61', '| test auc: 0.67')\n",
      "('Epoch: ', 281, '| train loss: 0.0365', '| valid auc: 0.59', '| test auc: 0.66')\n",
      "('Epoch: ', 282, '| train loss: 0.0418', '| valid auc: 0.61', '| test auc: 0.67')\n",
      "('Epoch: ', 283, '| train loss: 0.0367', '| valid auc: 0.61', '| test auc: 0.67')\n",
      "('Epoch: ', 284, '| train loss: 0.0357', '| valid auc: 0.59', '| test auc: 0.66')\n",
      "('Epoch: ', 285, '| train loss: 0.0360', '| valid auc: 0.61', '| test auc: 0.67')\n",
      "('Epoch: ', 286, '| train loss: 0.0418', '| valid auc: 0.62', '| test auc: 0.67')\n",
      "('Epoch: ', 287, '| train loss: 0.0390', '| valid auc: 0.62', '| test auc: 0.67')\n",
      "('Epoch: ', 288, '| train loss: 0.0380', '| valid auc: 0.62', '| test auc: 0.67')\n",
      "('Epoch: ', 289, '| train loss: 0.0430', '| valid auc: 0.61', '| test auc: 0.66')\n",
      "('Epoch: ', 290, '| train loss: 0.0350', '| valid auc: 0.61', '| test auc: 0.66')\n",
      "('Epoch: ', 291, '| train loss: 0.0302', '| valid auc: 0.62', '| test auc: 0.67')\n",
      "('Epoch: ', 292, '| train loss: 0.0434', '| valid auc: 0.61', '| test auc: 0.66')\n",
      "('Epoch: ', 293, '| train loss: 0.0373', '| valid auc: 0.61', '| test auc: 0.66')\n",
      "('Epoch: ', 294, '| train loss: 0.0366', '| valid auc: 0.59', '| test auc: 0.66')\n",
      "('Epoch: ', 295, '| train loss: 0.0393', '| valid auc: 0.58', '| test auc: 0.66')\n"
     ]
    }
   ],
   "source": [
    "use_gradmask = args.thing\n",
    "stats = []\n",
    "\n",
    "for epoch in range(epoch, 800):\n",
    "    batch_loss = []\n",
    "    for step, (x, y, use_mask) in enumerate(train_loader):\n",
    "\n",
    "        b_x = Variable(x[0], requires_grad=True)\n",
    "        b_y = Variable(y)\n",
    "        use_mask = Variable(use_mask)\n",
    "        seg_x = x[1]\n",
    "\n",
    "        if cuda:\n",
    "            b_x = b_x.cuda()\n",
    "            b_y = b_y.cuda()\n",
    "            seg_x = seg_x.cuda()\n",
    "            use_mask = use_mask.cuda()\n",
    "\n",
    "        cnn.train()\n",
    "        output = cnn(b_x)[0]\n",
    "        loss = loss_func(output, b_y)\n",
    "\n",
    "        if use_gradmask:\n",
    "            if args.thingstyle == 1:\n",
    "                input_grads = \\\n",
    "                torch.autograd.grad(outputs=torch.abs(output[:, 1]).sum(),\n",
    "                                    inputs=b_x,\n",
    "                                    create_graph=True)[0]\n",
    "\n",
    "            elif args.thingstyle == 2:\n",
    "                input_grads = \\\n",
    "                torch.autograd.grad(outputs=(torch.abs(output[:,1]).sum()),\n",
    "                                    inputs=b_x,\n",
    "                                    create_graph=True)[0]\n",
    "                input_grads2 = \\\n",
    "                torch.autograd.grad(outputs=(torch.abs(output[:,0]).sum()),\n",
    "                                    inputs=b_x,\n",
    "                                    create_graph=True)[0]\n",
    "                input_grads = torch.abs(input_grads) - torch.abs(input_grads2)\n",
    "\n",
    "\n",
    "            # only apply to positive examples\n",
    "            input_grads = b_y.float().reshape(-1, 1, 1, 1) * input_grads\n",
    "\n",
    "            res = input_grads * (1 - seg_x.float())\n",
    "            gradmask_loss = (res ** 2)\n",
    "\n",
    "            # Simulate that we only have some masks\n",
    "            gradmask_loss = use_mask.reshape(-1, 1).float() * gradmask_loss.float().reshape(-1, np.prod(gradmask_loss.shape[1:]))\n",
    "\n",
    "            gradmask_loss = gradmask_loss.sum()\n",
    "            gradmask_loss = epoch * args.annealinglambda * gradmask_loss\n",
    "            loss = gradmask_loss + loss\n",
    "\n",
    "        optimizer.zero_grad()\n",
    "        loss.backward(retain_graph=True)\n",
    "        optimizer.step()\n",
    "\n",
    "        batch_loss.append(loss.data[0])\n",
    "        # print (loss)\n",
    "\n",
    "    cnn.eval()\n",
    "\n",
    "    valid_output, last_layer = cnn(valid_x)\n",
    "    pred_valid_y = torch.max(valid_output, 1)[1].data.squeeze()\n",
    "    valid_auc = sklearn.metrics.roc_auc_score(valid_y, pred_valid_y.cpu())\n",
    "\n",
    "    test_output, last_layer = cnn(test_x)\n",
    "    pred_test_y = torch.max(test_output, 1)[1].data.squeeze()\n",
    "    test_auc = sklearn.metrics.roc_auc_score(test_y, pred_test_y.cpu())\n",
    "\n",
    "    stat = {\"epoch\": epoch,\n",
    "            \"trainloss\": np.asarray(batch_loss).mean(),\n",
    "            \"validauc\": valid_auc,\n",
    "            \"testauc\": test_auc}\n",
    "    stat.update(vars(args))\n",
    "    stats.append(stat)\n",
    "    print('Epoch: ', epoch, '| train loss: %.4f' % np.asarray(batch_loss).mean(), '| valid auc: %.2f' % valid_auc, '| test auc: %.2f' % test_auc)\n",
    "    processImages(\"test\", epoch)\n",
    "    # os.mkdir(\"stats\")\n",
    "#    if (epoch % 20) == 0: # 20 times faster \n",
    "#        pickle.dump(stats, open(\"stats/\" + exp_id + \".pkl\", \"wb\"))\n"
   ]
  },
  {
   "cell_type": "code",
   "execution_count": null,
   "metadata": {
    "collapsed": true
   },
   "outputs": [],
   "source": []
  },
  {
   "cell_type": "code",
   "execution_count": null,
   "metadata": {
    "collapsed": true
   },
   "outputs": [],
   "source": []
  },
  {
   "cell_type": "code",
   "execution_count": null,
   "metadata": {
    "collapsed": false
   },
   "outputs": [],
   "source": [
    "plt.imshow(b_x[0][0].detach())"
   ]
  },
  {
   "cell_type": "code",
   "execution_count": 127,
   "metadata": {
    "collapsed": false
   },
   "outputs": [
    {
     "data": {
      "text/plain": [
       "<matplotlib.image.AxesImage at 0x7fcaba657c50>"
      ]
     },
     "execution_count": 127,
     "metadata": {},
     "output_type": "execute_result"
    },
    {
     "data": {
      "image/png": "[encoded data removed]",
      "text/plain": [
       "<Figure size 432x288 with 1 Axes>"
      ]
     },
     "metadata": {},
     "output_type": "display_data"
    }
   ],
   "source": [
    "plt.imshow(seg_x[0][0].detach())"
   ]
  },
  {
   "cell_type": "code",
   "execution_count": 125,
   "metadata": {
    "collapsed": false
   },
   "outputs": [
    {
     "data": {
      "text/plain": [
       "<matplotlib.image.AxesImage at 0x7fcaba9ab5d0>"
      ]
     },
     "execution_count": 125,
     "metadata": {},
     "output_type": "execute_result"
    },
    {
     "data": {
      "image/png": "[encoded data removed]",
      "text/plain": [
       "<Figure size 432x288 with 1 Axes>"
      ]
     },
     "metadata": {},
     "output_type": "display_data"
    }
   ],
   "source": [
    "plt.imshow(input_grads)"
   ]
  },
  {
   "cell_type": "code",
   "execution_count": null,
   "metadata": {
    "collapsed": true
   },
   "outputs": [],
   "source": []
  },
  {
   "cell_type": "code",
   "execution_count": 51,
   "metadata": {
    "collapsed": false
   },
   "outputs": [],
   "source": [
    "# import pandas as pd\n",
    "# pd.DataFrame(stats)"
   ]
  },
  {
   "cell_type": "code",
   "execution_count": 290,
   "metadata": {
    "collapsed": true
   },
   "outputs": [],
   "source": [
    "valid.blur=6"
   ]
  },
  {
   "cell_type": "code",
   "execution_count": 442,
   "metadata": {
    "collapsed": false
   },
   "outputs": [],
   "source": [
    "#to make video: ffmpeg -y -i images/image-test-%d.png -vcodec libx264 aout.mp4\n",
    "def processImages(text, i):\n",
    "    fig = plt.Figure(figsize=(20, 10), dpi=160)\n",
    "    gcf = plt.gcf()\n",
    "    gcf.set_size_inches(20, 10)\n",
    "    fig.set_canvas(gcf.canvas)\n",
    "    gridsize = (3,6)\n",
    "    x, y, z = valid[2]\n",
    "    \n",
    "    x_var = Variable(x[0].unsqueeze(0).cuda(), requires_grad=True)\n",
    "    cnn.eval()\n",
    "    pred, res = cnn(x_var)\n",
    "\n",
    "    input_grads0 = torch.autograd.grad(outputs=(torch.abs(pred[:,0]).sum()), \n",
    "                                           inputs=x_var,\n",
    "                                           create_graph=True)[0]\n",
    "    input_grads1 = torch.autograd.grad(outputs=(torch.abs(pred[:,1]).sum()), \n",
    "                                           inputs=x_var,\n",
    "                                           create_graph=True)[0]\n",
    "    \n",
    "    input_grads0 = input_grads0[0][0].cpu().detach().numpy()\n",
    "    input_grads1 = input_grads1[0][0].cpu().detach().numpy()\n",
    "\n",
    "    \n",
    "    \n",
    "    \n",
    "\n",
    "    ax2 = plt.subplot2grid(gridsize, (0, 0), colspan=1)\n",
    "    ax3 = plt.subplot2grid(gridsize, (0, 1), colspan=1)\n",
    "    ax4 = plt.subplot2grid(gridsize, (0, 2), colspan=1)\n",
    "    ax5 = plt.subplot2grid(gridsize, (0, 3), rowspan=1)\n",
    "    ax6 = plt.subplot2grid(gridsize, (0, 4), rowspan=1)\n",
    "\n",
    "    ax2.set_title(str(i) + \"Input Image\")\n",
    "    ax2.imshow(x[0][0], interpolation='none', cmap='Greys_r')\n",
    "    ax3.set_title(\"Masked input\")\n",
    "    ax3.imshow(x[1][0]*x[0][0], interpolation='none', cmap='Greys_r')\n",
    "    ax4.set_title(\"grad for class 1\")\n",
    "    ax4.imshow(np.abs(input_grads1), cmap=\"jet\", interpolation='none')\n",
    "    ax5.set_title(\"grad1 masked\")\n",
    "    ax5.imshow(np.abs(input_grads1)*x[1][0], cmap=\"jet\", interpolation='none')\n",
    "    ax6.set_title(\"|grad1|-|grad0|\")\n",
    "    ax6.imshow(np.abs(input_grads1 - input_grads0), cmap=\"jet\", interpolation='none')\n",
    "    \n",
    "    \n",
    "    \n",
    "    ax2 = plt.subplot2grid(gridsize, (1, 0), colspan=1)\n",
    "    ax3 = plt.subplot2grid(gridsize, (1, 1), colspan=1)\n",
    "    ax4 = plt.subplot2grid(gridsize, (1, 2), colspan=1)\n",
    "    ax5 = plt.subplot2grid(gridsize, (1, 3), rowspan=1)\n",
    "    ax6 = plt.subplot2grid(gridsize, (1, 4), rowspan=1)\n",
    "    \n",
    "    ax2.set_title(\"mean abs conv1\")\n",
    "    ax2.imshow(res[\"conv1\"].detach()[0].abs().mean(0), interpolation='none')\n",
    "    ax3.set_title(\"mean abs conv2\")\n",
    "    ax3.imshow(res[\"conv2\"].detach()[0].abs().mean(0), interpolation='none')\n",
    "    ax4.set_title(\"mean abs conv3\")\n",
    "    ax4.imshow(res[\"conv3\"].detach()[0].abs().mean(0), interpolation='none')\n",
    "#     ax5.set_title(\"pool\")\n",
    "#     ax5.imshow(res[\"pool\"].detach()[0].mean(0), interpolation='none')\n",
    "\n",
    "\n",
    "\n",
    "    ax2 = plt.subplot2grid(gridsize, (2, 0), colspan=1)\n",
    "    ax3 = plt.subplot2grid(gridsize, (2, 1), colspan=1)\n",
    "    ax4 = plt.subplot2grid(gridsize, (2, 2), colspan=1)\n",
    "    ax5 = plt.subplot2grid(gridsize, (2, 3), rowspan=1)\n",
    "    ax6 = plt.subplot2grid(gridsize, (2, 4), rowspan=1)\n",
    "    \n",
    "    \n",
    "    aaaa = torch.autograd.grad(outputs=(torch.abs(pred[:,1]).sum()),inputs=res[\"conv1\"],create_graph=True)[0]\n",
    "    ax2.set_title(\"grad1 at conv1\")\n",
    "    ax2.imshow(aaaa.detach()[0].abs().sum(0), interpolation='none',  cmap=\"jet\")\n",
    "    \n",
    "    aaaa = torch.autograd.grad(outputs=(torch.abs(pred[:,1]).sum()),inputs=res[\"conv2\"],create_graph=True)[0]\n",
    "    ax3.set_title(\"grad1 at conv2\")\n",
    "    ax3.imshow(aaaa.detach()[0].abs().sum(0), interpolation='none',  cmap=\"jet\")\n",
    "    \n",
    "    aaaa = torch.autograd.grad(outputs=(torch.abs(pred[:,1]).sum()),inputs=res[\"conv3\"],create_graph=True)[0]\n",
    "    ax4.set_title(\"grad1 at conv3\")\n",
    "    ax4.imshow(aaaa.detach()[0].abs().sum(0), interpolation='none',  cmap=\"jet\")\n",
    "#     ax3.set_title(\"conv2\")\n",
    "#     ax3.imshow(res[\"conv2\"].detach()[0].mean(0), interpolation='none')\n",
    "#     ax4.set_title(\"conv3\")\n",
    "#     ax4.imshow(res[\"conv3\"].detach()[0].mean(0), interpolation='none')\n",
    "#     ax5.set_title(\"pool\")\n",
    "#     ax5.imshow(res[\"pool\"].detach()[0].mean(0), interpolation='none')\n",
    "\n",
    "\n",
    "#     ax5.set_title(\"Real \" + str(lab_est))\n",
    "#     ax5.set_ylim((0, np.max(lab_est)*2))\n",
    "#     ax5.set_xticks(np.arange(0, noutputs, 1.0))\n",
    "#     ax5.bar(range(noutputs),lab_est, align='center')\n",
    "#     ax6.set_title(\"Pred \" + str(pred_est))\n",
    "#     ax6.set_ylim((0, np.max(lab_est)*2))\n",
    "#     ax6.set_xticks(np.arange(0, noutputs, 1.0))\n",
    "#     ax6.bar(range(noutputs),pred_est, align='center')\n",
    "    if not os.path.exists('images'): \n",
    "        os.mkdir('images')\n",
    "    fig.savefig('images/image-' + text + \"-\" + str(i) + '.png', bbox_inches='tight', pad_inches=0)"
   ]
  },
  {
   "cell_type": "code",
   "execution_count": null,
   "metadata": {
    "collapsed": true
   },
   "outputs": [],
   "source": []
  },
  {
   "cell_type": "code",
   "execution_count": 449,
   "metadata": {
    "collapsed": false
   },
   "outputs": [
    {
     "data": {
      "image/png": "[encoded data removed]",
      "text/plain": [
       "<Figure size 1440x720 with 15 Axes>"
      ]
     },
     "metadata": {},
     "output_type": "display_data"
    }
   ],
   "source": [
    "processImages(\"testtt\", 0)\n",
    "plt.show()"
   ]
  },
  {
   "cell_type": "code",
   "execution_count": null,
   "metadata": {
    "collapsed": true
   },
   "outputs": [],
   "source": []
  },
  {
   "cell_type": "code",
   "execution_count": null,
   "metadata": {
    "collapsed": true
   },
   "outputs": [],
   "source": []
  },
  {
   "cell_type": "code",
   "execution_count": null,
   "metadata": {
    "collapsed": true
   },
   "outputs": [],
   "source": []
  },
  {
   "cell_type": "code",
   "execution_count": null,
   "metadata": {
    "collapsed": true
   },
   "outputs": [],
   "source": []
  },
  {
   "cell_type": "code",
   "execution_count": null,
   "metadata": {
    "collapsed": true
   },
   "outputs": [],
   "source": []
  },
  {
   "cell_type": "code",
   "execution_count": null,
   "metadata": {
    "collapsed": false
   },
   "outputs": [],
   "source": []
  },
  {
   "cell_type": "code",
   "execution_count": 41,
   "metadata": {
    "collapsed": false
   },
   "outputs": [],
   "source": [
    "# processImages(\"testttt\", 0)\n",
    "# plt.show()"
   ]
  },
  {
   "cell_type": "code",
   "execution_count": null,
   "metadata": {
    "collapsed": false
   },
   "outputs": [],
   "source": []
  },
  {
   "cell_type": "code",
   "execution_count": null,
   "metadata": {
    "collapsed": true
   },
   "outputs": [],
   "source": []
  },
  {
   "cell_type": "code",
   "execution_count": null,
   "metadata": {
    "collapsed": false
   },
   "outputs": [],
   "source": []
  },
  {
   "cell_type": "code",
   "execution_count": 232,
   "metadata": {
    "collapsed": true
   },
   "outputs": [],
   "source": [
    "##############################################\n",
    "##############################################\n",
    "##############################################\n",
    "##############################################\n",
    "## below is code to debug the model"
   ]
  },
  {
   "cell_type": "code",
   "execution_count": null,
   "metadata": {
    "collapsed": false
   },
   "outputs": [],
   "source": []
  },
  {
   "cell_type": "code",
   "execution_count": null,
   "metadata": {
    "collapsed": false
   },
   "outputs": [],
   "source": []
  },
  {
   "cell_type": "code",
   "execution_count": 194,
   "metadata": {
    "collapsed": false
   },
   "outputs": [
    {
     "data": {
      "text/plain": [
       "array([3324, 2694, 1044,  885, 1272, 2152, 2654,  614, 2898,  311,  242,\n",
       "       2696, 3316, 3320,  815, 1667,  692, 1725,  691, 2703,  443, 2867,\n",
       "       1446, 1626,  608, 3318, 2423, 2479,  447, 2016, 1032, 1978, 2025,\n",
       "       2167, 2650, 2674, 2526,  282, 1983, 1548, 1503,  445, 3361,  449,\n",
       "       1982, 2070, 2975, 2707, 1508, 2660, 2154, 1663, 2702, 1374, 2144,\n",
       "        528, 3323, 2122,  525,  426, 2348,  389,  582,  821])"
      ]
     },
     "execution_count": 194,
     "metadata": {},
     "output_type": "execute_result"
    }
   ],
   "source": [
    "mask_idx"
   ]
  },
  {
   "cell_type": "code",
   "execution_count": 20,
   "metadata": {
    "collapsed": false
   },
   "outputs": [],
   "source": [
    "x, y, z = train[24]"
   ]
  },
  {
   "cell_type": "code",
   "execution_count": 21,
   "metadata": {
    "collapsed": false
   },
   "outputs": [
    {
     "data": {
      "text/plain": [
       "1.0"
      ]
     },
     "execution_count": 21,
     "metadata": {},
     "output_type": "execute_result"
    }
   ],
   "source": [
    "z"
   ]
  },
  {
   "cell_type": "code",
   "execution_count": 22,
   "metadata": {
    "collapsed": false
   },
   "outputs": [
    {
     "data": {
      "text/plain": [
       "torch.Size([1, 100, 100])"
      ]
     },
     "execution_count": 22,
     "metadata": {},
     "output_type": "execute_result"
    }
   ],
   "source": [
    "x[0].shape"
   ]
  },
  {
   "cell_type": "code",
   "execution_count": 213,
   "metadata": {
    "collapsed": false
   },
   "outputs": [
    {
     "data": {
      "image/png": "[encoded data removed]",
      "text/plain": [
       "<Figure size 432x288 with 1 Axes>"
      ]
     },
     "metadata": {},
     "output_type": "display_data"
    },
    {
     "data": {
      "image/png": "[encoded data removed]",
      "text/plain": [
       "<Figure size 432x288 with 1 Axes>"
      ]
     },
     "metadata": {},
     "output_type": "display_data"
    }
   ],
   "source": [
    "x, y, z = train[0]\n",
    "plt.imshow(x[0][0], cmap=\"gray\");\n",
    "plt.title(y);\n",
    "plt.show()\n",
    "plt.imshow(x[1][0]);\n",
    "plt.show()"
   ]
  },
  {
   "cell_type": "code",
   "execution_count": 214,
   "metadata": {
    "collapsed": false
   },
   "outputs": [],
   "source": [
    "train.blur = 6"
   ]
  },
  {
   "cell_type": "code",
   "execution_count": 192,
   "metadata": {
    "collapsed": false
   },
   "outputs": [
    {
     "data": {
      "text/plain": [
       "tensor([[-1.1178,  2.0169]], device='cuda:0')"
      ]
     },
     "execution_count": 192,
     "metadata": {},
     "output_type": "execute_result"
    }
   ],
   "source": [
    "pred"
   ]
  },
  {
   "cell_type": "code",
   "execution_count": 193,
   "metadata": {
    "collapsed": false
   },
   "outputs": [
    {
     "data": {
      "text/plain": [
       "tensor(2.0169, device='cuda:0')"
      ]
     },
     "execution_count": 193,
     "metadata": {},
     "output_type": "execute_result"
    }
   ],
   "source": [
    "torch.abs(pred[:,1]).sum()"
   ]
  },
  {
   "cell_type": "code",
   "execution_count": 323,
   "metadata": {
    "collapsed": false
   },
   "outputs": [
    {
     "data": {
      "image/png": "[encoded data removed]",
      "text/plain": [
       "<Figure size 432x288 with 1 Axes>"
      ]
     },
     "metadata": {},
     "output_type": "display_data"
    },
    {
     "data": {
      "image/png": "[encoded data removed]",
      "text/plain": [
       "<Figure size 432x288 with 1 Axes>"
      ]
     },
     "metadata": {},
     "output_type": "display_data"
    }
   ],
   "source": [
    "x, y, z = valid[2]\n",
    "plt.imshow(x[0][0], cmap=\"gray\");\n",
    "plt.title(y);\n",
    "plt.show()\n",
    "plt.imshow(x[1][0]);\n",
    "plt.show()\n",
    "x_var = Variable(x[0].unsqueeze(0).cuda(), requires_grad=True)\n",
    "pred, res = cnn(x_var)\n"
   ]
  },
  {
   "cell_type": "code",
   "execution_count": 332,
   "metadata": {
    "collapsed": false
   },
   "outputs": [
    {
     "data": {
      "text/plain": [
       "tensor([[ 0.0844,  0.0830,  0.0812,  ...,  0.0865,  0.0870,  0.0874],\n",
       "        [ 0.2992,  0.2938,  0.2896,  ...,  0.3080,  0.3091,  0.3103],\n",
       "        [ 0.0000,  0.0000,  0.0000,  ...,  0.0000,  0.0000,  0.0000],\n",
       "        ...,\n",
       "        [ 0.3101,  0.3071,  0.3044,  ...,  0.3352,  0.3363,  0.3384],\n",
       "        [ 0.5575,  0.5510,  0.5422,  ...,  0.5944,  0.5973,  0.6012],\n",
       "        [ 0.2209,  0.2176,  0.2144,  ...,  0.2299,  0.2308,  0.2319]], device='cuda:0')"
      ]
     },
     "execution_count": 332,
     "metadata": {},
     "output_type": "execute_result"
    }
   ],
   "source": [
    "res[\"conv1\"].detach()[0].mean(1)"
   ]
  },
  {
   "cell_type": "code",
   "execution_count": 344,
   "metadata": {
    "collapsed": false
   },
   "outputs": [
    {
     "data": {
      "text/plain": [
       "<matplotlib.image.AxesImage at 0x7fcaacc39710>"
      ]
     },
     "execution_count": 344,
     "metadata": {},
     "output_type": "execute_result"
    },
    {
     "data": {
      "image/png": "[encoded data removed]",
      "text/plain": [
       "<Figure size 432x288 with 1 Axes>"
      ]
     },
     "metadata": {},
     "output_type": "display_data"
    }
   ],
   "source": [
    "plt.imshow(res[\"conv1\"].detach()[0].mean(0))"
   ]
  },
  {
   "cell_type": "code",
   "execution_count": 335,
   "metadata": {
    "collapsed": false
   },
   "outputs": [
    {
     "data": {
      "text/plain": [
       "<matplotlib.image.AxesImage at 0x7fcaaf1d2650>"
      ]
     },
     "execution_count": 335,
     "metadata": {},
     "output_type": "execute_result"
    },
    {
     "data": {
      "image/png": "[encoded data removed]",
      "text/plain": [
       "<Figure size 432x288 with 1 Axes>"
      ]
     },
     "metadata": {},
     "output_type": "display_data"
    }
   ],
   "source": [
    "plt.imshow(res[\"conv2\"].detach()[0].mean(0))"
   ]
  },
  {
   "cell_type": "code",
   "execution_count": 336,
   "metadata": {
    "collapsed": false
   },
   "outputs": [
    {
     "data": {
      "text/plain": [
       "<matplotlib.image.AxesImage at 0x7fcaaf19f890>"
      ]
     },
     "execution_count": 336,
     "metadata": {},
     "output_type": "execute_result"
    },
    {
     "data": {
      "image/png": "[encoded data removed]",
      "text/plain": [
       "<Figure size 432x288 with 1 Axes>"
      ]
     },
     "metadata": {},
     "output_type": "display_data"
    }
   ],
   "source": [
    "plt.imshow(res[\"conv3\"].detach()[0].mean(0))"
   ]
  },
  {
   "cell_type": "code",
   "execution_count": null,
   "metadata": {
    "collapsed": true
   },
   "outputs": [],
   "source": []
  },
  {
   "cell_type": "code",
   "execution_count": null,
   "metadata": {
    "collapsed": true
   },
   "outputs": [],
   "source": []
  },
  {
   "cell_type": "code",
   "execution_count": 322,
   "metadata": {
    "collapsed": false
   },
   "outputs": [
    {
     "data": {
      "text/plain": [
       "tensor([[-0.9724,  1.8972]], device='cuda:0')"
      ]
     },
     "execution_count": 322,
     "metadata": {},
     "output_type": "execute_result"
    }
   ],
   "source": [
    "pred"
   ]
  },
  {
   "cell_type": "code",
   "execution_count": 267,
   "metadata": {
    "collapsed": false
   },
   "outputs": [
    {
     "data": {
      "image/png": "[encoded data removed]",
      "text/plain": [
       "<Figure size 432x288 with 1 Axes>"
      ]
     },
     "metadata": {},
     "output_type": "display_data"
    }
   ],
   "source": [
    "input_grads = torch.autograd.grad(outputs=(torch.abs(pred[:,1]).sum()), \n",
    "                                       inputs=x_var,\n",
    "                                       create_graph=True)[0]\n",
    "input_grads = input_grads[0][0].cpu().detach().numpy()\n",
    "plt.imshow(np.abs(input_grads), cmap=\"jet\");"
   ]
  },
  {
   "cell_type": "code",
   "execution_count": 268,
   "metadata": {
    "collapsed": false
   },
   "outputs": [
    {
     "data": {
      "text/plain": [
       "-0.00031527865"
      ]
     },
     "execution_count": 268,
     "metadata": {},
     "output_type": "execute_result"
    }
   ],
   "source": [
    "input_grads.sum()"
   ]
  },
  {
   "cell_type": "code",
   "execution_count": 269,
   "metadata": {
    "collapsed": false
   },
   "outputs": [],
   "source": [
    "# input_grads2 = torch.autograd.grad(outputs=torch.abs(pred[:,0]).sum(), \n",
    "#                                        inputs=x_var,\n",
    "#                                        create_graph=True)[0]\n",
    "# input_grads2 = input_grads2[0][0].cpu().detach().numpy()\n",
    "# plt.imshow(np.abs(input_grads2), cmap=\"jet\");"
   ]
  },
  {
   "cell_type": "code",
   "execution_count": 270,
   "metadata": {
    "collapsed": false
   },
   "outputs": [
    {
     "data": {
      "text/plain": [
       "0.0004758468"
      ]
     },
     "execution_count": 270,
     "metadata": {},
     "output_type": "execute_result"
    }
   ],
   "source": [
    "(input_grads-input_grads2).max()"
   ]
  },
  {
   "cell_type": "code",
   "execution_count": 271,
   "metadata": {
    "collapsed": false
   },
   "outputs": [
    {
     "data": {
      "text/plain": [
       "<matplotlib.image.AxesImage at 0x7fcaaf49b190>"
      ]
     },
     "execution_count": 271,
     "metadata": {},
     "output_type": "execute_result"
    },
    {
     "data": {
      "image/png": "[encoded data removed]",
      "text/plain": [
       "<Figure size 432x288 with 1 Axes>"
      ]
     },
     "metadata": {},
     "output_type": "display_data"
    }
   ],
   "source": [
    "plt.imshow(np.abs(input_grads-input_grads2), cmap=\"jet\")"
   ]
  },
  {
   "cell_type": "code",
   "execution_count": null,
   "metadata": {
    "collapsed": true
   },
   "outputs": [],
   "source": []
  },
  {
   "cell_type": "code",
   "execution_count": null,
   "metadata": {
    "collapsed": false
   },
   "outputs": [],
   "source": []
  },
  {
   "cell_type": "code",
   "execution_count": 272,
   "metadata": {
    "collapsed": false
   },
   "outputs": [
    {
     "data": {
      "text/plain": [
       "<matplotlib.image.AxesImage at 0x7fcaaf47c610>"
      ]
     },
     "execution_count": 272,
     "metadata": {},
     "output_type": "execute_result"
    },
    {
     "data": {
      "image/png": "[encoded data removed]",
      "text/plain": [
       "<Figure size 432x288 with 1 Axes>"
      ]
     },
     "metadata": {},
     "output_type": "display_data"
    }
   ],
   "source": [
    "plt.imshow(x[0][0]*x[1][0], cmap=\"gray\")"
   ]
  },
  {
   "cell_type": "code",
   "execution_count": 273,
   "metadata": {
    "collapsed": false
   },
   "outputs": [
    {
     "data": {
      "text/plain": [
       "<matplotlib.image.AxesImage at 0x7fcaaf3e2610>"
      ]
     },
     "execution_count": 273,
     "metadata": {},
     "output_type": "execute_result"
    },
    {
     "data": {
      "image/png": "[encoded data removed]",
      "text/plain": [
       "<Figure size 432x288 with 1 Axes>"
      ]
     },
     "metadata": {},
     "output_type": "display_data"
    }
   ],
   "source": [
    "plt.imshow(x[1][0])"
   ]
  },
  {
   "cell_type": "code",
   "execution_count": null,
   "metadata": {
    "collapsed": false
   },
   "outputs": [],
   "source": []
  },
  {
   "cell_type": "code",
   "execution_count": null,
   "metadata": {
    "collapsed": false
   },
   "outputs": [],
   "source": []
  },
  {
   "cell_type": "code",
   "execution_count": 274,
   "metadata": {
    "collapsed": false
   },
   "outputs": [
    {
     "data": {
      "text/plain": [
       "<matplotlib.image.AxesImage at 0x7fcaaf346f10>"
      ]
     },
     "execution_count": 274,
     "metadata": {},
     "output_type": "execute_result"
    },
    {
     "data": {
      "image/png": "[encoded data removed]",
      "text/plain": [
       "<Figure size 432x288 with 1 Axes>"
      ]
     },
     "metadata": {},
     "output_type": "display_data"
    }
   ],
   "source": [
    "#these are the only allowed grads\n",
    "masked_grads = np.abs(input_grads)*(x[1][0])\n",
    "masked_grads[0][0] = torch.FloatTensor(np.abs(input_grads)).max()\n",
    "plt.imshow(masked_grads, cmap=\"jet\")"
   ]
  },
  {
   "cell_type": "code",
   "execution_count": 275,
   "metadata": {
    "collapsed": false
   },
   "outputs": [
    {
     "data": {
      "text/plain": [
       "<matplotlib.image.AxesImage at 0x7fcaaf337210>"
      ]
     },
     "execution_count": 275,
     "metadata": {},
     "output_type": "execute_result"
    },
    {
     "data": {
      "image/png": "[encoded data removed]",
      "text/plain": [
       "<Figure size 432x288 with 1 Axes>"
      ]
     },
     "metadata": {},
     "output_type": "display_data"
    }
   ],
   "source": [
    "#We can regularize to reduce this\n",
    "masked_grads = np.abs(input_grads)*(1-x[1][0])\n",
    "masked_grads[0][0] = torch.FloatTensor(np.abs(input_grads)).max()\n",
    "plt.imshow(masked_grads, cmap=\"jet\")"
   ]
  },
  {
   "cell_type": "code",
   "execution_count": null,
   "metadata": {
    "collapsed": true
   },
   "outputs": [],
   "source": []
  },
  {
   "cell_type": "code",
   "execution_count": null,
   "metadata": {
    "collapsed": true
   },
   "outputs": [],
   "source": []
  },
  {
   "cell_type": "code",
   "execution_count": 276,
   "metadata": {
    "collapsed": false
   },
   "outputs": [
    {
     "ename": "IndexError",
     "evalue": "tuple index out of range",
     "output_type": "error",
     "traceback": [
      "\u001b[1;31m---------------------------------------------------------------------------\u001b[0m",
      "\u001b[1;31mIndexError\u001b[0m                                Traceback (most recent call last)",
      "\u001b[1;32m<ipython-input-276-48a110cc04e8>\u001b[0m in \u001b[0;36m<module>\u001b[1;34m()\u001b[0m\n\u001b[0;32m      1\u001b[0m \u001b[1;32mimport\u001b[0m \u001b[0mskimage\u001b[0m\u001b[1;33m.\u001b[0m\u001b[0mfilters\u001b[0m\u001b[1;33m\u001b[0m\u001b[0m\n\u001b[1;32m----> 2\u001b[1;33m \u001b[0menlarged_mask\u001b[0m \u001b[1;33m=\u001b[0m \u001b[0mskimage\u001b[0m\u001b[1;33m.\u001b[0m\u001b[0mfilters\u001b[0m\u001b[1;33m.\u001b[0m\u001b[0mgaussian\u001b[0m\u001b[1;33m(\u001b[0m\u001b[0mx\u001b[0m\u001b[1;33m[\u001b[0m\u001b[1;36m2\u001b[0m\u001b[1;33m]\u001b[0m\u001b[1;33m[\u001b[0m\u001b[1;36m0\u001b[0m\u001b[1;33m]\u001b[0m\u001b[1;33m.\u001b[0m\u001b[0mnumpy\u001b[0m\u001b[1;33m(\u001b[0m\u001b[1;33m)\u001b[0m\u001b[1;33m,\u001b[0m\u001b[1;36m15\u001b[0m\u001b[1;33m)\u001b[0m\u001b[1;33m\u001b[0m\u001b[0m\n\u001b[0m\u001b[0;32m      3\u001b[0m \u001b[0menlarged_mask\u001b[0m \u001b[1;33m=\u001b[0m \u001b[0menlarged_mask\u001b[0m\u001b[1;33m/\u001b[0m\u001b[0menlarged_mask\u001b[0m\u001b[1;33m.\u001b[0m\u001b[0mmax\u001b[0m\u001b[1;33m(\u001b[0m\u001b[1;33m)\u001b[0m\u001b[1;33m\u001b[0m\u001b[0m\n\u001b[0;32m      4\u001b[0m \u001b[0menlarged_mask\u001b[0m\u001b[1;33m.\u001b[0m\u001b[0mmax\u001b[0m\u001b[1;33m(\u001b[0m\u001b[1;33m)\u001b[0m\u001b[1;33m\u001b[0m\u001b[0m\n",
      "\u001b[1;31mIndexError\u001b[0m: tuple index out of range"
     ]
    }
   ],
   "source": [
    "import skimage.filters\n",
    "enlarged_mask = skimage.filters.gaussian(x[2][0].numpy(),15)\n",
    "enlarged_mask = enlarged_mask/enlarged_mask.max()\n",
    "enlarged_mask.max()"
   ]
  },
  {
   "cell_type": "code",
   "execution_count": null,
   "metadata": {
    "collapsed": false
   },
   "outputs": [],
   "source": []
  },
  {
   "cell_type": "code",
   "execution_count": 114,
   "metadata": {
    "collapsed": false
   },
   "outputs": [
    {
     "ename": "NameError",
     "evalue": "name 'enlarged_mask' is not defined",
     "output_type": "error",
     "traceback": [
      "\u001b[1;31m---------------------------------------------------------------------------\u001b[0m",
      "\u001b[1;31mNameError\u001b[0m                                 Traceback (most recent call last)",
      "\u001b[1;32m<ipython-input-114-d420ca75cbde>\u001b[0m in \u001b[0;36m<module>\u001b[1;34m()\u001b[0m\n\u001b[1;32m----> 1\u001b[1;33m \u001b[0mplt\u001b[0m\u001b[1;33m.\u001b[0m\u001b[0mimshow\u001b[0m\u001b[1;33m(\u001b[0m\u001b[0menlarged_mask\u001b[0m\u001b[1;33m)\u001b[0m\u001b[1;33m\u001b[0m\u001b[0m\n\u001b[0m",
      "\u001b[1;31mNameError\u001b[0m: name 'enlarged_mask' is not defined"
     ]
    }
   ],
   "source": [
    "plt.imshow(enlarged_mask)"
   ]
  },
  {
   "cell_type": "code",
   "execution_count": 59,
   "metadata": {
    "collapsed": false
   },
   "outputs": [
    {
     "ename": "NameError",
     "evalue": "name 'enlarged_mask' is not defined",
     "output_type": "error",
     "traceback": [
      "\u001b[1;31m---------------------------------------------------------------------------\u001b[0m",
      "\u001b[1;31mNameError\u001b[0m                                 Traceback (most recent call last)",
      "\u001b[1;32m<ipython-input-59-7661517f3121>\u001b[0m in \u001b[0;36m<module>\u001b[1;34m()\u001b[0m\n\u001b[0;32m      1\u001b[0m \u001b[1;31m#assuming the segmentations are sloppy we can enlarge the segmentations\u001b[0m\u001b[1;33m\u001b[0m\u001b[1;33m\u001b[0m\u001b[0m\n\u001b[1;32m----> 2\u001b[1;33m \u001b[0mmasked_grads\u001b[0m \u001b[1;33m=\u001b[0m \u001b[0minput_grads\u001b[0m\u001b[1;33m*\u001b[0m\u001b[1;33m(\u001b[0m\u001b[1;36m1\u001b[0m\u001b[1;33m-\u001b[0m\u001b[0menlarged_mask\u001b[0m\u001b[1;33m)\u001b[0m\u001b[1;33m\u001b[0m\u001b[0m\n\u001b[0m\u001b[0;32m      3\u001b[0m \u001b[0mplt\u001b[0m\u001b[1;33m.\u001b[0m\u001b[0mimshow\u001b[0m\u001b[1;33m(\u001b[0m\u001b[0mmasked_grads\u001b[0m\u001b[1;33m)\u001b[0m\u001b[1;33m\u001b[0m\u001b[0m\n",
      "\u001b[1;31mNameError\u001b[0m: name 'enlarged_mask' is not defined"
     ]
    }
   ],
   "source": [
    "#assuming the segmentations are sloppy we can enlarge the segmentations\n",
    "masked_grads = input_grads*(1-enlarged_mask)\n",
    "plt.imshow(masked_grads)"
   ]
  },
  {
   "cell_type": "code",
   "execution_count": null,
   "metadata": {
    "collapsed": true
   },
   "outputs": [],
   "source": []
  },
  {
   "cell_type": "code",
   "execution_count": null,
   "metadata": {
    "collapsed": true
   },
   "outputs": [],
   "source": []
  },
  {
   "cell_type": "code",
   "execution_count": null,
   "metadata": {
    "collapsed": true
   },
   "outputs": [],
   "source": []
  },
  {
   "cell_type": "code",
   "execution_count": null,
   "metadata": {
    "collapsed": true
   },
   "outputs": [],
   "source": [
    "#torch.save(cnn.state_dict(), \"./classifier_model.pth\")"
   ]
  },
  {
   "cell_type": "code",
   "execution_count": 18,
   "metadata": {
    "collapsed": false
   },
   "outputs": [],
   "source": [
    "# checkpoint = torch.load(\"./classifier_model.pth\")\n",
    "# cnn.load_state_dict(checkpoint)"
   ]
  },
  {
   "cell_type": "code",
   "execution_count": null,
   "metadata": {
    "collapsed": false
   },
   "outputs": [],
   "source": [
    "# cnn.eval()\n",
    "# test_output, last_layer = cnn(valid_x)\n",
    "# pred_y = torch.max(test_output, 1)[1].data.squeeze()\n",
    "# accuracy = float((pred_y == valid_y).sum()) / float(valid_y.size(0))\n",
    "# print 'valid accuracy: %.2f' % accuracy"
   ]
  },
  {
   "cell_type": "code",
   "execution_count": null,
   "metadata": {
    "collapsed": false
   },
   "outputs": [],
   "source": []
  },
  {
   "cell_type": "code",
   "execution_count": null,
   "metadata": {
    "collapsed": true
   },
   "outputs": [],
   "source": []
  },
  {
   "cell_type": "code",
   "execution_count": null,
   "metadata": {
    "collapsed": true
   },
   "outputs": [],
   "source": []
  },
  {
   "cell_type": "code",
   "execution_count": null,
   "metadata": {
    "collapsed": true
   },
   "outputs": [],
   "source": []
  },
  {
   "cell_type": "code",
   "execution_count": null,
   "metadata": {
    "collapsed": true
   },
   "outputs": [],
   "source": []
  },
  {
   "cell_type": "code",
   "execution_count": null,
   "metadata": {
    "collapsed": false
   },
   "outputs": [],
   "source": []
  },
  {
   "cell_type": "code",
   "execution_count": null,
   "metadata": {
    "collapsed": true
   },
   "outputs": [],
   "source": []
  },
  {
   "cell_type": "code",
   "execution_count": null,
   "metadata": {
    "collapsed": true
   },
   "outputs": [],
   "source": []
  },
  {
   "cell_type": "code",
   "execution_count": null,
   "metadata": {
    "collapsed": true
   },
   "outputs": [],
   "source": []
  },
  {
   "cell_type": "code",
   "execution_count": null,
   "metadata": {
    "collapsed": true
   },
   "outputs": [],
   "source": []
  }
 ],
 "metadata": {
  "kernelspec": {
   "display_name": "Python 2",
   "language": "python",
   "name": "python2"
  },
  "language_info": {
   "codemirror_mode": {
    "name": "ipython",
    "version": 2
   },
   "file_extension": ".py",
   "mimetype": "text/x-python",
   "name": "python",
   "nbconvert_exporter": "python",
   "pygments_lexer": "ipython2",
   "version": "2.7.13"
  }
 },
 "nbformat": 4,
 "nbformat_minor": 2
}
