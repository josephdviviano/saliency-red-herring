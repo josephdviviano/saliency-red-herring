{
 "cells": [
  {
   "cell_type": "code",
   "execution_count": 45,
   "metadata": {
    "collapsed": true
   },
   "outputs": [],
   "source": [
    "from __future__ import print_function\n",
    "from ipywidgets import interact, interactive, fixed, interact_manual\n",
    "import ipywidgets as widgets\n",
    "\n",
    "import torch\n",
    "import torch.nn as nn\n",
    "from torch.autograd import Variable\n",
    "import torch.utils.data as Data\n",
    "import torchvision\n",
    "import numpy as np\n",
    "import sklearn, sklearn.model_selection\n",
    "import matplotlib\n",
    "matplotlib.use('Agg');\n",
    "import matplotlib.pyplot as plt\n",
    "plt.set_cmap('jet');\n",
    "import random\n",
    "%matplotlib inline"
   ]
  },
  {
   "cell_type": "code",
   "execution_count": null,
   "metadata": {
    "collapsed": true
   },
   "outputs": [],
   "source": []
  },
  {
   "cell_type": "code",
   "execution_count": 46,
   "metadata": {
    "collapsed": false
   },
   "outputs": [],
   "source": [
    "import sys\n",
    "import argparse\n",
    "\n",
    "if len(sys.argv) == 3 and sys.argv[1] == \"-f\": #on jupyter\n",
    "    sys.argv = ['']\n",
    "    \n",
    "parser = argparse.ArgumentParser()\n",
    "\n",
    "parser.add_argument('-seed', type=int, nargs='?',default=0, help='random seed for split and init')\n",
    "parser.add_argument('-nsamples', type=int, nargs='?',default=500, help='Number of samples for train')\n",
    "parser.add_argument('-thing', default=False, action='store_true', help='Do the thing')\n",
    "\n",
    "\n",
    "args = parser.parse_args()"
   ]
  },
  {
   "cell_type": "code",
   "execution_count": 47,
   "metadata": {
    "collapsed": false
   },
   "outputs": [
    {
     "data": {
      "text/plain": [
       "Namespace(nsamples=500, seed=0, thing=False)"
      ]
     },
     "execution_count": 47,
     "metadata": {},
     "output_type": "execute_result"
    }
   ],
   "source": [
    "args"
   ]
  },
  {
   "cell_type": "code",
   "execution_count": 48,
   "metadata": {
    "collapsed": false
   },
   "outputs": [],
   "source": [
    "torch.manual_seed(args.seed);\n",
    "random.seed(args.seed)"
   ]
  },
  {
   "cell_type": "code",
   "execution_count": 49,
   "metadata": {
    "collapsed": false
   },
   "outputs": [],
   "source": [
    "# import warnings\n",
    "# warnings.simplefilter(action='ignore', category=FutureWarning)"
   ]
  },
  {
   "cell_type": "code",
   "execution_count": 50,
   "metadata": {
    "collapsed": true
   },
   "outputs": [],
   "source": [
    "cuda = torch.cuda.is_available()"
   ]
  },
  {
   "cell_type": "code",
   "execution_count": 51,
   "metadata": {
    "collapsed": true
   },
   "outputs": [],
   "source": [
    "BATCH_SIZE = 64"
   ]
  },
  {
   "cell_type": "code",
   "execution_count": 52,
   "metadata": {
    "collapsed": false
   },
   "outputs": [],
   "source": [
    "from torch.utils import data\n",
    "import os\n",
    "import skimage, skimage.transform\n",
    "from skimage.io import imread, imsave"
   ]
  },
  {
   "cell_type": "code",
   "execution_count": 53,
   "metadata": {
    "collapsed": false
   },
   "outputs": [],
   "source": [
    "from PIL import Image\n",
    "import skimage.filters"
   ]
  },
  {
   "cell_type": "code",
   "execution_count": 59,
   "metadata": {
    "collapsed": false
   },
   "outputs": [],
   "source": [
    "class TNTDataset(data.Dataset):\n",
    "    'Tumor-NoTumor Dataset loader for PyTorch'\n",
    "    def __init__(self, tntpath, subset=\"train\", transform=None, blur=0):\n",
    "        self.tntpath = tntpath\n",
    "        self.subset = subset\n",
    "        self.datapath = self.tntpath + \"/\" + self.subset + \"/\"\n",
    "        self.imgs = sorted(os.listdir(self.datapath + \"/flair\"))\n",
    "        self.transform = transform\n",
    "        self.blur = blur\n",
    "\n",
    "    def __len__(self):\n",
    "        return len(self.imgs)\n",
    "\n",
    "    def __getitem__(self, index):\n",
    "        # Select sample\n",
    "        filename = self.imgs[index]\n",
    "        \n",
    "        flair = imread(self.datapath + \"/flair/\" + filename)\n",
    "        flair = Image.fromarray(flair)\n",
    "        if self.transform != None:\n",
    "            flair = self.transform(flair)\n",
    "            \n",
    "#         t1 = imread(self.datapath + \"/t1/\" + filename)\n",
    "#         t1 = Image.fromarray(t1)\n",
    "#         if self.transform != None:\n",
    "#             t1 = self.transform(t1)\n",
    "            \n",
    "        seg = imread(self.datapath + \"/segmentation/\" + filename)\n",
    "        seg = ((seg >= 30))*256.\n",
    "        \n",
    "        if self.blur > 0:\n",
    "            seg = skimage.filters.gaussian(seg, self.blur)\n",
    "            seg = seg/seg.max()\n",
    "            \n",
    "        seg = (seg > 0)*1.\n",
    "        \n",
    "        seg = Image.fromarray(seg)\n",
    "        if self.transform != None:\n",
    "            seg = self.transform(seg)\n",
    "        \n",
    "        \n",
    "        has_tumor = (\"True\" in filename)\n",
    "\n",
    "        return (flair, flair, seg), has_tumor "
   ]
  },
  {
   "cell_type": "code",
   "execution_count": null,
   "metadata": {
    "collapsed": false
   },
   "outputs": [],
   "source": []
  },
  {
   "cell_type": "code",
   "execution_count": null,
   "metadata": {
    "collapsed": false
   },
   "outputs": [],
   "source": []
  },
  {
   "cell_type": "code",
   "execution_count": 60,
   "metadata": {
    "collapsed": true
   },
   "outputs": [],
   "source": [
    "mytransform = torchvision.transforms.Compose([\n",
    "    torchvision.transforms.Resize(100),\n",
    "    torchvision.transforms.ToTensor()])"
   ]
  },
  {
   "cell_type": "code",
   "execution_count": 67,
   "metadata": {
    "collapsed": false
   },
   "outputs": [],
   "source": [
    "train = TNTDataset(\"/data/lisa/data/brats2013_tumor-notumor/\", \n",
    "                   transform=mytransform,\n",
    "                   blur=1)"
   ]
  },
  {
   "cell_type": "code",
   "execution_count": null,
   "metadata": {
    "collapsed": false
   },
   "outputs": [],
   "source": []
  },
  {
   "cell_type": "code",
   "execution_count": 68,
   "metadata": {
    "collapsed": false
   },
   "outputs": [
    {
     "data": {
      "image/png": "[encoded data removed]",
      "text/plain": [
       "<matplotlib.figure.Figure at 0x7fb5f30c3bd0>"
      ]
     },
     "metadata": {},
     "output_type": "display_data"
    },
    {
     "data": {
      "image/png": "[encoded data removed]",
      "text/plain": [
       "<matplotlib.figure.Figure at 0x7fb5f3d08e90>"
      ]
     },
     "metadata": {},
     "output_type": "display_data"
    }
   ],
   "source": [
    "plt.imshow(train[5][0][0][0]);\n",
    "plt.title(train[5][1]);\n",
    "plt.show()\n",
    "plt.imshow(train[5][0][2][0]);"
   ]
  },
  {
   "cell_type": "code",
   "execution_count": null,
   "metadata": {
    "collapsed": false
   },
   "outputs": [],
   "source": []
  },
  {
   "cell_type": "code",
   "execution_count": 69,
   "metadata": {
    "collapsed": false
   },
   "outputs": [
    {
     "data": {
      "image/png": "[encoded data removed]",
      "text/plain": [
       "<matplotlib.figure.Figure at 0x7fb5fbf6c150>"
      ]
     },
     "metadata": {},
     "output_type": "display_data"
    },
    {
     "data": {
      "image/png": "[encoded data removed]",
      "text/plain": [
       "<matplotlib.figure.Figure at 0x7fb5f3c67410>"
      ]
     },
     "metadata": {},
     "output_type": "display_data"
    }
   ],
   "source": [
    "plt.imshow(train[250][0][0][0]);\n",
    "plt.title(train[250][1]);\n",
    "plt.show()\n",
    "plt.imshow(train[250][0][2][0]);"
   ]
  },
  {
   "cell_type": "code",
   "execution_count": 70,
   "metadata": {
    "collapsed": true
   },
   "outputs": [],
   "source": []
  },
  {
   "cell_type": "code",
   "execution_count": null,
   "metadata": {
    "collapsed": false
   },
   "outputs": [],
   "source": []
  },
  {
   "cell_type": "code",
   "execution_count": 71,
   "metadata": {
    "collapsed": false
   },
   "outputs": [
    {
     "data": {
      "image/png": "[encoded data removed]",
      "text/plain": [
       "<matplotlib.figure.Figure at 0x7fb5f3c595d0>"
      ]
     },
     "metadata": {},
     "output_type": "display_data"
    },
    {
     "data": {
      "image/png": "[encoded data removed]",
      "text/plain": [
       "<matplotlib.figure.Figure at 0x7fb5f00dd290>"
      ]
     },
     "metadata": {},
     "output_type": "display_data"
    }
   ],
   "source": [
    "# def f(x):\n",
    "#     plt.imshow(train[x][0][1][0]);\n",
    "#     plt.title(train[x][1]);\n",
    "#     plt.show()\n",
    "#     plt.imshow(train[x][0][2][0]);\n",
    "\n",
    "# interact(f, x=(0,len(train),1));"
   ]
  },
  {
   "cell_type": "code",
   "execution_count": null,
   "metadata": {
    "collapsed": true
   },
   "outputs": [],
   "source": []
  },
  {
   "cell_type": "code",
   "execution_count": null,
   "metadata": {
    "collapsed": true
   },
   "outputs": [],
   "source": []
  },
  {
   "cell_type": "code",
   "execution_count": null,
   "metadata": {
    "collapsed": true
   },
   "outputs": [],
   "source": []
  },
  {
   "cell_type": "code",
   "execution_count": null,
   "metadata": {
    "collapsed": false
   },
   "outputs": [],
   "source": []
  },
  {
   "cell_type": "code",
   "execution_count": null,
   "metadata": {
    "collapsed": true
   },
   "outputs": [],
   "source": []
  },
  {
   "cell_type": "code",
   "execution_count": null,
   "metadata": {
    "collapsed": false
   },
   "outputs": [],
   "source": []
  },
  {
   "cell_type": "code",
   "execution_count": null,
   "metadata": {
    "collapsed": false
   },
   "outputs": [],
   "source": []
  },
  {
   "cell_type": "code",
   "execution_count": 84,
   "metadata": {
    "collapsed": false
   },
   "outputs": [],
   "source": [
    "tosplit = np.asarray([(\"True\" in name) for name in train.imgs])\n",
    "idx = range(tosplit.shape[0])\n",
    "train_idx, valid_idx = sklearn.model_selection.train_test_split(idx, stratify=tosplit, train_size=0.75, random_state=args.seed)\n"
   ]
  },
  {
   "cell_type": "code",
   "execution_count": 85,
   "metadata": {
    "collapsed": false
   },
   "outputs": [
    {
     "data": {
      "text/plain": [
       "Counter({False: 704, True: 1421})"
      ]
     },
     "execution_count": 85,
     "metadata": {},
     "output_type": "execute_result"
    }
   ],
   "source": [
    "import collections\n",
    "collections.Counter(tosplit)"
   ]
  },
  {
   "cell_type": "code",
   "execution_count": 86,
   "metadata": {
    "collapsed": false
   },
   "outputs": [
    {
     "name": "stdout",
     "output_type": "stream",
     "text": [
      "train_idx 1593\n",
      "valid_idx 532\n"
     ]
    }
   ],
   "source": [
    "print (\"train_idx\", len(train_idx))\n",
    "print (\"valid_idx\", len(valid_idx))"
   ]
  },
  {
   "cell_type": "code",
   "execution_count": 87,
   "metadata": {
    "collapsed": false
   },
   "outputs": [],
   "source": [
    "#reduce samples\n",
    "train_idx = train_idx[:args.nsamples]"
   ]
  },
  {
   "cell_type": "code",
   "execution_count": 88,
   "metadata": {
    "collapsed": false
   },
   "outputs": [
    {
     "name": "stdout",
     "output_type": "stream",
     "text": [
      "train_idx 500\n",
      "valid_idx 532\n"
     ]
    }
   ],
   "source": [
    "print (\"train_idx\", len(train_idx))\n",
    "print (\"valid_idx\", len(valid_idx))"
   ]
  },
  {
   "cell_type": "code",
   "execution_count": 89,
   "metadata": {
    "collapsed": false
   },
   "outputs": [],
   "source": [
    "train_loader = torch.utils.data.DataLoader(dataset=train, batch_size=BATCH_SIZE, \n",
    "                                          sampler=torch.utils.data.sampler.SubsetRandomSampler(train_idx),\n",
    "                                          num_workers=8)\n",
    "valid_loader = torch.utils.data.DataLoader(dataset=train, batch_size=len(valid_idx), \n",
    "                                          sampler=torch.utils.data.sampler.SubsetRandomSampler(valid_idx),\n",
    "                                          num_workers=8)"
   ]
  },
  {
   "cell_type": "code",
   "execution_count": null,
   "metadata": {
    "collapsed": false
   },
   "outputs": [],
   "source": []
  },
  {
   "cell_type": "code",
   "execution_count": null,
   "metadata": {
    "collapsed": true
   },
   "outputs": [],
   "source": []
  },
  {
   "cell_type": "code",
   "execution_count": 90,
   "metadata": {
    "collapsed": false
   },
   "outputs": [],
   "source": [
    "valid_data = list(valid_loader)\n",
    "valid_x = Variable(valid_data[0][0][0]).cuda()\n",
    "valid_y = valid_data[0][1].cuda()"
   ]
  },
  {
   "cell_type": "code",
   "execution_count": null,
   "metadata": {
    "collapsed": false
   },
   "outputs": [],
   "source": []
  },
  {
   "cell_type": "code",
   "execution_count": null,
   "metadata": {
    "collapsed": false
   },
   "outputs": [],
   "source": []
  },
  {
   "cell_type": "code",
   "execution_count": 91,
   "metadata": {
    "collapsed": false
   },
   "outputs": [
    {
     "data": {
      "image/png": "[encoded data removed]",
      "text/plain": [
       "<matplotlib.figure.Figure at 0x7fb5fc8a8f10>"
      ]
     },
     "metadata": {},
     "output_type": "display_data"
    },
    {
     "data": {
      "image/png": "[encoded data removed]",
      "text/plain": [
       "<matplotlib.figure.Figure at 0x7fb5fc00d310>"
      ]
     },
     "metadata": {},
     "output_type": "display_data"
    }
   ],
   "source": [
    "plt.imshow(valid_data[0][0][0][60][0]);\n",
    "plt.title(valid_y[60]);\n",
    "plt.show()\n",
    "plt.imshow(valid_data[0][0][2][60][0]);\n"
   ]
  },
  {
   "cell_type": "code",
   "execution_count": null,
   "metadata": {
    "collapsed": false
   },
   "outputs": [],
   "source": []
  },
  {
   "cell_type": "code",
   "execution_count": null,
   "metadata": {
    "collapsed": false
   },
   "outputs": [],
   "source": []
  },
  {
   "cell_type": "code",
   "execution_count": 92,
   "metadata": {
    "collapsed": false
   },
   "outputs": [],
   "source": [
    "class CNN(nn.Module):\n",
    "    def __init__(self):\n",
    "        super(CNN, self).__init__()\n",
    "        self.conv1 = nn.Sequential(\n",
    "            nn.Conv2d(\n",
    "                in_channels=1,\n",
    "                out_channels=64,\n",
    "                kernel_size=3,\n",
    "                stride=2,   \n",
    "                padding=0,        \n",
    "            ),     \n",
    "            #nn.BatchNorm2d(64),\n",
    "            nn.ReLU(),\n",
    "            nn.Conv2d(\n",
    "                in_channels=64,\n",
    "                out_channels=32,\n",
    "                kernel_size=3,\n",
    "                stride=2,   \n",
    "                padding=0,        \n",
    "            ),\n",
    "            #nn.BatchNorm2d(32),\n",
    "            nn.ReLU(),\n",
    "            nn.Conv2d(\n",
    "                in_channels=32,\n",
    "                out_channels=16,\n",
    "                kernel_size=3,\n",
    "                stride=2,   \n",
    "                padding=0,        \n",
    "            ),\n",
    "            #nn.BatchNorm2d(16),\n",
    "            nn.ReLU(),\n",
    "            nn.Conv2d(\n",
    "                in_channels=16,\n",
    "                out_channels=8,\n",
    "                kernel_size=3,\n",
    "                stride=2,   \n",
    "                padding=0,        \n",
    "            ),\n",
    "            nn.ReLU(),\n",
    "        )\n",
    "        self.out = nn.Linear(440, 2)\n",
    "\n",
    "    def forward(self, x):\n",
    "        x = self.conv1(x)\n",
    "        x = x.view(x.size(0), -1)\n",
    "        output = self.out(x)\n",
    "        return output, x"
   ]
  },
  {
   "cell_type": "code",
   "execution_count": 93,
   "metadata": {
    "collapsed": false
   },
   "outputs": [
    {
     "name": "stdout",
     "output_type": "stream",
     "text": [
      "CNN(\n",
      "  (conv1): Sequential(\n",
      "    (0): Conv2d(1, 64, kernel_size=(3, 3), stride=(2, 2))\n",
      "    (1): ReLU()\n",
      "    (2): Conv2d(64, 32, kernel_size=(3, 3), stride=(2, 2))\n",
      "    (3): ReLU()\n",
      "    (4): Conv2d(32, 16, kernel_size=(3, 3), stride=(2, 2))\n",
      "    (5): ReLU()\n",
      "    (6): Conv2d(16, 8, kernel_size=(3, 3), stride=(2, 2))\n",
      "    (7): ReLU()\n",
      "  )\n",
      "  (out): Linear(in_features=440, out_features=2, bias=True)\n",
      ")\n"
     ]
    }
   ],
   "source": [
    "cnn = CNN()\n",
    "if cuda:\n",
    "    cnn = cnn.cuda()\n",
    "\n",
    "print(cnn)"
   ]
  },
  {
   "cell_type": "code",
   "execution_count": 94,
   "metadata": {
    "collapsed": false
   },
   "outputs": [],
   "source": [
    "optimizer = torch.optim.Adam(cnn.parameters(), lr=0.001)\n",
    "loss_func = nn.CrossEntropyLoss()"
   ]
  },
  {
   "cell_type": "code",
   "execution_count": null,
   "metadata": {
    "collapsed": false
   },
   "outputs": [],
   "source": []
  },
  {
   "cell_type": "code",
   "execution_count": null,
   "metadata": {
    "collapsed": false
   },
   "outputs": [],
   "source": []
  },
  {
   "cell_type": "code",
   "execution_count": null,
   "metadata": {
    "collapsed": true
   },
   "outputs": [],
   "source": []
  },
  {
   "cell_type": "code",
   "execution_count": null,
   "metadata": {
    "collapsed": true
   },
   "outputs": [],
   "source": []
  },
  {
   "cell_type": "code",
   "execution_count": null,
   "metadata": {
    "collapsed": true
   },
   "outputs": [],
   "source": []
  },
  {
   "cell_type": "code",
   "execution_count": null,
   "metadata": {
    "collapsed": false
   },
   "outputs": [],
   "source": []
  },
  {
   "cell_type": "code",
   "execution_count": null,
   "metadata": {
    "collapsed": false
   },
   "outputs": [],
   "source": []
  },
  {
   "cell_type": "code",
   "execution_count": 34,
   "metadata": {
    "collapsed": false,
    "scrolled": false
   },
   "outputs": [
    {
     "name": "stderr",
     "output_type": "stream",
     "text": [
      "/part/01/Tmp/lisa/os_v5/anaconda/lib/python2.7/site-packages/ipykernel/__main__.py:38: UserWarning: invalid index of a 0-dim tensor. This will be an error in PyTorch 0.5. Use tensor.item() to convert a 0-dim tensor to a Python number\n"
     ]
    },
    {
     "name": "stdout",
     "output_type": "stream",
     "text": [
      "Epoch:  0 | train loss: 0.6199 | valid auc: 0.50\n",
      "Epoch:  1 | train loss: 0.6232 | valid auc: 0.50\n",
      "Epoch:  2 | train loss: 0.6154 | valid auc: 0.50\n",
      "Epoch:  3 | train loss: 0.6066 | valid auc: 0.50\n",
      "Epoch:  4 | train loss: 0.5933 | valid auc: 0.50\n",
      "Epoch:  5 | train loss: 0.5744 | valid auc: 0.50\n",
      "Epoch:  6 | train loss: 0.5504 | valid auc: 0.50\n",
      "Epoch:  7 | train loss: 0.5264 | valid auc: 0.50\n",
      "Epoch:  8 | train loss: 0.5095 | valid auc: 0.50\n",
      "Epoch:  9 | train loss: 0.5066 | valid auc: 0.50\n",
      "Epoch:  10 | train loss: 0.4980 | valid auc: 0.50\n",
      "Epoch:  11 | train loss: 0.4955 | valid auc: 0.50\n",
      "Epoch:  12 | train loss: 0.4939 | valid auc: 0.50\n",
      "Epoch:  13 | train loss: 0.4845 | valid auc: 0.59\n",
      "Epoch:  14 | train loss: 0.4820 | valid auc: 0.62\n",
      "Epoch:  15 | train loss: 0.4779 | valid auc: 0.67\n",
      "Epoch:  16 | train loss: 0.4797 | valid auc: 0.68\n",
      "Epoch:  17 | train loss: 0.4792 | valid auc: 0.69\n",
      "Epoch:  18 | train loss: 0.4715 | valid auc: 0.69\n",
      "Epoch:  19 | train loss: 0.4645 | valid auc: 0.63\n",
      "Epoch:  20 | train loss: 0.4652 | valid auc: 0.69\n",
      "Epoch:  21 | train loss: 0.4565 | valid auc: 0.65\n",
      "Epoch:  22 | train loss: 0.4518 | valid auc: 0.73\n",
      "Epoch:  23 | train loss: 0.4500 | valid auc: 0.66\n",
      "Epoch:  24 | train loss: 0.4289 | valid auc: 0.75\n",
      "Epoch:  25 | train loss: 0.4135 | valid auc: 0.67\n",
      "Epoch:  26 | train loss: 0.3994 | valid auc: 0.81\n",
      "Epoch:  27 | train loss: 0.3912 | valid auc: 0.68\n",
      "Epoch:  28 | train loss: 0.3667 | valid auc: 0.81\n",
      "Epoch:  29 | train loss: 0.3528 | valid auc: 0.74\n",
      "Epoch:  30 | train loss: 0.3323 | valid auc: 0.79\n",
      "Epoch:  31 | train loss: 0.3266 | valid auc: 0.82\n",
      "Epoch:  32 | train loss: 0.3114 | valid auc: 0.74\n",
      "Epoch:  33 | train loss: 0.3167 | valid auc: 0.81\n",
      "Epoch:  34 | train loss: 0.2935 | valid auc: 0.78\n",
      "Epoch:  35 | train loss: 0.2992 | valid auc: 0.75\n",
      "Epoch:  36 | train loss: 0.2958 | valid auc: 0.82\n",
      "Epoch:  37 | train loss: 0.2838 | valid auc: 0.77\n",
      "Epoch:  38 | train loss: 0.2735 | valid auc: 0.79\n",
      "Epoch:  39 | train loss: 0.2614 | valid auc: 0.82\n",
      "Epoch:  40 | train loss: 0.2607 | valid auc: 0.79\n",
      "Epoch:  41 | train loss: 0.2575 | valid auc: 0.76\n",
      "Epoch:  42 | train loss: 0.2652 | valid auc: 0.78\n",
      "Epoch:  43 | train loss: 0.2448 | valid auc: 0.83\n",
      "Epoch:  44 | train loss: 0.2416 | valid auc: 0.78\n",
      "Epoch:  45 | train loss: 0.2306 | valid auc: 0.80\n",
      "Epoch:  46 | train loss: 0.2270 | valid auc: 0.83\n",
      "Epoch:  47 | train loss: 0.2242 | valid auc: 0.79\n",
      "Epoch:  48 | train loss: 0.2254 | valid auc: 0.77\n",
      "Epoch:  49 | train loss: 0.2201 | valid auc: 0.82\n",
      "Epoch:  50 | train loss: 0.2144 | valid auc: 0.85\n",
      "Epoch:  51 | train loss: 0.2405 | valid auc: 0.81\n",
      "Epoch:  52 | train loss: 0.2099 | valid auc: 0.82\n",
      "Epoch:  53 | train loss: 0.2203 | valid auc: 0.77\n",
      "Epoch:  54 | train loss: 0.2240 | valid auc: 0.75\n",
      "Epoch:  55 | train loss: 0.2023 | valid auc: 0.82\n",
      "Epoch:  56 | train loss: 0.1984 | valid auc: 0.83\n",
      "Epoch:  57 | train loss: 0.1955 | valid auc: 0.78\n",
      "Epoch:  58 | train loss: 0.1933 | valid auc: 0.80\n",
      "Epoch:  59 | train loss: 0.1944 | valid auc: 0.81\n",
      "Epoch:  60 | train loss: 0.1965 | valid auc: 0.84\n",
      "Epoch:  61 | train loss: 0.1932 | valid auc: 0.88\n",
      "Epoch:  62 | train loss: 0.1932 | valid auc: 0.78\n"
     ]
    },
    {
     "name": "stderr",
     "output_type": "stream",
     "text": [
      "Process Process-1564:\n",
      "Process Process-1563:\n",
      "Traceback (most recent call last):\n",
      "Traceback (most recent call last):\n",
      "Process Process-1562:\n",
      "  File \"/Tmp/lisa/os_v5/anaconda/lib/python2.7/multiprocessing/process.py\", line 258, in _bootstrap\n",
      "    self.run()\n",
      "  File \"/Tmp/lisa/os_v5/anaconda/lib/python2.7/multiprocessing/process.py\", line 114, in run\n",
      "    self._target(*self._args, **self._kwargs)\n",
      "  File \"/u/cohenjos/.local/lib/python2.7/site-packages/torch/utils/data/dataloader.py\", line 57, in _worker_loop\n",
      "Process Process-1565:\n",
      "Process Process-1561:\n",
      "Traceback (most recent call last):\n",
      "Traceback (most recent call last):\n",
      "Process Process-1568:\n",
      "    samples = collate_fn([dataset[i] for i in batch_indices])\n",
      "  File \"/Tmp/lisa/os_v5/anaconda/lib/python2.7/multiprocessing/process.py\", line 258, in _bootstrap\n",
      "  File \"<ipython-input-8-3903f5cea59c>\", line 33, in __getitem__\n",
      "    self.run()\n",
      "    seg = seg/seg.max()\n",
      "  File \"/Tmp/lisa/os_v5/anaconda/lib/python2.7/multiprocessing/process.py\", line 114, in run\n",
      "  File \"/u/cohenjos/.local/lib/python2.7/site-packages/numpy/core/_methods.py\", line 28, in _amax\n",
      "    self._target(*self._args, **self._kwargs)\n",
      "  File \"/u/cohenjos/.local/lib/python2.7/site-packages/torch/utils/data/dataloader.py\", line 57, in _worker_loop\n",
      "Process Process-1567:\n",
      "  File \"/Tmp/lisa/os_v5/anaconda/lib/python2.7/multiprocessing/process.py\", line 258, in _bootstrap\n",
      "    samples = collate_fn([dataset[i] for i in batch_indices])\n",
      "    self.run()\n",
      "  File \"<ipython-input-8-3903f5cea59c>\", line 18, in __getitem__\n",
      "    return umr_maximum(a, axis, None, out, keepdims, initial)\n",
      "    flair = imread(self.datapath + \"/flair/\" + filename)\n",
      "KeyboardInterrupt\n",
      "  File \"/Tmp/lisa/os_v5/anaconda/lib/python2.7/multiprocessing/process.py\", line 114, in run\n",
      "Traceback (most recent call last):\n",
      "  File \"/u/cohenjos/.local/lib/python2.7/site-packages/skimage/io/_io.py\", line 61, in imread\n",
      "    self._target(*self._args, **self._kwargs)\n",
      "  File \"/Tmp/lisa/os_v5/anaconda/lib/python2.7/multiprocessing/process.py\", line 258, in _bootstrap\n",
      "Traceback (most recent call last):\n",
      "  File \"/u/cohenjos/.local/lib/python2.7/site-packages/torch/utils/data/dataloader.py\", line 57, in _worker_loop\n",
      "  File \"/Tmp/lisa/os_v5/anaconda/lib/python2.7/multiprocessing/process.py\", line 258, in _bootstrap\n",
      "    self.run()\n",
      "Process Process-1566:\n",
      "Traceback (most recent call last):\n",
      "    self.run()\n",
      "    samples = collate_fn([dataset[i] for i in batch_indices])\n",
      "    img = call_plugin('imread', fname, plugin=plugin, **plugin_args)\n",
      "  File \"/Tmp/lisa/os_v5/anaconda/lib/python2.7/multiprocessing/process.py\", line 258, in _bootstrap\n",
      "  File \"/Tmp/lisa/os_v5/anaconda/lib/python2.7/multiprocessing/process.py\", line 258, in _bootstrap\n",
      "  File \"/Tmp/lisa/os_v5/anaconda/lib/python2.7/multiprocessing/process.py\", line 114, in run\n",
      "  File \"/Tmp/lisa/os_v5/anaconda/lib/python2.7/multiprocessing/process.py\", line 114, in run\n",
      "  File \"/u/cohenjos/.local/lib/python2.7/site-packages/skimage/io/manage_plugins.py\", line 211, in call_plugin\n",
      "  File \"<ipython-input-8-3903f5cea59c>\", line 28, in __getitem__\n",
      "Traceback (most recent call last):\n",
      "    self.run()\n",
      "    self._target(*self._args, **self._kwargs)\n",
      "    self.run()\n",
      "    seg = imread(self.datapath + \"/segmentation/\" + filename)\n",
      "    self._target(*self._args, **self._kwargs)\n",
      "  File \"/Tmp/lisa/os_v5/anaconda/lib/python2.7/multiprocessing/process.py\", line 114, in run\n",
      "    return func(*args, **kwargs)\n",
      "  File \"/Tmp/lisa/os_v5/anaconda/lib/python2.7/multiprocessing/process.py\", line 114, in run\n",
      "  File \"/u/cohenjos/.local/lib/python2.7/site-packages/skimage/io/_io.py\", line 61, in imread\n",
      "  File \"/Tmp/lisa/os_v5/anaconda/lib/python2.7/multiprocessing/process.py\", line 258, in _bootstrap\n",
      "  File \"/u/cohenjos/.local/lib/python2.7/site-packages/torch/utils/data/dataloader.py\", line 57, in _worker_loop\n",
      "    self.run()\n",
      "  File \"/u/cohenjos/.local/lib/python2.7/site-packages/torch/utils/data/dataloader.py\", line 57, in _worker_loop\n",
      "    samples = collate_fn([dataset[i] for i in batch_indices])\n",
      "    img = call_plugin('imread', fname, plugin=plugin, **plugin_args)\n",
      "    self._target(*self._args, **self._kwargs)\n",
      "    self._target(*self._args, **self._kwargs)\n",
      "  File \"/u/cohenjos/.local/lib/python2.7/site-packages/skimage/io/_plugins/pil_plugin.py\", line 35, in imread\n",
      "  File \"/Tmp/lisa/os_v5/anaconda/lib/python2.7/multiprocessing/process.py\", line 114, in run\n",
      "  File \"<ipython-input-8-3903f5cea59c>\", line 32, in __getitem__\n",
      "  File \"/u/cohenjos/.local/lib/python2.7/site-packages/skimage/filters/_gaussian.py\", line 120, in gaussian\n",
      "  File \"/u/cohenjos/.local/lib/python2.7/site-packages/skimage/io/manage_plugins.py\", line 211, in call_plugin\n",
      "    self._target(*self._args, **self._kwargs)\n",
      "  File \"/u/cohenjos/.local/lib/python2.7/site-packages/torch/utils/data/dataloader.py\", line 57, in _worker_loop\n",
      "    samples = collate_fn([dataset[i] for i in batch_indices])\n",
      "  File \"/u/cohenjos/.local/lib/python2.7/site-packages/torch/utils/data/dataloader.py\", line 57, in _worker_loop\n",
      "    seg = skimage.filters.gaussian(seg, self.blur)\n",
      "    return func(*args, **kwargs)\n",
      "  File \"/u/cohenjos/.local/lib/python2.7/site-packages/torch/utils/data/dataloader.py\", line 57, in _worker_loop\n",
      "    samples = collate_fn([dataset[i] for i in batch_indices])\n",
      "  File \"<ipython-input-8-3903f5cea59c>\", line 32, in __getitem__\n",
      "    samples = collate_fn([dataset[i] for i in batch_indices])\n",
      "    samples = collate_fn([dataset[i] for i in batch_indices])\n",
      "    with open(fname, 'rb') as f:\n",
      "  File \"<ipython-input-8-3903f5cea59c>\", line 32, in __getitem__\n",
      "  File \"/u/cohenjos/.local/lib/python2.7/site-packages/skimage/filters/_gaussian.py\", line 120, in gaussian\n",
      "  File \"/u/cohenjos/.local/lib/python2.7/site-packages/skimage/io/_plugins/pil_plugin.py\", line 35, in imread\n",
      "KeyboardInterrupt\n",
      "  File \"<ipython-input-8-3903f5cea59c>\", line 35, in __getitem__\n",
      "    seg = skimage.filters.gaussian(seg, self.blur)\n",
      "  File \"<ipython-input-8-3903f5cea59c>\", line 32, in __getitem__\n",
      "    with open(fname, 'rb') as f:\n",
      "    seg = skimage.filters.gaussian(seg, self.blur)\n",
      "KeyboardInterrupt\n",
      "  File \"/u/cohenjos/.local/lib/python2.7/site-packages/skimage/filters/_gaussian.py\", line 120, in gaussian\n",
      "    seg = (seg > 0)*1.\n",
      "    seg = skimage.filters.gaussian(seg, self.blur)\n",
      "    truncate=truncate)\n",
      "    truncate=truncate)\n",
      "    truncate=truncate)\n",
      "KeyboardInterrupt\n",
      "  File \"/u/cohenjos/.local/lib/python2.7/site-packages/scipy/ndimage/filters.py\", line 286, in gaussian_filter\n",
      "  File \"/u/cohenjos/.local/lib/python2.7/site-packages/skimage/filters/_gaussian.py\", line 120, in gaussian\n",
      "    truncate=truncate)\n",
      "  File \"/u/cohenjos/.local/lib/python2.7/site-packages/scipy/ndimage/filters.py\", line 286, in gaussian_filter\n",
      "  File \"/u/cohenjos/.local/lib/python2.7/site-packages/scipy/ndimage/filters.py\", line 286, in gaussian_filter\n",
      "    mode, cval, truncate)\n",
      "    mode, cval, truncate)\n",
      "  File \"/u/cohenjos/.local/lib/python2.7/site-packages/scipy/ndimage/filters.py\", line 204, in gaussian_filter1d\n",
      "  File \"/u/cohenjos/.local/lib/python2.7/site-packages/scipy/ndimage/filters.py\", line 204, in gaussian_filter1d\n",
      "  File \"/u/cohenjos/.local/lib/python2.7/site-packages/scipy/ndimage/filters.py\", line 92, in correlate1d\n",
      "    return correlate1d(input, weights, axis, output, mode, cval, 0)\n",
      "    mode, cval, truncate)\n",
      "  File \"/u/cohenjos/.local/lib/python2.7/site-packages/scipy/ndimage/filters.py\", line 286, in gaussian_filter\n",
      "    return correlate1d(input, weights, axis, output, mode, cval, 0)\n",
      "  File \"/u/cohenjos/.local/lib/python2.7/site-packages/scipy/ndimage/filters.py\", line 204, in gaussian_filter1d\n",
      "    mode, cval, truncate)\n",
      "  File \"/u/cohenjos/.local/lib/python2.7/site-packages/scipy/ndimage/filters.py\", line 92, in correlate1d\n",
      "  File \"/u/cohenjos/.local/lib/python2.7/site-packages/scipy/ndimage/filters.py\", line 204, in gaussian_filter1d\n",
      "    origin)\n",
      "    return correlate1d(input, weights, axis, output, mode, cval, 0)\n",
      "KeyboardInterrupt\n",
      "    return correlate1d(input, weights, axis, output, mode, cval, 0)\n",
      "    origin)\n",
      "KeyboardInterrupt\n",
      "  File \"/u/cohenjos/.local/lib/python2.7/site-packages/scipy/ndimage/filters.py\", line 92, in correlate1d\n",
      "  File \"/u/cohenjos/.local/lib/python2.7/site-packages/scipy/ndimage/filters.py\", line 92, in correlate1d\n",
      "    origin)\n",
      "    origin)\n",
      "KeyboardInterrupt\n",
      "KeyboardInterrupt\n"
     ]
    },
    {
     "ename": "RuntimeError",
     "evalue": "DataLoader worker (pid 23417) exited unexpectedly with exit code 1.",
     "output_type": "error",
     "traceback": [
      "\u001b[1;31m---------------------------------------------------------------------------\u001b[0m",
      "\u001b[1;31mRuntimeError\u001b[0m                              Traceback (most recent call last)",
      "\u001b[1;32m/u/cohenjos/.local/lib/python2.7/site-packages/IPython/core/interactiveshell.pyc\u001b[0m in \u001b[0;36mrun_code\u001b[1;34m(self, code_obj, result)\u001b[0m\n\u001b[0;32m   2900\u001b[0m             \u001b[1;32mif\u001b[0m \u001b[0mresult\u001b[0m \u001b[1;32mis\u001b[0m \u001b[1;32mnot\u001b[0m \u001b[0mNone\u001b[0m\u001b[1;33m:\u001b[0m\u001b[1;33m\u001b[0m\u001b[0m\n\u001b[0;32m   2901\u001b[0m                 \u001b[0mresult\u001b[0m\u001b[1;33m.\u001b[0m\u001b[0merror_in_exec\u001b[0m \u001b[1;33m=\u001b[0m \u001b[0msys\u001b[0m\u001b[1;33m.\u001b[0m\u001b[0mexc_info\u001b[0m\u001b[1;33m(\u001b[0m\u001b[1;33m)\u001b[0m\u001b[1;33m[\u001b[0m\u001b[1;36m1\u001b[0m\u001b[1;33m]\u001b[0m\u001b[1;33m\u001b[0m\u001b[0m\n\u001b[1;32m-> 2902\u001b[1;33m             \u001b[0mself\u001b[0m\u001b[1;33m.\u001b[0m\u001b[0mshowtraceback\u001b[0m\u001b[1;33m(\u001b[0m\u001b[1;33m)\u001b[0m\u001b[1;33m\u001b[0m\u001b[0m\n\u001b[0m\u001b[0;32m   2903\u001b[0m         \u001b[1;32melse\u001b[0m\u001b[1;33m:\u001b[0m\u001b[1;33m\u001b[0m\u001b[0m\n\u001b[0;32m   2904\u001b[0m             \u001b[0moutflag\u001b[0m \u001b[1;33m=\u001b[0m \u001b[1;36m0\u001b[0m\u001b[1;33m\u001b[0m\u001b[0m\n",
      "\u001b[1;32m/u/cohenjos/.local/lib/python2.7/site-packages/IPython/core/interactiveshell.pyc\u001b[0m in \u001b[0;36mshowtraceback\u001b[1;34m(self, exc_tuple, filename, tb_offset, exception_only)\u001b[0m\n\u001b[0;32m   1828\u001b[0m                     \u001b[1;32mexcept\u001b[0m \u001b[0mException\u001b[0m\u001b[1;33m:\u001b[0m\u001b[1;33m\u001b[0m\u001b[0m\n\u001b[0;32m   1829\u001b[0m                         stb = self.InteractiveTB.structured_traceback(etype,\n\u001b[1;32m-> 1830\u001b[1;33m                                             value, tb, tb_offset=tb_offset)\n\u001b[0m\u001b[0;32m   1831\u001b[0m \u001b[1;33m\u001b[0m\u001b[0m\n\u001b[0;32m   1832\u001b[0m                     \u001b[0mself\u001b[0m\u001b[1;33m.\u001b[0m\u001b[0m_showtraceback\u001b[0m\u001b[1;33m(\u001b[0m\u001b[0metype\u001b[0m\u001b[1;33m,\u001b[0m \u001b[0mvalue\u001b[0m\u001b[1;33m,\u001b[0m \u001b[0mstb\u001b[0m\u001b[1;33m)\u001b[0m\u001b[1;33m\u001b[0m\u001b[0m\n",
      "\u001b[1;32m/u/cohenjos/.local/lib/python2.7/site-packages/IPython/core/ultratb.pyc\u001b[0m in \u001b[0;36mstructured_traceback\u001b[1;34m(self, etype, value, tb, tb_offset, number_of_lines_of_context)\u001b[0m\n\u001b[0;32m   1390\u001b[0m         \u001b[0mself\u001b[0m\u001b[1;33m.\u001b[0m\u001b[0mtb\u001b[0m \u001b[1;33m=\u001b[0m \u001b[0mtb\u001b[0m\u001b[1;33m\u001b[0m\u001b[0m\n\u001b[0;32m   1391\u001b[0m         return FormattedTB.structured_traceback(\n\u001b[1;32m-> 1392\u001b[1;33m             self, etype, value, tb, tb_offset, number_of_lines_of_context)\n\u001b[0m\u001b[0;32m   1393\u001b[0m \u001b[1;33m\u001b[0m\u001b[0m\n\u001b[0;32m   1394\u001b[0m \u001b[1;33m\u001b[0m\u001b[0m\n",
      "\u001b[1;32m/u/cohenjos/.local/lib/python2.7/site-packages/IPython/core/ultratb.pyc\u001b[0m in \u001b[0;36mstructured_traceback\u001b[1;34m(self, etype, value, tb, tb_offset, number_of_lines_of_context)\u001b[0m\n\u001b[0;32m   1298\u001b[0m             \u001b[1;31m# Verbose modes need a full traceback\u001b[0m\u001b[1;33m\u001b[0m\u001b[1;33m\u001b[0m\u001b[0m\n\u001b[0;32m   1299\u001b[0m             return VerboseTB.structured_traceback(\n\u001b[1;32m-> 1300\u001b[1;33m                 \u001b[0mself\u001b[0m\u001b[1;33m,\u001b[0m \u001b[0metype\u001b[0m\u001b[1;33m,\u001b[0m \u001b[0mvalue\u001b[0m\u001b[1;33m,\u001b[0m \u001b[0mtb\u001b[0m\u001b[1;33m,\u001b[0m \u001b[0mtb_offset\u001b[0m\u001b[1;33m,\u001b[0m \u001b[0mnumber_of_lines_of_context\u001b[0m\u001b[1;33m\u001b[0m\u001b[0m\n\u001b[0m\u001b[0;32m   1301\u001b[0m             )\n\u001b[0;32m   1302\u001b[0m         \u001b[1;32melse\u001b[0m\u001b[1;33m:\u001b[0m\u001b[1;33m\u001b[0m\u001b[0m\n",
      "\u001b[1;32m/u/cohenjos/.local/lib/python2.7/site-packages/IPython/core/ultratb.pyc\u001b[0m in \u001b[0;36mstructured_traceback\u001b[1;34m(self, etype, evalue, etb, tb_offset, number_of_lines_of_context)\u001b[0m\n\u001b[0;32m   1148\u001b[0m \u001b[1;33m\u001b[0m\u001b[0m\n\u001b[0;32m   1149\u001b[0m         formatted_exception = self.format_exception_as_a_whole(etype, evalue, etb, number_of_lines_of_context,\n\u001b[1;32m-> 1150\u001b[1;33m                                                                tb_offset)\n\u001b[0m\u001b[0;32m   1151\u001b[0m \u001b[1;33m\u001b[0m\u001b[0m\n\u001b[0;32m   1152\u001b[0m         \u001b[0mcolors\u001b[0m \u001b[1;33m=\u001b[0m \u001b[0mself\u001b[0m\u001b[1;33m.\u001b[0m\u001b[0mColors\u001b[0m  \u001b[1;31m# just a shorthand + quicker name lookup\u001b[0m\u001b[1;33m\u001b[0m\u001b[0m\n",
      "\u001b[1;32m/u/cohenjos/.local/lib/python2.7/site-packages/IPython/core/ultratb.pyc\u001b[0m in \u001b[0;36mformat_exception_as_a_whole\u001b[1;34m(self, etype, evalue, etb, number_of_lines_of_context, tb_offset)\u001b[0m\n\u001b[0;32m   1099\u001b[0m         \u001b[0mlast_unique\u001b[0m\u001b[1;33m,\u001b[0m \u001b[0mrecursion_repeat\u001b[0m \u001b[1;33m=\u001b[0m \u001b[0mfind_recursion\u001b[0m\u001b[1;33m(\u001b[0m\u001b[0morig_etype\u001b[0m\u001b[1;33m,\u001b[0m \u001b[0mevalue\u001b[0m\u001b[1;33m,\u001b[0m \u001b[0mrecords\u001b[0m\u001b[1;33m)\u001b[0m\u001b[1;33m\u001b[0m\u001b[0m\n\u001b[0;32m   1100\u001b[0m \u001b[1;33m\u001b[0m\u001b[0m\n\u001b[1;32m-> 1101\u001b[1;33m         \u001b[0mframes\u001b[0m \u001b[1;33m=\u001b[0m \u001b[0mself\u001b[0m\u001b[1;33m.\u001b[0m\u001b[0mformat_records\u001b[0m\u001b[1;33m(\u001b[0m\u001b[0mrecords\u001b[0m\u001b[1;33m,\u001b[0m \u001b[0mlast_unique\u001b[0m\u001b[1;33m,\u001b[0m \u001b[0mrecursion_repeat\u001b[0m\u001b[1;33m)\u001b[0m\u001b[1;33m\u001b[0m\u001b[0m\n\u001b[0m\u001b[0;32m   1102\u001b[0m \u001b[1;33m\u001b[0m\u001b[0m\n\u001b[0;32m   1103\u001b[0m         \u001b[0mformatted_exception\u001b[0m \u001b[1;33m=\u001b[0m \u001b[0mself\u001b[0m\u001b[1;33m.\u001b[0m\u001b[0mformat_exception\u001b[0m\u001b[1;33m(\u001b[0m\u001b[0metype\u001b[0m\u001b[1;33m,\u001b[0m \u001b[0mevalue\u001b[0m\u001b[1;33m)\u001b[0m\u001b[1;33m\u001b[0m\u001b[0m\n",
      "\u001b[1;32m/u/cohenjos/.local/lib/python2.7/site-packages/IPython/core/ultratb.pyc\u001b[0m in \u001b[0;36mformat_records\u001b[1;34m(self, records, last_unique, recursion_repeat)\u001b[0m\n\u001b[0;32m    832\u001b[0m         \u001b[1;32mfor\u001b[0m \u001b[0mr\u001b[0m \u001b[1;32min\u001b[0m \u001b[0mrecords\u001b[0m\u001b[1;33m[\u001b[0m\u001b[1;33m:\u001b[0m\u001b[0mlast_unique\u001b[0m\u001b[1;33m+\u001b[0m\u001b[0mrecursion_repeat\u001b[0m\u001b[1;33m+\u001b[0m\u001b[1;36m1\u001b[0m\u001b[1;33m]\u001b[0m\u001b[1;33m:\u001b[0m\u001b[1;33m\u001b[0m\u001b[0m\n\u001b[0;32m    833\u001b[0m             \u001b[1;31m#print '*** record:',file,lnum,func,lines,index  # dbg\u001b[0m\u001b[1;33m\u001b[0m\u001b[1;33m\u001b[0m\u001b[0m\n\u001b[1;32m--> 834\u001b[1;33m             \u001b[0mframes\u001b[0m\u001b[1;33m.\u001b[0m\u001b[0mappend\u001b[0m\u001b[1;33m(\u001b[0m\u001b[0mself\u001b[0m\u001b[1;33m.\u001b[0m\u001b[0mformat_record\u001b[0m\u001b[1;33m(\u001b[0m\u001b[1;33m*\u001b[0m\u001b[0mr\u001b[0m\u001b[1;33m)\u001b[0m\u001b[1;33m)\u001b[0m\u001b[1;33m\u001b[0m\u001b[0m\n\u001b[0m\u001b[0;32m    835\u001b[0m \u001b[1;33m\u001b[0m\u001b[0m\n\u001b[0;32m    836\u001b[0m         \u001b[1;32mif\u001b[0m \u001b[0mrecursion_repeat\u001b[0m\u001b[1;33m:\u001b[0m\u001b[1;33m\u001b[0m\u001b[0m\n",
      "\u001b[1;32m/u/cohenjos/.local/lib/python2.7/site-packages/IPython/core/ultratb.pyc\u001b[0m in \u001b[0;36mformat_record\u001b[1;34m(self, frame, file, lnum, func, lines, index)\u001b[0m\n\u001b[0;32m   1010\u001b[0m             return '%s%s' % (level, ''.join(\n\u001b[0;32m   1011\u001b[0m                 _format_traceback_lines(lnum, index, lines, Colors, lvals,\n\u001b[1;32m-> 1012\u001b[1;33m                                         col_scheme)))\n\u001b[0m\u001b[0;32m   1013\u001b[0m \u001b[1;33m\u001b[0m\u001b[0m\n\u001b[0;32m   1014\u001b[0m     \u001b[1;32mdef\u001b[0m \u001b[0mprepare_chained_exception_message\u001b[0m\u001b[1;33m(\u001b[0m\u001b[0mself\u001b[0m\u001b[1;33m,\u001b[0m \u001b[0mcause\u001b[0m\u001b[1;33m)\u001b[0m\u001b[1;33m:\u001b[0m\u001b[1;33m\u001b[0m\u001b[0m\n",
      "\u001b[1;32m/u/cohenjos/.local/lib/python2.7/site-packages/IPython/core/ultratb.pyc\u001b[0m in \u001b[0;36m_format_traceback_lines\u001b[1;34m(lnum, index, lines, Colors, lvals, scheme)\u001b[0m\n\u001b[0;32m    395\u001b[0m         \u001b[0mline\u001b[0m \u001b[1;33m=\u001b[0m \u001b[0mpy3compat\u001b[0m\u001b[1;33m.\u001b[0m\u001b[0mcast_unicode\u001b[0m\u001b[1;33m(\u001b[0m\u001b[0mline\u001b[0m\u001b[1;33m)\u001b[0m\u001b[1;33m\u001b[0m\u001b[0m\n\u001b[0;32m    396\u001b[0m \u001b[1;33m\u001b[0m\u001b[0m\n\u001b[1;32m--> 397\u001b[1;33m         \u001b[0mnew_line\u001b[0m\u001b[1;33m,\u001b[0m \u001b[0merr\u001b[0m \u001b[1;33m=\u001b[0m \u001b[0m_line_format\u001b[0m\u001b[1;33m(\u001b[0m\u001b[0mline\u001b[0m\u001b[1;33m,\u001b[0m \u001b[1;34m'str'\u001b[0m\u001b[1;33m,\u001b[0m \u001b[0mscheme\u001b[0m\u001b[1;33m)\u001b[0m\u001b[1;33m\u001b[0m\u001b[0m\n\u001b[0m\u001b[0;32m    398\u001b[0m         \u001b[1;32mif\u001b[0m \u001b[1;32mnot\u001b[0m \u001b[0merr\u001b[0m\u001b[1;33m:\u001b[0m \u001b[0mline\u001b[0m \u001b[1;33m=\u001b[0m \u001b[0mnew_line\u001b[0m\u001b[1;33m\u001b[0m\u001b[0m\n\u001b[0;32m    399\u001b[0m \u001b[1;33m\u001b[0m\u001b[0m\n",
      "\u001b[1;32m/u/cohenjos/.local/lib/python2.7/site-packages/IPython/utils/PyColorize.pyc\u001b[0m in \u001b[0;36mformat2\u001b[1;34m(self, raw, out, scheme)\u001b[0m\n\u001b[0;32m    220\u001b[0m         \u001b[0merror\u001b[0m \u001b[1;33m=\u001b[0m \u001b[0mFalse\u001b[0m\u001b[1;33m\u001b[0m\u001b[0m\n\u001b[0;32m    221\u001b[0m         \u001b[1;32mtry\u001b[0m\u001b[1;33m:\u001b[0m\u001b[1;33m\u001b[0m\u001b[0m\n\u001b[1;32m--> 222\u001b[1;33m             \u001b[1;32mfor\u001b[0m \u001b[0matoken\u001b[0m \u001b[1;32min\u001b[0m \u001b[0mgenerate_tokens\u001b[0m\u001b[1;33m(\u001b[0m\u001b[0mtext\u001b[0m\u001b[1;33m.\u001b[0m\u001b[0mreadline\u001b[0m\u001b[1;33m)\u001b[0m\u001b[1;33m:\u001b[0m\u001b[1;33m\u001b[0m\u001b[0m\n\u001b[0m\u001b[0;32m    223\u001b[0m                 \u001b[0mself\u001b[0m\u001b[1;33m(\u001b[0m\u001b[1;33m*\u001b[0m\u001b[0matoken\u001b[0m\u001b[1;33m)\u001b[0m\u001b[1;33m\u001b[0m\u001b[0m\n\u001b[0;32m    224\u001b[0m         \u001b[1;32mexcept\u001b[0m \u001b[0mtokenize\u001b[0m\u001b[1;33m.\u001b[0m\u001b[0mTokenError\u001b[0m \u001b[1;32mas\u001b[0m \u001b[0mex\u001b[0m\u001b[1;33m:\u001b[0m\u001b[1;33m\u001b[0m\u001b[0m\n",
      "\u001b[1;32m/Tmp/lisa/os_v5/anaconda/lib/python2.7/tokenize.pyc\u001b[0m in \u001b[0;36mgenerate_tokens\u001b[1;34m(readline)\u001b[0m\n\u001b[0;32m    388\u001b[0m                 \u001b[1;32mif\u001b[0m \u001b[0mstart\u001b[0m \u001b[1;33m==\u001b[0m \u001b[0mend\u001b[0m\u001b[1;33m:\u001b[0m\u001b[1;33m\u001b[0m\u001b[0m\n\u001b[0;32m    389\u001b[0m                     \u001b[1;32mcontinue\u001b[0m\u001b[1;33m\u001b[0m\u001b[0m\n\u001b[1;32m--> 390\u001b[1;33m                 \u001b[0mtoken\u001b[0m\u001b[1;33m,\u001b[0m \u001b[0minitial\u001b[0m \u001b[1;33m=\u001b[0m \u001b[0mline\u001b[0m\u001b[1;33m[\u001b[0m\u001b[0mstart\u001b[0m\u001b[1;33m:\u001b[0m\u001b[0mend\u001b[0m\u001b[1;33m]\u001b[0m\u001b[1;33m,\u001b[0m \u001b[0mline\u001b[0m\u001b[1;33m[\u001b[0m\u001b[0mstart\u001b[0m\u001b[1;33m]\u001b[0m\u001b[1;33m\u001b[0m\u001b[0m\n\u001b[0m\u001b[0;32m    391\u001b[0m \u001b[1;33m\u001b[0m\u001b[0m\n\u001b[0;32m    392\u001b[0m                 \u001b[1;32mif\u001b[0m \u001b[0minitial\u001b[0m \u001b[1;32min\u001b[0m \u001b[0mnumchars\u001b[0m \u001b[1;32mor\u001b[0m\u001b[0;31m \u001b[0m\u001b[0;31m\\\u001b[0m\u001b[1;33m\u001b[0m\u001b[0m\n",
      "\u001b[1;32m/u/cohenjos/.local/lib/python2.7/site-packages/torch/utils/data/dataloader.pyc\u001b[0m in \u001b[0;36mhandler\u001b[1;34m(signum, frame)\u001b[0m\n\u001b[0;32m    176\u001b[0m         \u001b[1;31m# This following call uses `waitid` with WNOHANG from C side. Therefore,\u001b[0m\u001b[1;33m\u001b[0m\u001b[1;33m\u001b[0m\u001b[0m\n\u001b[0;32m    177\u001b[0m         \u001b[1;31m# Python can still get and update the process status successfully.\u001b[0m\u001b[1;33m\u001b[0m\u001b[1;33m\u001b[0m\u001b[0m\n\u001b[1;32m--> 178\u001b[1;33m         \u001b[0m_error_if_any_worker_fails\u001b[0m\u001b[1;33m(\u001b[0m\u001b[1;33m)\u001b[0m\u001b[1;33m\u001b[0m\u001b[0m\n\u001b[0m\u001b[0;32m    179\u001b[0m         \u001b[1;32mif\u001b[0m \u001b[0mprevious_handler\u001b[0m \u001b[1;32mis\u001b[0m \u001b[1;32mnot\u001b[0m \u001b[0mNone\u001b[0m\u001b[1;33m:\u001b[0m\u001b[1;33m\u001b[0m\u001b[0m\n\u001b[0;32m    180\u001b[0m             \u001b[0mprevious_handler\u001b[0m\u001b[1;33m(\u001b[0m\u001b[0msignum\u001b[0m\u001b[1;33m,\u001b[0m \u001b[0mframe\u001b[0m\u001b[1;33m)\u001b[0m\u001b[1;33m\u001b[0m\u001b[0m\n",
      "\u001b[1;31mRuntimeError\u001b[0m: DataLoader worker (pid 23417) exited unexpectedly with exit code 1."
     ]
    }
   ],
   "source": [
    "use_gradmask = args.thing\n",
    "stats = []\n",
    "\n",
    "for epoch in range(200):\n",
    "    batch_loss = []\n",
    "    for step, (x, y) in enumerate(train_loader):\n",
    "        \n",
    "        b_x = Variable(x[0], requires_grad=True)\n",
    "        b_y = Variable(y)\n",
    "        seg_x = x[2]\n",
    "        \n",
    "        if cuda:\n",
    "            b_x = b_x.cuda()\n",
    "            b_y = b_y.cuda()\n",
    "            seg_x = seg_x.cuda()\n",
    "\n",
    "        cnn.train()\n",
    "        output = cnn(b_x)[0]\n",
    "        loss = loss_func(output, b_y)\n",
    "        \n",
    "        if use_gradmask:\n",
    "            input_grads = torch.autograd.grad(outputs=torch.abs(output).sum(), \n",
    "                                       inputs=b_x, \n",
    "                                       #retain_graph=True, \n",
    "                                       create_graph=True)[0]\n",
    "            \n",
    "            #only apply to positive examples\n",
    "            input_grads = b_y.float().reshape(-1,1,1,1)*input_grads\n",
    "            \n",
    "            res = input_grads * (1-seg_x.float())\n",
    "            loss = loss + loss*(res**2).sum()\n",
    "            \n",
    "        \n",
    "        optimizer.zero_grad()\n",
    "        loss.backward(retain_graph=True)\n",
    "        optimizer.step()\n",
    "        \n",
    "        batch_loss.append(loss.data[0])\n",
    "        #print (loss)\n",
    "    \n",
    "    cnn.eval()\n",
    "    test_output, last_layer = cnn(valid_x)\n",
    "    pred_y = torch.max(test_output, 1)[1].data.squeeze()\n",
    "    #accuracy = float(sum(pred_y == valid_y.cuda())) / float(valid_y.size(0))\n",
    "    auc = sklearn.metrics.roc_auc_score(valid_y, pred_y.cpu())\n",
    "    stats.append({\"seed\":args.seed,\n",
    "                  \"epoch\":epoch,\n",
    "                  \"trainloss\":np.asarray(batch_loss).mean(),\n",
    "                  \"validauc\": auc})\n",
    "    print('Epoch: ', epoch, '| train loss: %.4f' % np.asarray(batch_loss).mean(), '| valid auc: %.2f' % auc)\n",
    "                                        "
   ]
  },
  {
   "cell_type": "code",
   "execution_count": null,
   "metadata": {
    "collapsed": false
   },
   "outputs": [],
   "source": []
  },
  {
   "cell_type": "code",
   "execution_count": null,
   "metadata": {
    "collapsed": false
   },
   "outputs": [],
   "source": []
  },
  {
   "cell_type": "code",
   "execution_count": 100,
   "metadata": {
    "collapsed": false
   },
   "outputs": [],
   "source": [
    "import pickle\n",
    "#os.mkdir(\"stats\")\n",
    "pickle.dump(stats, open(\"stats/stats_\"+ str(args.seed) + str(args.thing) + \".pkl\",\"wb\"))"
   ]
  },
  {
   "cell_type": "code",
   "execution_count": null,
   "metadata": {
    "collapsed": true
   },
   "outputs": [],
   "source": []
  },
  {
   "cell_type": "code",
   "execution_count": null,
   "metadata": {
    "collapsed": true
   },
   "outputs": [],
   "source": []
  },
  {
   "cell_type": "code",
   "execution_count": null,
   "metadata": {
    "collapsed": false
   },
   "outputs": [],
   "source": [
    "input_grads.shape"
   ]
  },
  {
   "cell_type": "code",
   "execution_count": null,
   "metadata": {
    "collapsed": false
   },
   "outputs": [],
   "source": [
    "b_y.float().unsqueeze(1).shape"
   ]
  },
  {
   "cell_type": "code",
   "execution_count": null,
   "metadata": {
    "collapsed": false
   },
   "outputs": [],
   "source": [
    "b_y.float()*input_grads"
   ]
  },
  {
   "cell_type": "code",
   "execution_count": null,
   "metadata": {
    "collapsed": false
   },
   "outputs": [],
   "source": [
    "filt = b_y.float().reshape(-1,1,1,1)*input_grads"
   ]
  },
  {
   "cell_type": "code",
   "execution_count": null,
   "metadata": {
    "collapsed": false
   },
   "outputs": [],
   "source": []
  },
  {
   "cell_type": "code",
   "execution_count": null,
   "metadata": {
    "collapsed": false
   },
   "outputs": [],
   "source": [
    "plt.imshow(seg_x[0][0].cpu().detach().numpy());"
   ]
  },
  {
   "cell_type": "code",
   "execution_count": null,
   "metadata": {
    "collapsed": false
   },
   "outputs": [],
   "source": [
    "plt.imshow(filt[0][0].cpu().detach().numpy());"
   ]
  },
  {
   "cell_type": "code",
   "execution_count": null,
   "metadata": {
    "collapsed": false
   },
   "outputs": [],
   "source": []
  },
  {
   "cell_type": "code",
   "execution_count": null,
   "metadata": {
    "collapsed": false
   },
   "outputs": [],
   "source": []
  },
  {
   "cell_type": "code",
   "execution_count": null,
   "metadata": {
    "collapsed": false
   },
   "outputs": [],
   "source": [
    "plt.imshow(b_x[5][0].cpu().detach().numpy())"
   ]
  },
  {
   "cell_type": "code",
   "execution_count": null,
   "metadata": {
    "collapsed": false
   },
   "outputs": [],
   "source": [
    "res = input_grads * (1-seg_x.float())\n",
    "plt.imshow(res[5][0].cpu().detach().numpy())"
   ]
  },
  {
   "cell_type": "code",
   "execution_count": null,
   "metadata": {
    "collapsed": false
   },
   "outputs": [],
   "source": []
  },
  {
   "cell_type": "code",
   "execution_count": null,
   "metadata": {
    "collapsed": true
   },
   "outputs": [],
   "source": []
  },
  {
   "cell_type": "code",
   "execution_count": null,
   "metadata": {
    "collapsed": false
   },
   "outputs": [],
   "source": []
  },
  {
   "cell_type": "code",
   "execution_count": null,
   "metadata": {
    "collapsed": false
   },
   "outputs": [],
   "source": []
  },
  {
   "cell_type": "code",
   "execution_count": null,
   "metadata": {
    "collapsed": false
   },
   "outputs": [],
   "source": [
    "x, y = train[250]"
   ]
  },
  {
   "cell_type": "code",
   "execution_count": null,
   "metadata": {
    "collapsed": false
   },
   "outputs": [],
   "source": [
    "x[0].shape"
   ]
  },
  {
   "cell_type": "code",
   "execution_count": null,
   "metadata": {
    "collapsed": false
   },
   "outputs": [],
   "source": [
    "plt.imshow(x[0][0]);\n",
    "plt.title(y);\n",
    "plt.show()\n",
    "plt.imshow(x[2][0]);"
   ]
  },
  {
   "cell_type": "code",
   "execution_count": null,
   "metadata": {
    "collapsed": true
   },
   "outputs": [],
   "source": []
  },
  {
   "cell_type": "code",
   "execution_count": null,
   "metadata": {
    "collapsed": false
   },
   "outputs": [],
   "source": []
  },
  {
   "cell_type": "code",
   "execution_count": null,
   "metadata": {
    "collapsed": true
   },
   "outputs": [],
   "source": []
  },
  {
   "cell_type": "code",
   "execution_count": null,
   "metadata": {
    "collapsed": true
   },
   "outputs": [],
   "source": []
  },
  {
   "cell_type": "code",
   "execution_count": null,
   "metadata": {
    "collapsed": false
   },
   "outputs": [],
   "source": [
    "x_var = Variable(x[0].unsqueeze(0).cuda(), requires_grad=True)\n",
    "pred = cnn(x_var)"
   ]
  },
  {
   "cell_type": "code",
   "execution_count": null,
   "metadata": {
    "collapsed": false
   },
   "outputs": [],
   "source": [
    "test = torch.autograd.grad(outputs=torch.abs(pred[0]).sum(), \n",
    "                                       inputs=x_var, \n",
    "                                       retain_graph=True, \n",
    "                                       create_graph=True,\n",
    "                                       grad_outputs=torch.FloatTensor([1]).cuda())"
   ]
  },
  {
   "cell_type": "code",
   "execution_count": null,
   "metadata": {
    "collapsed": true
   },
   "outputs": [],
   "source": [
    "input_grads = test[0][0][0].cpu().detach().numpy()"
   ]
  },
  {
   "cell_type": "code",
   "execution_count": null,
   "metadata": {
    "collapsed": false
   },
   "outputs": [],
   "source": [
    "plt.imshow(input_grads);"
   ]
  },
  {
   "cell_type": "code",
   "execution_count": null,
   "metadata": {
    "collapsed": false
   },
   "outputs": [],
   "source": [
    "# So much gradient!\n",
    "plt.imshow(input_grads>0.0000001);"
   ]
  },
  {
   "cell_type": "code",
   "execution_count": null,
   "metadata": {
    "collapsed": false
   },
   "outputs": [],
   "source": [
    "plt.imshow(x[2][0])"
   ]
  },
  {
   "cell_type": "code",
   "execution_count": null,
   "metadata": {
    "collapsed": false
   },
   "outputs": [],
   "source": []
  },
  {
   "cell_type": "code",
   "execution_count": null,
   "metadata": {
    "collapsed": false
   },
   "outputs": [],
   "source": []
  },
  {
   "cell_type": "code",
   "execution_count": null,
   "metadata": {
    "collapsed": false
   },
   "outputs": [],
   "source": [
    "#these are the only allowed grads\n",
    "masked_grads = input_grads*(x[2][0])\n",
    "plt.imshow(masked_grads)"
   ]
  },
  {
   "cell_type": "code",
   "execution_count": null,
   "metadata": {
    "collapsed": false
   },
   "outputs": [],
   "source": [
    "#We can regularize to reduce this\n",
    "masked_grads = input_grads*(1-x[2][0])\n",
    "plt.imshow(masked_grads)"
   ]
  },
  {
   "cell_type": "code",
   "execution_count": null,
   "metadata": {
    "collapsed": true
   },
   "outputs": [],
   "source": []
  },
  {
   "cell_type": "code",
   "execution_count": null,
   "metadata": {
    "collapsed": true
   },
   "outputs": [],
   "source": []
  },
  {
   "cell_type": "code",
   "execution_count": null,
   "metadata": {
    "collapsed": false
   },
   "outputs": [],
   "source": [
    "import skimage.filters\n",
    "enlarged_mask = skimage.filters.gaussian(x[2][0].numpy(),15)\n",
    "enlarged_mask = enlarged_mask/enlarged_mask.max()\n",
    "enlarged_mask.max()"
   ]
  },
  {
   "cell_type": "code",
   "execution_count": null,
   "metadata": {
    "collapsed": false
   },
   "outputs": [],
   "source": []
  },
  {
   "cell_type": "code",
   "execution_count": null,
   "metadata": {
    "collapsed": false
   },
   "outputs": [],
   "source": [
    "plt.imshow(enlarged_mask)"
   ]
  },
  {
   "cell_type": "code",
   "execution_count": null,
   "metadata": {
    "collapsed": false
   },
   "outputs": [],
   "source": [
    "#assuming the segmentations are sloppy we can enlarge the segmentations\n",
    "masked_grads = input_grads*(1-enlarged_mask)\n",
    "plt.imshow(masked_grads)"
   ]
  },
  {
   "cell_type": "code",
   "execution_count": null,
   "metadata": {
    "collapsed": true
   },
   "outputs": [],
   "source": []
  },
  {
   "cell_type": "code",
   "execution_count": null,
   "metadata": {
    "collapsed": true
   },
   "outputs": [],
   "source": []
  },
  {
   "cell_type": "code",
   "execution_count": null,
   "metadata": {
    "collapsed": true
   },
   "outputs": [],
   "source": []
  },
  {
   "cell_type": "code",
   "execution_count": null,
   "metadata": {
    "collapsed": true
   },
   "outputs": [],
   "source": [
    "#torch.save(cnn.state_dict(), \"./classifier_model.pth\")"
   ]
  },
  {
   "cell_type": "code",
   "execution_count": null,
   "metadata": {
    "collapsed": false
   },
   "outputs": [],
   "source": [
    "checkpoint = torch.load(\"./classifier_model.pth\")\n",
    "cnn.load_state_dict(checkpoint)"
   ]
  },
  {
   "cell_type": "code",
   "execution_count": null,
   "metadata": {
    "collapsed": false
   },
   "outputs": [],
   "source": [
    "# cnn.eval()\n",
    "# test_output, last_layer = cnn(valid_x)\n",
    "# pred_y = torch.max(test_output, 1)[1].data.squeeze()\n",
    "# accuracy = float((pred_y == valid_y).sum()) / float(valid_y.size(0))\n",
    "# print 'valid accuracy: %.2f' % accuracy"
   ]
  },
  {
   "cell_type": "code",
   "execution_count": null,
   "metadata": {
    "collapsed": false
   },
   "outputs": [],
   "source": []
  },
  {
   "cell_type": "code",
   "execution_count": null,
   "metadata": {
    "collapsed": true
   },
   "outputs": [],
   "source": []
  },
  {
   "cell_type": "code",
   "execution_count": null,
   "metadata": {
    "collapsed": true
   },
   "outputs": [],
   "source": []
  },
  {
   "cell_type": "code",
   "execution_count": null,
   "metadata": {
    "collapsed": true
   },
   "outputs": [],
   "source": []
  },
  {
   "cell_type": "code",
   "execution_count": null,
   "metadata": {
    "collapsed": false
   },
   "outputs": [],
   "source": []
  },
  {
   "cell_type": "code",
   "execution_count": null,
   "metadata": {
    "collapsed": false
   },
   "outputs": [],
   "source": []
  },
  {
   "cell_type": "code",
   "execution_count": null,
   "metadata": {
    "collapsed": true
   },
   "outputs": [],
   "source": []
  },
  {
   "cell_type": "code",
   "execution_count": null,
   "metadata": {
    "collapsed": true
   },
   "outputs": [],
   "source": []
  },
  {
   "cell_type": "code",
   "execution_count": null,
   "metadata": {
    "collapsed": true
   },
   "outputs": [],
   "source": []
  },
  {
   "cell_type": "code",
   "execution_count": null,
   "metadata": {
    "collapsed": true
   },
   "outputs": [],
   "source": []
  },
  {
   "cell_type": "code",
   "execution_count": null,
   "metadata": {
    "collapsed": true
   },
   "outputs": [],
   "source": []
  },
  {
   "cell_type": "code",
   "execution_count": null,
   "metadata": {
    "collapsed": true
   },
   "outputs": [],
   "source": []
  }
 ],
 "metadata": {
  "kernelspec": {
   "display_name": "Python 2",
   "language": "python",
   "name": "python2"
  },
  "language_info": {
   "codemirror_mode": {
    "name": "ipython",
    "version": 2
   },
   "file_extension": ".py",
   "mimetype": "text/x-python",
   "name": "python",
   "nbconvert_exporter": "python",
   "pygments_lexer": "ipython2",
   "version": "2.7.13"
  },
  "widgets": {
   "state": {
    "1bb8202b1763497e80943882ec47a109": {
     "views": [
      {
       "cell_index": 21
      }
     ]
    }
   },
   "version": "1.2.0"
  }
 },
 "nbformat": 4,
 "nbformat_minor": 2
}
