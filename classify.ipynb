{
 "cells": [
  {
   "cell_type": "code",
   "execution_count": null,
   "metadata": {
    "collapsed": true
   },
   "outputs": [],
   "source": []
  },
  {
   "cell_type": "code",
   "execution_count": 1,
   "metadata": {
    "collapsed": false
   },
   "outputs": [],
   "source": [
    "import torch\n",
    "from torch.autograd import Variable\n",
    "import torchvision\n",
    "from torch import nn\n",
    "import numpy as np\n",
    "import sklearn, sklearn.model_selection\n",
    "import random, argparse, pickle, collections\n",
    "import datasets\n",
    "import matplotlib.pyplot as plt\n",
    "import models.simple_cnn\n",
    "%matplotlib inline"
   ]
  },
  {
   "cell_type": "code",
   "execution_count": null,
   "metadata": {
    "collapsed": true
   },
   "outputs": [],
   "source": []
  },
  {
   "cell_type": "code",
   "execution_count": 2,
   "metadata": {
    "collapsed": false
   },
   "outputs": [],
   "source": [
    "import sys\n",
    "import argparse\n",
    "\n",
    "sys.argv = ['a','-thing']\n",
    "    \n",
    "parser = argparse.ArgumentParser()\n",
    "\n",
    "parser.add_argument('-seed', type=int, nargs='?', default=0, help='random seed for split and init')\n",
    "parser.add_argument('-nsamples', type=int, nargs='?', default=256, help='Number of samples for train')\n",
    "parser.add_argument('-maxmasks', type=int, nargs='?', default=64, help='Number of masks to use for train')\n",
    "parser.add_argument('-maskblur', type=int, nargs='?', default=4, help='std for blur applied to each mask')\n",
    "parser.add_argument('-annealinglambda', type=float, default=1.0, help='Annealing')\n",
    "parser.add_argument('-lr', type=float, default=0.001)\n",
    "parser.add_argument('-batchsize', type=int, default=32)\n",
    "parser.add_argument('-thing', default=False, action='store_true', help='Do the thing')\n",
    "parser.add_argument('-thingstyle', type=int, default=1, help='Do the thing style')\n",
    "parser.add_argument('-dataset', type=str, default=\"lung\", help='name of dataset')\n",
    "\n",
    "args = parser.parse_args()"
   ]
  },
  {
   "cell_type": "code",
   "execution_count": 3,
   "metadata": {
    "collapsed": false
   },
   "outputs": [],
   "source": [
    "torch.manual_seed(args.seed);\n",
    "random.seed(args.seed)"
   ]
  },
  {
   "cell_type": "code",
   "execution_count": 4,
   "metadata": {
    "collapsed": false
   },
   "outputs": [],
   "source": [
    "cuda = torch.cuda.is_available()"
   ]
  },
  {
   "cell_type": "code",
   "execution_count": 66,
   "metadata": {
    "collapsed": false
   },
   "outputs": [
    {
     "name": "stdout",
     "output_type": "stream",
     "text": [
      "annealinglambda1.0-batchsize32-datasetlung-lr0.0001-maskblur3-maxmasks64-nsamples256-seed0-thingTrue-thingstyle1\n"
     ]
    }
   ],
   "source": [
    "exp_id = str(args).replace(\" \",\"\").replace(\"Namespace(\",\"\").replace(\")\",\"\").replace(\",\",\"-\").replace(\"=\",\"\").replace(\"'\",\"\")\n",
    "print(exp_id)"
   ]
  },
  {
   "cell_type": "code",
   "execution_count": null,
   "metadata": {
    "collapsed": false
   },
   "outputs": [],
   "source": [
    "open(\"stats/\" + exp_id + \".pkl\", \"r\")"
   ]
  },
  {
   "cell_type": "code",
   "execution_count": 69,
   "metadata": {
    "collapsed": false
   },
   "outputs": [
    {
     "ename": "SystemExit",
     "evalue": "",
     "output_type": "error",
     "traceback": [
      "An exception has occurred, use %tb to see the full traceback.\n",
      "\u001b[1;31mSystemExit\u001b[0m\n"
     ]
    },
    {
     "name": "stderr",
     "output_type": "stream",
     "text": [
      "To exit: use 'exit', 'quit', or Ctrl-D.\n"
     ]
    }
   ],
   "source": [
    "import os.path\n",
    "if (not os.path.isfile(\"stats/\" + exp_id + \".pkl\")):\n",
    "    sys.exit()"
   ]
  },
  {
   "cell_type": "code",
   "execution_count": 5,
   "metadata": {
    "collapsed": false
   },
   "outputs": [],
   "source": [
    "torch.manual_seed(args.seed)\n",
    "random.seed(args.seed)\n",
    "\n",
    "cuda = torch.cuda.is_available()\n",
    "\n",
    "mytransform = torchvision.transforms.Compose([\n",
    "    torchvision.transforms.Resize(100),\n",
    "    torchvision.transforms.ToTensor()])"
   ]
  },
  {
   "cell_type": "code",
   "execution_count": 6,
   "metadata": {
    "collapsed": false
   },
   "outputs": [],
   "source": [
    "\n",
    "\n",
    "# if args.dataset == \"tnt\":\n",
    "#     train, valid, test = [datasets.TNTDataset('/data/lisa/data/brats2013_tumor-notumor/',\n",
    "#                        mode=thismode,\n",
    "#                        transform=mytransform,\n",
    "#                        blur=args.maskblur,\n",
    "#                        nsamples=args.nsamples,\n",
    "#                        seed=args.seed, \n",
    "#                        maxmasks=args.maxmasks)\n",
    "#                        for thismode in [\"train\", \"valid\", \"test\"]]\n",
    "# elif args.dataset == \"lung\":\n",
    "#     train, valid, test = [datasets.MSDDataset('/data/lisa/data/MSD/MSD/Task06_Lung/',\n",
    "#                        mode=thismode,\n",
    "#                        transform=mytransform,\n",
    "#                        blur=args.maskblur,\n",
    "#                        nsamples=args.nsamples,\n",
    "#                        seed=args.seed, \n",
    "#                        maxmasks=args.maxmasks,\n",
    "#                        max_files=10)\n",
    "#                        for thismode in [\"train\", \"valid\", \"test\"]]\n",
    "# elif args.dataset == \"colon\":\n",
    "#     train, valid, test = [datasets.MSDDataset('/data/lisa/data/MSD/MSD/Task10_Colon/',\n",
    "#                        mode=thismode,\n",
    "#                        transform=mytransform,\n",
    "#                        blur=args.maskblur,\n",
    "#                        nsamples=args.nsamples,\n",
    "#                        seed=args.seed, \n",
    "#                        maxmasks=args.maxmasks, \n",
    "#                        max_files=10)\n",
    "#                        for thismode in [\"train\", \"valid\", \"test\"]]\n",
    "\n",
    "\n"
   ]
  },
  {
   "cell_type": "code",
   "execution_count": 7,
   "metadata": {
    "collapsed": false
   },
   "outputs": [],
   "source": [
    "# len(train.dataset[\"training\"])"
   ]
  },
  {
   "cell_type": "code",
   "execution_count": 20,
   "metadata": {
    "collapsed": false
   },
   "outputs": [],
   "source": [
    "reload(datasets);"
   ]
  },
  {
   "cell_type": "code",
   "execution_count": 32,
   "metadata": {
    "collapsed": false
   },
   "outputs": [
    {
     "name": "stdout",
     "output_type": "stream",
     "text": [
      "mode=train\n",
      "(u'./imagesTr/lung_064.nii.gz', u'./labelsTr/lung_064.nii.gz')\n",
      "Counter({False: 193, True: 55})\n",
      "(u'./imagesTr/lung_073.nii.gz', u'./labelsTr/lung_073.nii.gz')\n",
      "Counter({False: 447, True: 46})\n",
      "(u'./imagesTr/lung_096.nii.gz', u'./labelsTr/lung_096.nii.gz')\n",
      "Counter({False: 239, True: 12})\n",
      "(u'./imagesTr/lung_075.nii.gz', u'./labelsTr/lung_075.nii.gz')\n",
      "Counter({False: 388, True: 35})\n",
      "(u'./imagesTr/lung_048.nii.gz', u'./labelsTr/lung_048.nii.gz')\n",
      "Counter({False: 308, True: 14})\n",
      "Counter({False: 1575, True: 162})\n",
      "mode=valid\n",
      "(u'./imagesTr/lung_034.nii.gz', u'./labelsTr/lung_034.nii.gz')\n",
      "Counter({False: 269, True: 27})\n",
      "(u'./imagesTr/lung_031.nii.gz', u'./labelsTr/lung_031.nii.gz')\n",
      "Counter({False: 234, True: 70})\n",
      "(u'./imagesTr/lung_016.nii.gz', u'./labelsTr/lung_016.nii.gz')\n",
      "Counter({False: 207, True: 21})\n",
      "(u'./imagesTr/lung_058.nii.gz', u'./labelsTr/lung_058.nii.gz')\n",
      "Counter({False: 231, True: 10})\n",
      "(u'./imagesTr/lung_086.nii.gz', u'./labelsTr/lung_086.nii.gz')\n",
      "Counter({False: 226, True: 41})\n",
      "Counter({False: 1167, True: 169})\n",
      "mode=test\n",
      "(u'./imagesTr/lung_005.nii.gz', u'./labelsTr/lung_005.nii.gz')\n",
      "Counter({False: 303, True: 26})\n",
      "(u'./imagesTr/lung_001.nii.gz', u'./labelsTr/lung_001.nii.gz')\n",
      "Counter({False: 286, True: 18})\n",
      "(u'./imagesTr/lung_079.nii.gz', u'./labelsTr/lung_079.nii.gz')\n",
      "Counter({False: 231, True: 20})\n",
      "(u'./imagesTr/lung_070.nii.gz', u'./labelsTr/lung_070.nii.gz')\n",
      "Counter({False: 252, True: 14})\n",
      "(u'./imagesTr/lung_065.nii.gz', u'./labelsTr/lung_065.nii.gz')\n",
      "Counter({False: 109, True: 19})\n",
      "Counter({False: 1181, True: 97})\n"
     ]
    }
   ],
   "source": [
    "train = datasets.MSDDataset('/data/lisa/data/MSD/MSD/Task06_Lung/',\n",
    "                   mode=\"train\",\n",
    "                   #transform=mytransform,\n",
    "                   blur=args.maskblur,\n",
    "                   nsamples=64,\n",
    "                   seed=args.seed, \n",
    "                   maxmasks=args.maxmasks,\n",
    "                   max_files=5)\n",
    "valid = datasets.MSDDataset('/data/lisa/data/MSD/MSD/Task06_Lung/',\n",
    "                   mode=\"valid\",\n",
    "                   #transform=mytransform,\n",
    "                   blur=args.maskblur,\n",
    "                   nsamples=64,\n",
    "                   seed=args.seed, \n",
    "                   maxmasks=args.maxmasks,\n",
    "                   max_files=5)\n",
    "test = datasets.MSDDataset('/data/lisa/data/MSD/MSD/Task06_Lung/',\n",
    "                   mode=\"test\",\n",
    "                   #transform=mytransform,\n",
    "                   blur=args.maskblur,\n",
    "                   nsamples=64,\n",
    "                   seed=args.seed, \n",
    "                   maxmasks=args.maxmasks,\n",
    "                   max_files=5)\n",
    "                   #for thismode, files, num in [(\"train\", 60, 5000),(\"valid\", 10, 256),(\"test\",10,256),]]"
   ]
  },
  {
   "cell_type": "code",
   "execution_count": 33,
   "metadata": {
    "collapsed": true
   },
   "outputs": [],
   "source": [
    "args.seed = 0"
   ]
  },
  {
   "cell_type": "code",
   "execution_count": null,
   "metadata": {
    "collapsed": false
   },
   "outputs": [],
   "source": []
  },
  {
   "cell_type": "code",
   "execution_count": null,
   "metadata": {
    "collapsed": true
   },
   "outputs": [],
   "source": []
  },
  {
   "cell_type": "code",
   "execution_count": 34,
   "metadata": {
    "collapsed": false
   },
   "outputs": [
    {
     "name": "stdout",
     "output_type": "stream",
     "text": [
      "('classes train', Counter({False: 32, True: 32}))\n",
      "('classes valid', Counter({False: 32, True: 32}))\n",
      "('classes test', Counter({False: 32, True: 32}))\n",
      "Building valid set\n",
      "done\n",
      "Building test set\n",
      "done\n"
     ]
    }
   ],
   "source": [
    "print(\"classes train\", collections.Counter(train.labels))\n",
    "print(\"classes valid\", collections.Counter(valid.labels))\n",
    "print(\"classes test\", collections.Counter(test.labels))\n",
    "\n",
    "train_loader = torch.utils.data.DataLoader(dataset=train, batch_size=args.batchsize,num_workers=0,shuffle=True)\n",
    "valid_loader = torch.utils.data.DataLoader(dataset=valid, batch_size=len(valid),num_workers=8, shuffle=True)\n",
    "test_loader = torch.utils.data.DataLoader(dataset=test, batch_size=len(test), num_workers=8, shuffle=True)\n",
    "\n",
    "print(\"Building valid set\")\n",
    "valid_data = list(valid_loader)\n",
    "valid_x = Variable(valid_data[0][0][0]).cuda()\n",
    "valid_y = valid_data[0][1].cuda()\n",
    "print(\"done\")\n",
    "\n",
    "print(\"Building test set\")\n",
    "test_data = list(test_loader)\n",
    "test_x = Variable(test_data[0][0][0]).cuda()\n",
    "test_y = test_data[0][1].cuda()\n",
    "print(\"done\")"
   ]
  },
  {
   "cell_type": "code",
   "execution_count": 35,
   "metadata": {
    "collapsed": true
   },
   "outputs": [],
   "source": [
    "# train_loader = torch.utils.data.DataLoader(dataset=train, batch_size=64,num_workers=0,shuffle=True)\n"
   ]
  },
  {
   "cell_type": "code",
   "execution_count": 40,
   "metadata": {
    "collapsed": true
   },
   "outputs": [],
   "source": []
  },
  {
   "cell_type": "code",
   "execution_count": 261,
   "metadata": {
    "collapsed": false
   },
   "outputs": [
    {
     "name": "stdout",
     "output_type": "stream",
     "text": [
      "CNN(\n",
      "  (conv1): Sequential(\n",
      "    (0): Conv2d(1, 128, kernel_size=(3, 3), stride=(1, 1))\n",
      "    (1): Dropout(p=0.2)\n",
      "    (2): BatchNorm2d(128, eps=1e-05, momentum=0.1, affine=True, track_running_stats=True)\n",
      "    (3): ReLU()\n",
      "  )\n",
      "  (conv2): Sequential(\n",
      "    (0): Conv2d(128, 32, kernel_size=(3, 3), stride=(2, 2))\n",
      "    (1): Dropout(p=0.2)\n",
      "    (2): BatchNorm2d(32, eps=1e-05, momentum=0.1, affine=True, track_running_stats=True)\n",
      "    (3): ReLU()\n",
      "  )\n",
      "  (conv3): Sequential(\n",
      "    (0): Conv2d(32, 8, kernel_size=(6, 6), stride=(2, 2))\n",
      "    (1): ReLU()\n",
      "  )\n",
      "  (pool): MaxPool2d(kernel_size=20, stride=1, padding=0, dilation=1, ceil_mode=False)\n",
      "  (out): Linear(in_features=72, out_features=2, bias=True)\n",
      ")\n"
     ]
    }
   ],
   "source": [
    "import models.simple_cnn2\n",
    "reload(models.simple_cnn2)\n",
    "\n",
    "torch.manual_seed(args.seed)\n",
    "random.seed(args.seed)\n",
    "\n",
    "cnn = models.simple_cnn2.CNN(train[0][0][0])\n",
    "cnn = cnn.cuda()\n",
    "\n",
    "print(cnn)\n"
   ]
  },
  {
   "cell_type": "code",
   "execution_count": 262,
   "metadata": {
    "collapsed": true
   },
   "outputs": [],
   "source": [
    "args.lr = 0.0001\n",
    "optimizer = torch.optim.Adam(cnn.parameters(), lr=args.lr)\n",
    "loss_func = nn.CrossEntropyLoss()"
   ]
  },
  {
   "cell_type": "code",
   "execution_count": 277,
   "metadata": {
    "collapsed": false
   },
   "outputs": [],
   "source": [
    "args.thingstyle = 1\n",
    "args.thing = True\n",
    "epoch = 0\n",
    "args.annealinglambda = 2"
   ]
  },
  {
   "cell_type": "code",
   "execution_count": 278,
   "metadata": {
    "collapsed": false,
    "scrolled": false
   },
   "outputs": [
    {
     "name": "stderr",
     "output_type": "stream",
     "text": [
      "a:56: UserWarning: invalid index of a 0-dim tensor. This will be an error in PyTorch 0.5. Use tensor.item() to convert a 0-dim tensor to a Python number\n"
     ]
    },
    {
     "name": "stdout",
     "output_type": "stream",
     "text": [
      "('Epoch: ', 0, '| train loss: 0.5962', '| valid auc: 0.66', '| test auc: 0.69')\n",
      "('Epoch: ', 1, '| train loss: 0.5874', '| valid auc: 0.66', '| test auc: 0.69')\n",
      "('Epoch: ', 2, '| train loss: 0.5895', '| valid auc: 0.64', '| test auc: 0.69')\n",
      "('Epoch: ', 3, '| train loss: 0.5905', '| valid auc: 0.64', '| test auc: 0.69')\n",
      "('Epoch: ', 4, '| train loss: 0.5760', '| valid auc: 0.67', '| test auc: 0.69')\n",
      "('Epoch: ', 5, '| train loss: 0.5891', '| valid auc: 0.67', '| test auc: 0.69')\n",
      "('Epoch: ', 6, '| train loss: 0.5843', '| valid auc: 0.67', '| test auc: 0.69')\n",
      "('Epoch: ', 7, '| train loss: 0.5909', '| valid auc: 0.67', '| test auc: 0.69')\n",
      "('Epoch: ', 8, '| train loss: 0.5753', '| valid auc: 0.67', '| test auc: 0.69')\n",
      "('Epoch: ', 9, '| train loss: 0.6024', '| valid auc: 0.67', '| test auc: 0.69')\n",
      "('Epoch: ', 10, '| train loss: 0.5769', '| valid auc: 0.67', '| test auc: 0.69')\n",
      "('Epoch: ', 11, '| train loss: 0.5878', '| valid auc: 0.67', '| test auc: 0.69')\n",
      "('Epoch: ', 12, '| train loss: 0.5589', '| valid auc: 0.67', '| test auc: 0.69')\n",
      "('Epoch: ', 13, '| train loss: 0.5819', '| valid auc: 0.67', '| test auc: 0.69')\n",
      "('Epoch: ', 14, '| train loss: 0.5779', '| valid auc: 0.67', '| test auc: 0.69')\n",
      "('Epoch: ', 15, '| train loss: 0.5957', '| valid auc: 0.66', '| test auc: 0.69')\n",
      "('Epoch: ', 16, '| train loss: 0.5589', '| valid auc: 0.66', '| test auc: 0.69')\n",
      "('Epoch: ', 17, '| train loss: 0.5687', '| valid auc: 0.67', '| test auc: 0.69')\n",
      "('Epoch: ', 18, '| train loss: 0.5517', '| valid auc: 0.67', '| test auc: 0.70')\n",
      "('Epoch: ', 19, '| train loss: 0.5750', '| valid auc: 0.67', '| test auc: 0.70')\n",
      "('Epoch: ', 20, '| train loss: 0.5493', '| valid auc: 0.67', '| test auc: 0.70')\n",
      "('Epoch: ', 21, '| train loss: 0.5794', '| valid auc: 0.67', '| test auc: 0.70')\n",
      "('Epoch: ', 22, '| train loss: 0.5862', '| valid auc: 0.67', '| test auc: 0.70')\n",
      "('Epoch: ', 23, '| train loss: 0.5609', '| valid auc: 0.69', '| test auc: 0.70')\n",
      "('Epoch: ', 24, '| train loss: 0.5545', '| valid auc: 0.69', '| test auc: 0.70')\n",
      "('Epoch: ', 25, '| train loss: 0.5671', '| valid auc: 0.69', '| test auc: 0.70')\n",
      "('Epoch: ', 26, '| train loss: 0.5813', '| valid auc: 0.69', '| test auc: 0.70')\n",
      "('Epoch: ', 27, '| train loss: 0.5745', '| valid auc: 0.69', '| test auc: 0.70')\n",
      "('Epoch: ', 28, '| train loss: 0.5499', '| valid auc: 0.69', '| test auc: 0.70')\n",
      "('Epoch: ', 29, '| train loss: 0.5622', '| valid auc: 0.69', '| test auc: 0.70')\n",
      "('Epoch: ', 30, '| train loss: 0.5732', '| valid auc: 0.69', '| test auc: 0.70')\n",
      "('Epoch: ', 31, '| train loss: 0.5441', '| valid auc: 0.69', '| test auc: 0.70')\n",
      "('Epoch: ', 32, '| train loss: 0.5657', '| valid auc: 0.69', '| test auc: 0.70')\n",
      "('Epoch: ', 33, '| train loss: 0.5466', '| valid auc: 0.69', '| test auc: 0.70')\n",
      "('Epoch: ', 34, '| train loss: 0.5359', '| valid auc: 0.69', '| test auc: 0.70')\n",
      "('Epoch: ', 35, '| train loss: 0.5546', '| valid auc: 0.69', '| test auc: 0.70')\n",
      "('Epoch: ', 36, '| train loss: 0.5638', '| valid auc: 0.69', '| test auc: 0.70')\n",
      "('Epoch: ', 37, '| train loss: 0.5485', '| valid auc: 0.69', '| test auc: 0.70')\n",
      "('Epoch: ', 38, '| train loss: 0.5250', '| valid auc: 0.69', '| test auc: 0.70')\n",
      "('Epoch: ', 39, '| train loss: 0.5588', '| valid auc: 0.69', '| test auc: 0.70')\n",
      "('Epoch: ', 40, '| train loss: 0.5380', '| valid auc: 0.69', '| test auc: 0.70')\n",
      "('Epoch: ', 41, '| train loss: 0.5547', '| valid auc: 0.69', '| test auc: 0.70')\n",
      "('Epoch: ', 42, '| train loss: 0.5308', '| valid auc: 0.69', '| test auc: 0.70')\n",
      "('Epoch: ', 43, '| train loss: 0.5316', '| valid auc: 0.69', '| test auc: 0.70')\n",
      "('Epoch: ', 44, '| train loss: 0.5262', '| valid auc: 0.67', '| test auc: 0.70')\n",
      "('Epoch: ', 45, '| train loss: 0.5108', '| valid auc: 0.69', '| test auc: 0.70')\n",
      "('Epoch: ', 46, '| train loss: 0.5396', '| valid auc: 0.69', '| test auc: 0.70')\n",
      "('Epoch: ', 47, '| train loss: 0.5351', '| valid auc: 0.69', '| test auc: 0.70')\n",
      "('Epoch: ', 48, '| train loss: 0.5409', '| valid auc: 0.69', '| test auc: 0.70')\n",
      "('Epoch: ', 49, '| train loss: 0.5312', '| valid auc: 0.69', '| test auc: 0.70')\n",
      "('Epoch: ', 50, '| train loss: 0.5201', '| valid auc: 0.69', '| test auc: 0.70')\n",
      "('Epoch: ', 51, '| train loss: 0.5286', '| valid auc: 0.69', '| test auc: 0.70')\n",
      "('Epoch: ', 52, '| train loss: 0.5291', '| valid auc: 0.69', '| test auc: 0.70')\n",
      "('Epoch: ', 53, '| train loss: 0.4970', '| valid auc: 0.69', '| test auc: 0.70')\n",
      "('Epoch: ', 54, '| train loss: 0.5453', '| valid auc: 0.69', '| test auc: 0.70')\n",
      "('Epoch: ', 55, '| train loss: 0.5266', '| valid auc: 0.69', '| test auc: 0.70')\n",
      "('Epoch: ', 56, '| train loss: 0.5148', '| valid auc: 0.69', '| test auc: 0.70')\n",
      "('Epoch: ', 57, '| train loss: 0.5124', '| valid auc: 0.69', '| test auc: 0.70')\n",
      "('Epoch: ', 58, '| train loss: 0.4953', '| valid auc: 0.69', '| test auc: 0.70')\n",
      "('Epoch: ', 59, '| train loss: 0.5174', '| valid auc: 0.69', '| test auc: 0.70')\n",
      "('Epoch: ', 60, '| train loss: 0.4988', '| valid auc: 0.69', '| test auc: 0.70')\n",
      "('Epoch: ', 61, '| train loss: 0.5107', '| valid auc: 0.70', '| test auc: 0.70')\n",
      "('Epoch: ', 62, '| train loss: 0.5110', '| valid auc: 0.70', '| test auc: 0.70')\n",
      "('Epoch: ', 63, '| train loss: 0.4789', '| valid auc: 0.69', '| test auc: 0.70')\n",
      "('Epoch: ', 64, '| train loss: 0.5361', '| valid auc: 0.70', '| test auc: 0.70')\n",
      "('Epoch: ', 65, '| train loss: 0.5064', '| valid auc: 0.70', '| test auc: 0.70')\n",
      "('Epoch: ', 66, '| train loss: 0.5128', '| valid auc: 0.70', '| test auc: 0.70')\n",
      "('Epoch: ', 67, '| train loss: 0.5201', '| valid auc: 0.70', '| test auc: 0.70')\n",
      "('Epoch: ', 68, '| train loss: 0.5032', '| valid auc: 0.70', '| test auc: 0.70')\n",
      "('Epoch: ', 69, '| train loss: 0.5188', '| valid auc: 0.70', '| test auc: 0.70')\n",
      "('Epoch: ', 70, '| train loss: 0.5174', '| valid auc: 0.69', '| test auc: 0.70')\n",
      "('Epoch: ', 71, '| train loss: 0.5111', '| valid auc: 0.69', '| test auc: 0.70')\n",
      "('Epoch: ', 72, '| train loss: 0.4811', '| valid auc: 0.67', '| test auc: 0.70')\n",
      "('Epoch: ', 73, '| train loss: 0.5089', '| valid auc: 0.67', '| test auc: 0.70')\n",
      "('Epoch: ', 74, '| train loss: 0.5340', '| valid auc: 0.67', '| test auc: 0.70')\n",
      "('Epoch: ', 75, '| train loss: 0.4635', '| valid auc: 0.67', '| test auc: 0.70')\n",
      "('Epoch: ', 76, '| train loss: 0.4764', '| valid auc: 0.67', '| test auc: 0.70')\n",
      "('Epoch: ', 77, '| train loss: 0.4842', '| valid auc: 0.67', '| test auc: 0.70')\n",
      "('Epoch: ', 78, '| train loss: 0.4888', '| valid auc: 0.67', '| test auc: 0.70')\n",
      "('Epoch: ', 79, '| train loss: 0.5157', '| valid auc: 0.67', '| test auc: 0.70')\n",
      "('Epoch: ', 80, '| train loss: 0.4988', '| valid auc: 0.70', '| test auc: 0.70')\n",
      "('Epoch: ', 81, '| train loss: 0.4929', '| valid auc: 0.70', '| test auc: 0.70')\n",
      "('Epoch: ', 82, '| train loss: 0.4975', '| valid auc: 0.70', '| test auc: 0.70')\n",
      "('Epoch: ', 83, '| train loss: 0.4871', '| valid auc: 0.70', '| test auc: 0.70')\n",
      "('Epoch: ', 84, '| train loss: 0.4941', '| valid auc: 0.70', '| test auc: 0.70')\n",
      "('Epoch: ', 85, '| train loss: 0.4629', '| valid auc: 0.69', '| test auc: 0.70')\n",
      "('Epoch: ', 86, '| train loss: 0.4649', '| valid auc: 0.69', '| test auc: 0.70')\n",
      "('Epoch: ', 87, '| train loss: 0.4714', '| valid auc: 0.69', '| test auc: 0.70')\n",
      "('Epoch: ', 88, '| train loss: 0.4704', '| valid auc: 0.70', '| test auc: 0.70')\n",
      "('Epoch: ', 89, '| train loss: 0.5011', '| valid auc: 0.70', '| test auc: 0.70')\n",
      "('Epoch: ', 90, '| train loss: 0.4807', '| valid auc: 0.70', '| test auc: 0.70')\n",
      "('Epoch: ', 91, '| train loss: 0.4826', '| valid auc: 0.70', '| test auc: 0.70')\n",
      "('Epoch: ', 92, '| train loss: 0.4539', '| valid auc: 0.70', '| test auc: 0.70')\n",
      "('Epoch: ', 93, '| train loss: 0.4927', '| valid auc: 0.70', '| test auc: 0.70')\n",
      "('Epoch: ', 94, '| train loss: 0.4324', '| valid auc: 0.70', '| test auc: 0.70')\n",
      "('Epoch: ', 95, '| train loss: 0.4649', '| valid auc: 0.70', '| test auc: 0.70')\n",
      "('Epoch: ', 96, '| train loss: 0.4800', '| valid auc: 0.69', '| test auc: 0.70')\n",
      "('Epoch: ', 97, '| train loss: 0.4551', '| valid auc: 0.69', '| test auc: 0.70')\n",
      "('Epoch: ', 98, '| train loss: 0.4606', '| valid auc: 0.69', '| test auc: 0.70')\n",
      "('Epoch: ', 99, '| train loss: 0.4677', '| valid auc: 0.69', '| test auc: 0.70')\n",
      "('Epoch: ', 100, '| train loss: 0.4492', '| valid auc: 0.69', '| test auc: 0.70')\n",
      "('Epoch: ', 101, '| train loss: 0.4409', '| valid auc: 0.69', '| test auc: 0.70')\n",
      "('Epoch: ', 102, '| train loss: 0.4373', '| valid auc: 0.69', '| test auc: 0.70')\n",
      "('Epoch: ', 103, '| train loss: 0.4258', '| valid auc: 0.69', '| test auc: 0.70')\n",
      "('Epoch: ', 104, '| train loss: 0.4513', '| valid auc: 0.70', '| test auc: 0.70')\n",
      "('Epoch: ', 105, '| train loss: 0.4798', '| valid auc: 0.70', '| test auc: 0.70')\n",
      "('Epoch: ', 106, '| train loss: 0.4511', '| valid auc: 0.70', '| test auc: 0.70')\n",
      "('Epoch: ', 107, '| train loss: 0.4691', '| valid auc: 0.72', '| test auc: 0.70')\n",
      "('Epoch: ', 108, '| train loss: 0.4823', '| valid auc: 0.70', '| test auc: 0.70')\n",
      "('Epoch: ', 109, '| train loss: 0.4367', '| valid auc: 0.70', '| test auc: 0.70')\n",
      "('Epoch: ', 110, '| train loss: 0.4925', '| valid auc: 0.70', '| test auc: 0.70')\n",
      "('Epoch: ', 111, '| train loss: 0.4827', '| valid auc: 0.70', '| test auc: 0.70')\n",
      "('Epoch: ', 112, '| train loss: 0.4446', '| valid auc: 0.67', '| test auc: 0.69')\n",
      "('Epoch: ', 113, '| train loss: 0.4687', '| valid auc: 0.66', '| test auc: 0.69')\n",
      "('Epoch: ', 114, '| train loss: 0.4406', '| valid auc: 0.67', '| test auc: 0.69')\n",
      "('Epoch: ', 115, '| train loss: 0.4659', '| valid auc: 0.70', '| test auc: 0.69')\n",
      "('Epoch: ', 116, '| train loss: 0.4409', '| valid auc: 0.70', '| test auc: 0.69')\n",
      "('Epoch: ', 117, '| train loss: 0.4447', '| valid auc: 0.69', '| test auc: 0.67')\n",
      "('Epoch: ', 118, '| train loss: 0.4682', '| valid auc: 0.69', '| test auc: 0.67')\n",
      "('Epoch: ', 119, '| train loss: 0.4625', '| valid auc: 0.69', '| test auc: 0.67')\n",
      "('Epoch: ', 120, '| train loss: 0.4656', '| valid auc: 0.70', '| test auc: 0.67')\n",
      "('Epoch: ', 121, '| train loss: 0.4063', '| valid auc: 0.70', '| test auc: 0.69')\n",
      "('Epoch: ', 122, '| train loss: 0.4356', '| valid auc: 0.72', '| test auc: 0.70')\n",
      "('Epoch: ', 123, '| train loss: 0.4666', '| valid auc: 0.72', '| test auc: 0.70')\n",
      "('Epoch: ', 124, '| train loss: 0.4580', '| valid auc: 0.72', '| test auc: 0.70')\n",
      "('Epoch: ', 125, '| train loss: 0.4753', '| valid auc: 0.72', '| test auc: 0.69')\n",
      "('Epoch: ', 126, '| train loss: 0.4344', '| valid auc: 0.72', '| test auc: 0.69')\n",
      "('Epoch: ', 127, '| train loss: 0.4322', '| valid auc: 0.69', '| test auc: 0.69')\n",
      "('Epoch: ', 128, '| train loss: 0.4580', '| valid auc: 0.67', '| test auc: 0.69')\n",
      "('Epoch: ', 129, '| train loss: 0.4109', '| valid auc: 0.66', '| test auc: 0.67')\n",
      "('Epoch: ', 130, '| train loss: 0.4312', '| valid auc: 0.66', '| test auc: 0.67')\n",
      "('Epoch: ', 131, '| train loss: 0.4340', '| valid auc: 0.66', '| test auc: 0.67')\n",
      "('Epoch: ', 132, '| train loss: 0.4461', '| valid auc: 0.66', '| test auc: 0.67')\n",
      "('Epoch: ', 133, '| train loss: 0.3806', '| valid auc: 0.66', '| test auc: 0.69')\n",
      "('Epoch: ', 134, '| train loss: 0.4848', '| valid auc: 0.67', '| test auc: 0.69')\n",
      "('Epoch: ', 135, '| train loss: 0.4327', '| valid auc: 0.69', '| test auc: 0.69')\n",
      "('Epoch: ', 136, '| train loss: 0.4075', '| valid auc: 0.69', '| test auc: 0.69')\n",
      "('Epoch: ', 137, '| train loss: 0.4410', '| valid auc: 0.69', '| test auc: 0.69')\n",
      "('Epoch: ', 138, '| train loss: 0.4408', '| valid auc: 0.70', '| test auc: 0.69')\n",
      "('Epoch: ', 139, '| train loss: 0.4168', '| valid auc: 0.69', '| test auc: 0.69')\n",
      "('Epoch: ', 140, '| train loss: 0.4222', '| valid auc: 0.66', '| test auc: 0.69')\n",
      "('Epoch: ', 141, '| train loss: 0.4333', '| valid auc: 0.66', '| test auc: 0.69')\n",
      "('Epoch: ', 142, '| train loss: 0.4163', '| valid auc: 0.64', '| test auc: 0.67')\n",
      "('Epoch: ', 143, '| train loss: 0.4418', '| valid auc: 0.64', '| test auc: 0.64')\n"
     ]
    },
    {
     "ename": "KeyboardInterrupt",
     "evalue": "",
     "output_type": "error",
     "traceback": [
      "\u001b[1;31m---------------------------------------------------------------------------\u001b[0m",
      "\u001b[1;31mKeyboardInterrupt\u001b[0m                         Traceback (most recent call last)",
      "\u001b[1;32m<ipython-input-278-39f85cd895e9>\u001b[0m in \u001b[0;36m<module>\u001b[1;34m()\u001b[0m\n\u001b[0;32m      4\u001b[0m \u001b[1;32mfor\u001b[0m \u001b[0mepoch\u001b[0m \u001b[1;32min\u001b[0m \u001b[0mrange\u001b[0m\u001b[1;33m(\u001b[0m\u001b[0mepoch\u001b[0m\u001b[1;33m,\u001b[0m \u001b[1;36m800\u001b[0m\u001b[1;33m)\u001b[0m\u001b[1;33m:\u001b[0m\u001b[1;33m\u001b[0m\u001b[0m\n\u001b[0;32m      5\u001b[0m     \u001b[0mbatch_loss\u001b[0m \u001b[1;33m=\u001b[0m \u001b[1;33m[\u001b[0m\u001b[1;33m]\u001b[0m\u001b[1;33m\u001b[0m\u001b[0m\n\u001b[1;32m----> 6\u001b[1;33m     \u001b[1;32mfor\u001b[0m \u001b[0mstep\u001b[0m\u001b[1;33m,\u001b[0m \u001b[1;33m(\u001b[0m\u001b[0mx\u001b[0m\u001b[1;33m,\u001b[0m \u001b[0my\u001b[0m\u001b[1;33m,\u001b[0m \u001b[0muse_mask\u001b[0m\u001b[1;33m)\u001b[0m \u001b[1;32min\u001b[0m \u001b[0menumerate\u001b[0m\u001b[1;33m(\u001b[0m\u001b[0mtrain_loader\u001b[0m\u001b[1;33m)\u001b[0m\u001b[1;33m:\u001b[0m\u001b[1;33m\u001b[0m\u001b[0m\n\u001b[0m\u001b[0;32m      7\u001b[0m \u001b[1;33m\u001b[0m\u001b[0m\n\u001b[0;32m      8\u001b[0m         \u001b[0mb_x\u001b[0m \u001b[1;33m=\u001b[0m \u001b[0mVariable\u001b[0m\u001b[1;33m(\u001b[0m\u001b[0mx\u001b[0m\u001b[1;33m[\u001b[0m\u001b[1;36m0\u001b[0m\u001b[1;33m]\u001b[0m\u001b[1;33m,\u001b[0m \u001b[0mrequires_grad\u001b[0m\u001b[1;33m=\u001b[0m\u001b[0mTrue\u001b[0m\u001b[1;33m)\u001b[0m\u001b[1;33m\u001b[0m\u001b[0m\n",
      "\u001b[1;32m/u/cohenjos/.local/lib/python2.7/site-packages/torch/utils/data/dataloader.pyc\u001b[0m in \u001b[0;36m__next__\u001b[1;34m(self)\u001b[0m\n\u001b[0;32m    262\u001b[0m         \u001b[1;32mif\u001b[0m \u001b[0mself\u001b[0m\u001b[1;33m.\u001b[0m\u001b[0mnum_workers\u001b[0m \u001b[1;33m==\u001b[0m \u001b[1;36m0\u001b[0m\u001b[1;33m:\u001b[0m  \u001b[1;31m# same-process loading\u001b[0m\u001b[1;33m\u001b[0m\u001b[0m\n\u001b[0;32m    263\u001b[0m             \u001b[0mindices\u001b[0m \u001b[1;33m=\u001b[0m \u001b[0mnext\u001b[0m\u001b[1;33m(\u001b[0m\u001b[0mself\u001b[0m\u001b[1;33m.\u001b[0m\u001b[0msample_iter\u001b[0m\u001b[1;33m)\u001b[0m  \u001b[1;31m# may raise StopIteration\u001b[0m\u001b[1;33m\u001b[0m\u001b[0m\n\u001b[1;32m--> 264\u001b[1;33m             \u001b[0mbatch\u001b[0m \u001b[1;33m=\u001b[0m \u001b[0mself\u001b[0m\u001b[1;33m.\u001b[0m\u001b[0mcollate_fn\u001b[0m\u001b[1;33m(\u001b[0m\u001b[1;33m[\u001b[0m\u001b[0mself\u001b[0m\u001b[1;33m.\u001b[0m\u001b[0mdataset\u001b[0m\u001b[1;33m[\u001b[0m\u001b[0mi\u001b[0m\u001b[1;33m]\u001b[0m \u001b[1;32mfor\u001b[0m \u001b[0mi\u001b[0m \u001b[1;32min\u001b[0m \u001b[0mindices\u001b[0m\u001b[1;33m]\u001b[0m\u001b[1;33m)\u001b[0m\u001b[1;33m\u001b[0m\u001b[0m\n\u001b[0m\u001b[0;32m    265\u001b[0m             \u001b[1;32mif\u001b[0m \u001b[0mself\u001b[0m\u001b[1;33m.\u001b[0m\u001b[0mpin_memory\u001b[0m\u001b[1;33m:\u001b[0m\u001b[1;33m\u001b[0m\u001b[0m\n\u001b[0;32m    266\u001b[0m                 \u001b[0mbatch\u001b[0m \u001b[1;33m=\u001b[0m \u001b[0mpin_memory_batch\u001b[0m\u001b[1;33m(\u001b[0m\u001b[0mbatch\u001b[0m\u001b[1;33m)\u001b[0m\u001b[1;33m\u001b[0m\u001b[0m\n",
      "\u001b[1;32m/data/milatmp1/cohenjos/workspace/gm/datasets/msd.py\u001b[0m in \u001b[0;36m__getitem__\u001b[1;34m(self, index)\u001b[0m\n\u001b[0;32m    115\u001b[0m \u001b[1;33m\u001b[0m\u001b[0m\n\u001b[0;32m    116\u001b[0m         \u001b[0mimage\u001b[0m\u001b[1;33m,\u001b[0m\u001b[0mseg\u001b[0m\u001b[1;33m,\u001b[0m\u001b[0mlabel\u001b[0m \u001b[1;33m=\u001b[0m \u001b[0mself\u001b[0m\u001b[1;33m.\u001b[0m\u001b[0msamples\u001b[0m\u001b[1;33m[\u001b[0m\u001b[0mself\u001b[0m\u001b[1;33m.\u001b[0m\u001b[0midx\u001b[0m\u001b[1;33m[\u001b[0m\u001b[0mindex\u001b[0m\u001b[1;33m]\u001b[0m\u001b[1;33m]\u001b[0m\u001b[1;33m\u001b[0m\u001b[0m\n\u001b[1;32m--> 117\u001b[1;33m \u001b[1;33m\u001b[0m\u001b[0m\n\u001b[0m\u001b[0;32m    118\u001b[0m         \u001b[0mimage\u001b[0m \u001b[1;33m=\u001b[0m \u001b[0mImage\u001b[0m\u001b[1;33m.\u001b[0m\u001b[0mfromarray\u001b[0m\u001b[1;33m(\u001b[0m\u001b[0mimage\u001b[0m\u001b[1;33m)\u001b[0m\u001b[1;33m\u001b[0m\u001b[0m\n\u001b[0;32m    119\u001b[0m         \u001b[1;31m#if self.transform != None:\u001b[0m\u001b[1;33m\u001b[0m\u001b[1;33m\u001b[0m\u001b[0m\n",
      "\u001b[1;32m/u/cohenjos/.local/lib/python2.7/site-packages/skimage/filters/_gaussian.pyc\u001b[0m in \u001b[0;36mgaussian\u001b[1;34m(image, sigma, output, mode, cval, multichannel, preserve_range, truncate)\u001b[0m\n\u001b[0;32m    118\u001b[0m     \u001b[0mimage\u001b[0m \u001b[1;33m=\u001b[0m \u001b[0mconvert_to_float\u001b[0m\u001b[1;33m(\u001b[0m\u001b[0mimage\u001b[0m\u001b[1;33m,\u001b[0m \u001b[0mpreserve_range\u001b[0m\u001b[1;33m)\u001b[0m\u001b[1;33m\u001b[0m\u001b[0m\n\u001b[0;32m    119\u001b[0m     return ndi.gaussian_filter(image, sigma, mode=mode, cval=cval,\n\u001b[1;32m--> 120\u001b[1;33m                                truncate=truncate)\n\u001b[0m",
      "\u001b[1;32m/u/cohenjos/.local/lib/python2.7/site-packages/scipy/ndimage/filters.pyc\u001b[0m in \u001b[0;36mgaussian_filter\u001b[1;34m(input, sigma, order, output, mode, cval, truncate)\u001b[0m\n\u001b[0;32m    284\u001b[0m         \u001b[1;32mfor\u001b[0m \u001b[0maxis\u001b[0m\u001b[1;33m,\u001b[0m \u001b[0msigma\u001b[0m\u001b[1;33m,\u001b[0m \u001b[0morder\u001b[0m\u001b[1;33m,\u001b[0m \u001b[0mmode\u001b[0m \u001b[1;32min\u001b[0m \u001b[0maxes\u001b[0m\u001b[1;33m:\u001b[0m\u001b[1;33m\u001b[0m\u001b[0m\n\u001b[0;32m    285\u001b[0m             gaussian_filter1d(input, sigma, axis, order, output,\n\u001b[1;32m--> 286\u001b[1;33m                               mode, cval, truncate)\n\u001b[0m\u001b[0;32m    287\u001b[0m             \u001b[0minput\u001b[0m \u001b[1;33m=\u001b[0m \u001b[0moutput\u001b[0m\u001b[1;33m\u001b[0m\u001b[0m\n\u001b[0;32m    288\u001b[0m     \u001b[1;32melse\u001b[0m\u001b[1;33m:\u001b[0m\u001b[1;33m\u001b[0m\u001b[0m\n",
      "\u001b[1;32m/u/cohenjos/.local/lib/python2.7/site-packages/scipy/ndimage/filters.pyc\u001b[0m in \u001b[0;36mgaussian_filter1d\u001b[1;34m(input, sigma, axis, order, output, mode, cval, truncate)\u001b[0m\n\u001b[0;32m    202\u001b[0m     \u001b[1;31m# Since we are calling correlate, not convolve, revert the kernel\u001b[0m\u001b[1;33m\u001b[0m\u001b[1;33m\u001b[0m\u001b[0m\n\u001b[0;32m    203\u001b[0m     \u001b[0mweights\u001b[0m \u001b[1;33m=\u001b[0m \u001b[0m_gaussian_kernel1d\u001b[0m\u001b[1;33m(\u001b[0m\u001b[0msigma\u001b[0m\u001b[1;33m,\u001b[0m \u001b[0morder\u001b[0m\u001b[1;33m,\u001b[0m \u001b[0mlw\u001b[0m\u001b[1;33m)\u001b[0m\u001b[1;33m[\u001b[0m\u001b[1;33m:\u001b[0m\u001b[1;33m:\u001b[0m\u001b[1;33m-\u001b[0m\u001b[1;36m1\u001b[0m\u001b[1;33m]\u001b[0m\u001b[1;33m\u001b[0m\u001b[0m\n\u001b[1;32m--> 204\u001b[1;33m     \u001b[1;32mreturn\u001b[0m \u001b[0mcorrelate1d\u001b[0m\u001b[1;33m(\u001b[0m\u001b[0minput\u001b[0m\u001b[1;33m,\u001b[0m \u001b[0mweights\u001b[0m\u001b[1;33m,\u001b[0m \u001b[0maxis\u001b[0m\u001b[1;33m,\u001b[0m \u001b[0moutput\u001b[0m\u001b[1;33m,\u001b[0m \u001b[0mmode\u001b[0m\u001b[1;33m,\u001b[0m \u001b[0mcval\u001b[0m\u001b[1;33m,\u001b[0m \u001b[1;36m0\u001b[0m\u001b[1;33m)\u001b[0m\u001b[1;33m\u001b[0m\u001b[0m\n\u001b[0m\u001b[0;32m    205\u001b[0m \u001b[1;33m\u001b[0m\u001b[0m\n\u001b[0;32m    206\u001b[0m \u001b[1;33m\u001b[0m\u001b[0m\n",
      "\u001b[1;32m/u/cohenjos/.local/lib/python2.7/site-packages/scipy/ndimage/filters.pyc\u001b[0m in \u001b[0;36mcorrelate1d\u001b[1;34m(input, weights, axis, output, mode, cval, origin)\u001b[0m\n\u001b[0;32m     90\u001b[0m     \u001b[0mmode\u001b[0m \u001b[1;33m=\u001b[0m \u001b[0m_ni_support\u001b[0m\u001b[1;33m.\u001b[0m\u001b[0m_extend_mode_to_code\u001b[0m\u001b[1;33m(\u001b[0m\u001b[0mmode\u001b[0m\u001b[1;33m)\u001b[0m\u001b[1;33m\u001b[0m\u001b[0m\n\u001b[0;32m     91\u001b[0m     _nd_image.correlate1d(input, weights, axis, output, mode, cval,\n\u001b[1;32m---> 92\u001b[1;33m                           origin)\n\u001b[0m\u001b[0;32m     93\u001b[0m     \u001b[1;32mreturn\u001b[0m \u001b[0moutput\u001b[0m\u001b[1;33m\u001b[0m\u001b[0m\n\u001b[0;32m     94\u001b[0m \u001b[1;33m\u001b[0m\u001b[0m\n",
      "\u001b[1;31mKeyboardInterrupt\u001b[0m: "
     ]
    }
   ],
   "source": [
    "use_gradmask = args.thing\n",
    "stats = []\n",
    "\n",
    "for epoch in range(epoch, 800):\n",
    "    batch_loss = []\n",
    "    for step, (x, y, use_mask) in enumerate(train_loader):\n",
    "\n",
    "        b_x = Variable(x[0], requires_grad=True)\n",
    "        b_y = Variable(y)\n",
    "        use_mask = Variable(use_mask)\n",
    "        seg_x = x[1]\n",
    "\n",
    "        if cuda:\n",
    "            b_x = b_x.cuda()\n",
    "            b_y = b_y.cuda()\n",
    "            seg_x = seg_x.cuda()\n",
    "            use_mask = use_mask.cuda()\n",
    "\n",
    "        cnn.train()\n",
    "        output = cnn(b_x)[0]\n",
    "        loss = loss_func(output, b_y)\n",
    "\n",
    "        if use_gradmask:\n",
    "            if args.thingstyle == 1:\n",
    "                input_grads = \\\n",
    "                torch.autograd.grad(outputs=torch.abs(output[:, 1]).sum(),\n",
    "                                    inputs=b_x,\n",
    "                                    create_graph=True)[0]\n",
    "\n",
    "            elif args.thingstyle == 2:\n",
    "                input_grads = \\\n",
    "                torch.autograd.grad(outputs=(torch.abs(output[:,1]).sum()),\n",
    "                                    inputs=b_x,\n",
    "                                    create_graph=True)[0]\n",
    "                input_grads2 = \\\n",
    "                torch.autograd.grad(outputs=(torch.abs(output[:,0]).sum()),\n",
    "                                    inputs=b_x,\n",
    "                                    create_graph=True)[0]\n",
    "                input_grads = torch.abs(input_grads) - torch.abs(input_grads2)\n",
    "\n",
    "\n",
    "            # only apply to positive examples\n",
    "            input_grads = b_y.float().reshape(-1, 1, 1, 1) * input_grads\n",
    "\n",
    "            res = input_grads * (1 - seg_x.float())\n",
    "            gradmask_loss = (res ** 2)\n",
    "\n",
    "            # Simulate that we only have some masks\n",
    "            gradmask_loss = use_mask.reshape(-1, 1).float() * gradmask_loss.float().reshape(-1, np.prod(gradmask_loss.shape[1:]))\n",
    "\n",
    "            gradmask_loss = gradmask_loss.sum()\n",
    "            #gradmask_loss = epoch * args.annealinglambda * gradmask_loss\n",
    "            loss = gradmask_loss + loss\n",
    "\n",
    "        optimizer.zero_grad()\n",
    "        loss.backward(retain_graph=True)\n",
    "        optimizer.step()\n",
    "\n",
    "        batch_loss.append(loss.data[0])\n",
    "        # print (loss)\n",
    "\n",
    "    cnn.eval()\n",
    "\n",
    "    valid_output, last_layer = cnn(valid_x)\n",
    "    pred_valid_y = torch.max(valid_output, 1)[1].data.squeeze()\n",
    "    valid_auc = sklearn.metrics.roc_auc_score(valid_y, pred_valid_y.cpu())\n",
    "\n",
    "    test_output, last_layer = cnn(test_x)\n",
    "    pred_test_y = torch.max(test_output, 1)[1].data.squeeze()\n",
    "    test_auc = sklearn.metrics.roc_auc_score(test_y, pred_test_y.cpu())\n",
    "\n",
    "    stat = {\"epoch\": epoch,\n",
    "            \"trainloss\": np.asarray(batch_loss).mean(),\n",
    "            \"validauc\": valid_auc,\n",
    "            \"testauc\": test_auc}\n",
    "    stat.update(vars(args))\n",
    "    stats.append(stat)\n",
    "    print('Epoch: ', epoch, '| train loss: %.4f' % np.asarray(batch_loss).mean(), '| valid auc: %.2f' % valid_auc, '| test auc: %.2f' % test_auc)\n",
    "    # os.mkdir(\"stats\")\n",
    "#    if (epoch % 20) == 0: # 20 times faster \n",
    "#        pickle.dump(stats, open(\"stats/\" + exp_id + \".pkl\", \"wb\"))\n"
   ]
  },
  {
   "cell_type": "code",
   "execution_count": 126,
   "metadata": {
    "collapsed": false
   },
   "outputs": [
    {
     "data": {
      "text/plain": [
       "<matplotlib.image.AxesImage at 0x7fcaba697a10>"
      ]
     },
     "execution_count": 126,
     "metadata": {},
     "output_type": "execute_result"
    },
    {
     "data": {
      "image/png": "[encoded data removed]",
      "text/plain": [
       "<Figure size 432x288 with 1 Axes>"
      ]
     },
     "metadata": {},
     "output_type": "display_data"
    }
   ],
   "source": [
    "plt.imshow(b_x[0][0].detach())"
   ]
  },
  {
   "cell_type": "code",
   "execution_count": 127,
   "metadata": {
    "collapsed": false
   },
   "outputs": [
    {
     "data": {
      "text/plain": [
       "<matplotlib.image.AxesImage at 0x7fcaba657c50>"
      ]
     },
     "execution_count": 127,
     "metadata": {},
     "output_type": "execute_result"
    },
    {
     "data": {
      "image/png": "[encoded data removed]",
      "text/plain": [
       "<Figure size 432x288 with 1 Axes>"
      ]
     },
     "metadata": {},
     "output_type": "display_data"
    }
   ],
   "source": [
    "plt.imshow(seg_x[0][0].detach())"
   ]
  },
  {
   "cell_type": "code",
   "execution_count": 125,
   "metadata": {
    "collapsed": false
   },
   "outputs": [
    {
     "data": {
      "text/plain": [
       "<matplotlib.image.AxesImage at 0x7fcaba9ab5d0>"
      ]
     },
     "execution_count": 125,
     "metadata": {},
     "output_type": "execute_result"
    },
    {
     "data": {
      "image/png": "[encoded data removed]",
      "text/plain": [
       "<Figure size 432x288 with 1 Axes>"
      ]
     },
     "metadata": {},
     "output_type": "display_data"
    }
   ],
   "source": [
    "plt.imshow(input_grads)"
   ]
  },
  {
   "cell_type": "code",
   "execution_count": null,
   "metadata": {
    "collapsed": true
   },
   "outputs": [],
   "source": []
  },
  {
   "cell_type": "code",
   "execution_count": 51,
   "metadata": {
    "collapsed": false
   },
   "outputs": [],
   "source": [
    "# import pandas as pd\n",
    "# pd.DataFrame(stats)"
   ]
  },
  {
   "cell_type": "code",
   "execution_count": 290,
   "metadata": {
    "collapsed": true
   },
   "outputs": [],
   "source": [
    "valid.blur=6"
   ]
  },
  {
   "cell_type": "code",
   "execution_count": 365,
   "metadata": {
    "collapsed": false
   },
   "outputs": [],
   "source": [
    "#to make video: ffmpeg -y -i images/image-%d.png -vcodec libx264 aout.mp4\n",
    "def processImages(text, i):\n",
    "    fig = plt.Figure(figsize=(20, 7), dpi=160)\n",
    "    gcf = plt.gcf()\n",
    "    gcf.set_size_inches(20, 7)\n",
    "    fig.set_canvas(gcf.canvas)\n",
    "    \n",
    "    x, y, z = valid[2]\n",
    "    \n",
    "    x_var = Variable(x[0].unsqueeze(0).cuda(), requires_grad=True)\n",
    "    cnn.eval()\n",
    "    pred, res = cnn(x_var)\n",
    "\n",
    "    input_grads = torch.autograd.grad(outputs=(torch.abs(pred[:,1]).sum()), \n",
    "                                           inputs=x_var,\n",
    "                                           create_graph=True)[0]\n",
    "    input_grads = input_grads[0][0].cpu().detach().numpy()\n",
    "    plt.imshow(np.abs(input_grads), cmap=\"jet\");\n",
    "\n",
    "    \n",
    "    \n",
    "    \n",
    "    \n",
    "\n",
    "    ax2 = plt.subplot2grid((2,6), (0, 0), colspan=1)\n",
    "    ax3 = plt.subplot2grid((2,6), (0, 1), colspan=1)\n",
    "    ax4 = plt.subplot2grid((2,6), (0, 2), colspan=1)\n",
    "    ax5 = plt.subplot2grid((2,6), (0, 3), rowspan=1)\n",
    "    ax6 = plt.subplot2grid((2,6), (0, 4), rowspan=1)\n",
    "\n",
    "    ax2.set_title(\"Input Image\")\n",
    "    ax2.imshow(x[0][0], interpolation='none', cmap='Greys_r')\n",
    "    ax3.set_title(\"\")\n",
    "    ax3.imshow(x[1][0]*x[0][0], interpolation='none', cmap='Greys_r')\n",
    "    ax4.set_title(\"grad\")\n",
    "    ax4.imshow(np.abs(input_grads), cmap=\"jet\", interpolation='none')\n",
    "    ax5.set_title(\"grad masked\")\n",
    "    ax5.imshow(np.abs(input_grads)*x[1][0], cmap=\"jet\", interpolation='none')\n",
    "    \n",
    "    ax2 = plt.subplot2grid((2,6), (1, 0), colspan=1)\n",
    "    ax3 = plt.subplot2grid((2,6), (1, 1), colspan=1)\n",
    "    ax4 = plt.subplot2grid((2,6), (1, 2), colspan=1)\n",
    "    ax5 = plt.subplot2grid((2,6), (1, 3), rowspan=1)\n",
    "    ax6 = plt.subplot2grid((2,6), (1, 4), rowspan=1)\n",
    "    \n",
    "    ax2.set_title(\"conv1\")\n",
    "    ax2.imshow(res[\"conv1\"].detach()[0].mean(0), interpolation='none')\n",
    "    ax3.set_title(\"conv2\")\n",
    "    ax3.imshow(res[\"conv2\"].detach()[0].mean(0), interpolation='none')\n",
    "    ax4.set_title(\"conv3\")\n",
    "    ax4.imshow(res[\"conv3\"].detach()[0].mean(0), interpolation='none')\n",
    "#     ax5.set_title(\"pool\")\n",
    "#     ax5.imshow(res[\"pool\"].detach()[0].mean(0), interpolation='none')\n",
    "\n",
    "#     ax5.set_title(\"Real \" + str(lab_est))\n",
    "#     ax5.set_ylim((0, np.max(lab_est)*2))\n",
    "#     ax5.set_xticks(np.arange(0, noutputs, 1.0))\n",
    "#     ax5.bar(range(noutputs),lab_est, align='center')\n",
    "#     ax6.set_title(\"Pred \" + str(pred_est))\n",
    "#     ax6.set_ylim((0, np.max(lab_est)*2))\n",
    "#     ax6.set_xticks(np.arange(0, noutputs, 1.0))\n",
    "#     ax6.bar(range(noutputs),pred_est, align='center')\n",
    "#     if not os.path.exists('images-cell'): \n",
    "#         os.mkdir('images-cell')\n",
    "#     fig.savefig('images-cell/image-' + str(i) + \"-\" + name + '.png', bbox_inches='tight', pad_inches=0)"
   ]
  },
  {
   "cell_type": "code",
   "execution_count": null,
   "metadata": {
    "collapsed": true
   },
   "outputs": [],
   "source": []
  },
  {
   "cell_type": "code",
   "execution_count": 366,
   "metadata": {
    "collapsed": false
   },
   "outputs": [
    {
     "data": {
      "image/png": "[encoded data removed]",
      "text/plain": [
       "<Figure size 1440x504 with 10 Axes>"
      ]
     },
     "metadata": {},
     "output_type": "display_data"
    }
   ],
   "source": [
    "processImages(\"testtt\", 0)\n",
    "plt.show()"
   ]
  },
  {
   "cell_type": "code",
   "execution_count": null,
   "metadata": {
    "collapsed": true
   },
   "outputs": [],
   "source": []
  },
  {
   "cell_type": "code",
   "execution_count": null,
   "metadata": {
    "collapsed": true
   },
   "outputs": [],
   "source": []
  },
  {
   "cell_type": "code",
   "execution_count": null,
   "metadata": {
    "collapsed": true
   },
   "outputs": [],
   "source": []
  },
  {
   "cell_type": "code",
   "execution_count": null,
   "metadata": {
    "collapsed": true
   },
   "outputs": [],
   "source": []
  },
  {
   "cell_type": "code",
   "execution_count": null,
   "metadata": {
    "collapsed": true
   },
   "outputs": [],
   "source": []
  },
  {
   "cell_type": "code",
   "execution_count": null,
   "metadata": {
    "collapsed": false
   },
   "outputs": [],
   "source": []
  },
  {
   "cell_type": "code",
   "execution_count": 41,
   "metadata": {
    "collapsed": false
   },
   "outputs": [],
   "source": [
    "# processImages(\"testttt\", 0)\n",
    "# plt.show()"
   ]
  },
  {
   "cell_type": "code",
   "execution_count": null,
   "metadata": {
    "collapsed": false
   },
   "outputs": [],
   "source": []
  },
  {
   "cell_type": "code",
   "execution_count": null,
   "metadata": {
    "collapsed": true
   },
   "outputs": [],
   "source": []
  },
  {
   "cell_type": "code",
   "execution_count": null,
   "metadata": {
    "collapsed": false
   },
   "outputs": [],
   "source": []
  },
  {
   "cell_type": "code",
   "execution_count": 232,
   "metadata": {
    "collapsed": true
   },
   "outputs": [],
   "source": [
    "##############################################\n",
    "##############################################\n",
    "##############################################\n",
    "##############################################\n",
    "## below is code to debug the model"
   ]
  },
  {
   "cell_type": "code",
   "execution_count": null,
   "metadata": {
    "collapsed": false
   },
   "outputs": [],
   "source": []
  },
  {
   "cell_type": "code",
   "execution_count": null,
   "metadata": {
    "collapsed": false
   },
   "outputs": [],
   "source": []
  },
  {
   "cell_type": "code",
   "execution_count": 194,
   "metadata": {
    "collapsed": false
   },
   "outputs": [
    {
     "data": {
      "text/plain": [
       "array([3324, 2694, 1044,  885, 1272, 2152, 2654,  614, 2898,  311,  242,\n",
       "       2696, 3316, 3320,  815, 1667,  692, 1725,  691, 2703,  443, 2867,\n",
       "       1446, 1626,  608, 3318, 2423, 2479,  447, 2016, 1032, 1978, 2025,\n",
       "       2167, 2650, 2674, 2526,  282, 1983, 1548, 1503,  445, 3361,  449,\n",
       "       1982, 2070, 2975, 2707, 1508, 2660, 2154, 1663, 2702, 1374, 2144,\n",
       "        528, 3323, 2122,  525,  426, 2348,  389,  582,  821])"
      ]
     },
     "execution_count": 194,
     "metadata": {},
     "output_type": "execute_result"
    }
   ],
   "source": [
    "mask_idx"
   ]
  },
  {
   "cell_type": "code",
   "execution_count": 20,
   "metadata": {
    "collapsed": false
   },
   "outputs": [],
   "source": [
    "x, y, z = train[24]"
   ]
  },
  {
   "cell_type": "code",
   "execution_count": 21,
   "metadata": {
    "collapsed": false
   },
   "outputs": [
    {
     "data": {
      "text/plain": [
       "1.0"
      ]
     },
     "execution_count": 21,
     "metadata": {},
     "output_type": "execute_result"
    }
   ],
   "source": [
    "z"
   ]
  },
  {
   "cell_type": "code",
   "execution_count": 22,
   "metadata": {
    "collapsed": false
   },
   "outputs": [
    {
     "data": {
      "text/plain": [
       "torch.Size([1, 100, 100])"
      ]
     },
     "execution_count": 22,
     "metadata": {},
     "output_type": "execute_result"
    }
   ],
   "source": [
    "x[0].shape"
   ]
  },
  {
   "cell_type": "code",
   "execution_count": 213,
   "metadata": {
    "collapsed": false
   },
   "outputs": [
    {
     "data": {
      "image/png": "[encoded data removed]",
      "text/plain": [
       "<Figure size 432x288 with 1 Axes>"
      ]
     },
     "metadata": {},
     "output_type": "display_data"
    },
    {
     "data": {
      "image/png": "[encoded data removed]",
      "text/plain": [
       "<Figure size 432x288 with 1 Axes>"
      ]
     },
     "metadata": {},
     "output_type": "display_data"
    }
   ],
   "source": [
    "x, y, z = train[0]\n",
    "plt.imshow(x[0][0], cmap=\"gray\");\n",
    "plt.title(y);\n",
    "plt.show()\n",
    "plt.imshow(x[1][0]);\n",
    "plt.show()"
   ]
  },
  {
   "cell_type": "code",
   "execution_count": 214,
   "metadata": {
    "collapsed": false
   },
   "outputs": [],
   "source": [
    "train.blur = 6"
   ]
  },
  {
   "cell_type": "code",
   "execution_count": 192,
   "metadata": {
    "collapsed": false
   },
   "outputs": [
    {
     "data": {
      "text/plain": [
       "tensor([[-1.1178,  2.0169]], device='cuda:0')"
      ]
     },
     "execution_count": 192,
     "metadata": {},
     "output_type": "execute_result"
    }
   ],
   "source": [
    "pred"
   ]
  },
  {
   "cell_type": "code",
   "execution_count": 193,
   "metadata": {
    "collapsed": false
   },
   "outputs": [
    {
     "data": {
      "text/plain": [
       "tensor(2.0169, device='cuda:0')"
      ]
     },
     "execution_count": 193,
     "metadata": {},
     "output_type": "execute_result"
    }
   ],
   "source": [
    "torch.abs(pred[:,1]).sum()"
   ]
  },
  {
   "cell_type": "code",
   "execution_count": 323,
   "metadata": {
    "collapsed": false
   },
   "outputs": [
    {
     "data": {
      "image/png": "[encoded data removed]",
      "text/plain": [
       "<Figure size 432x288 with 1 Axes>"
      ]
     },
     "metadata": {},
     "output_type": "display_data"
    },
    {
     "data": {
      "image/png": "[encoded data removed]",
      "text/plain": [
       "<Figure size 432x288 with 1 Axes>"
      ]
     },
     "metadata": {},
     "output_type": "display_data"
    }
   ],
   "source": [
    "x, y, z = valid[2]\n",
    "plt.imshow(x[0][0], cmap=\"gray\");\n",
    "plt.title(y);\n",
    "plt.show()\n",
    "plt.imshow(x[1][0]);\n",
    "plt.show()\n",
    "x_var = Variable(x[0].unsqueeze(0).cuda(), requires_grad=True)\n",
    "pred, res = cnn(x_var)\n"
   ]
  },
  {
   "cell_type": "code",
   "execution_count": 332,
   "metadata": {
    "collapsed": false
   },
   "outputs": [
    {
     "data": {
      "text/plain": [
       "tensor([[ 0.0844,  0.0830,  0.0812,  ...,  0.0865,  0.0870,  0.0874],\n",
       "        [ 0.2992,  0.2938,  0.2896,  ...,  0.3080,  0.3091,  0.3103],\n",
       "        [ 0.0000,  0.0000,  0.0000,  ...,  0.0000,  0.0000,  0.0000],\n",
       "        ...,\n",
       "        [ 0.3101,  0.3071,  0.3044,  ...,  0.3352,  0.3363,  0.3384],\n",
       "        [ 0.5575,  0.5510,  0.5422,  ...,  0.5944,  0.5973,  0.6012],\n",
       "        [ 0.2209,  0.2176,  0.2144,  ...,  0.2299,  0.2308,  0.2319]], device='cuda:0')"
      ]
     },
     "execution_count": 332,
     "metadata": {},
     "output_type": "execute_result"
    }
   ],
   "source": [
    "res[\"conv1\"].detach()[0].mean(1)"
   ]
  },
  {
   "cell_type": "code",
   "execution_count": 344,
   "metadata": {
    "collapsed": false
   },
   "outputs": [
    {
     "data": {
      "text/plain": [
       "<matplotlib.image.AxesImage at 0x7fcaacc39710>"
      ]
     },
     "execution_count": 344,
     "metadata": {},
     "output_type": "execute_result"
    },
    {
     "data": {
      "image/png": "[encoded data removed]",
      "text/plain": [
       "<Figure size 432x288 with 1 Axes>"
      ]
     },
     "metadata": {},
     "output_type": "display_data"
    }
   ],
   "source": [
    "plt.imshow(res[\"conv1\"].detach()[0].mean(0))"
   ]
  },
  {
   "cell_type": "code",
   "execution_count": 335,
   "metadata": {
    "collapsed": false
   },
   "outputs": [
    {
     "data": {
      "text/plain": [
       "<matplotlib.image.AxesImage at 0x7fcaaf1d2650>"
      ]
     },
     "execution_count": 335,
     "metadata": {},
     "output_type": "execute_result"
    },
    {
     "data": {
      "image/png": "[encoded data removed]",
      "text/plain": [
       "<Figure size 432x288 with 1 Axes>"
      ]
     },
     "metadata": {},
     "output_type": "display_data"
    }
   ],
   "source": [
    "plt.imshow(res[\"conv2\"].detach()[0].mean(0))"
   ]
  },
  {
   "cell_type": "code",
   "execution_count": 336,
   "metadata": {
    "collapsed": false
   },
   "outputs": [
    {
     "data": {
      "text/plain": [
       "<matplotlib.image.AxesImage at 0x7fcaaf19f890>"
      ]
     },
     "execution_count": 336,
     "metadata": {},
     "output_type": "execute_result"
    },
    {
     "data": {
      "image/png": "[encoded data removed]",
      "text/plain": [
       "<Figure size 432x288 with 1 Axes>"
      ]
     },
     "metadata": {},
     "output_type": "display_data"
    }
   ],
   "source": [
    "plt.imshow(res[\"conv3\"].detach()[0].mean(0))"
   ]
  },
  {
   "cell_type": "code",
   "execution_count": null,
   "metadata": {
    "collapsed": true
   },
   "outputs": [],
   "source": []
  },
  {
   "cell_type": "code",
   "execution_count": null,
   "metadata": {
    "collapsed": true
   },
   "outputs": [],
   "source": []
  },
  {
   "cell_type": "code",
   "execution_count": 322,
   "metadata": {
    "collapsed": false
   },
   "outputs": [
    {
     "data": {
      "text/plain": [
       "tensor([[-0.9724,  1.8972]], device='cuda:0')"
      ]
     },
     "execution_count": 322,
     "metadata": {},
     "output_type": "execute_result"
    }
   ],
   "source": [
    "pred"
   ]
  },
  {
   "cell_type": "code",
   "execution_count": 267,
   "metadata": {
    "collapsed": false
   },
   "outputs": [
    {
     "data": {
      "image/png": "[encoded data removed]",
      "text/plain": [
       "<Figure size 432x288 with 1 Axes>"
      ]
     },
     "metadata": {},
     "output_type": "display_data"
    }
   ],
   "source": [
    "input_grads = torch.autograd.grad(outputs=(torch.abs(pred[:,1]).sum()), \n",
    "                                       inputs=x_var,\n",
    "                                       create_graph=True)[0]\n",
    "input_grads = input_grads[0][0].cpu().detach().numpy()\n",
    "plt.imshow(np.abs(input_grads), cmap=\"jet\");"
   ]
  },
  {
   "cell_type": "code",
   "execution_count": 268,
   "metadata": {
    "collapsed": false
   },
   "outputs": [
    {
     "data": {
      "text/plain": [
       "-0.00031527865"
      ]
     },
     "execution_count": 268,
     "metadata": {},
     "output_type": "execute_result"
    }
   ],
   "source": [
    "input_grads.sum()"
   ]
  },
  {
   "cell_type": "code",
   "execution_count": 269,
   "metadata": {
    "collapsed": false
   },
   "outputs": [],
   "source": [
    "# input_grads2 = torch.autograd.grad(outputs=torch.abs(pred[:,0]).sum(), \n",
    "#                                        inputs=x_var,\n",
    "#                                        create_graph=True)[0]\n",
    "# input_grads2 = input_grads2[0][0].cpu().detach().numpy()\n",
    "# plt.imshow(np.abs(input_grads2), cmap=\"jet\");"
   ]
  },
  {
   "cell_type": "code",
   "execution_count": 270,
   "metadata": {
    "collapsed": false
   },
   "outputs": [
    {
     "data": {
      "text/plain": [
       "0.0004758468"
      ]
     },
     "execution_count": 270,
     "metadata": {},
     "output_type": "execute_result"
    }
   ],
   "source": [
    "(input_grads-input_grads2).max()"
   ]
  },
  {
   "cell_type": "code",
   "execution_count": 271,
   "metadata": {
    "collapsed": false
   },
   "outputs": [
    {
     "data": {
      "text/plain": [
       "<matplotlib.image.AxesImage at 0x7fcaaf49b190>"
      ]
     },
     "execution_count": 271,
     "metadata": {},
     "output_type": "execute_result"
    },
    {
     "data": {
      "image/png": "[encoded data removed]",
      "text/plain": [
       "<Figure size 432x288 with 1 Axes>"
      ]
     },
     "metadata": {},
     "output_type": "display_data"
    }
   ],
   "source": [
    "plt.imshow(np.abs(input_grads-input_grads2), cmap=\"jet\")"
   ]
  },
  {
   "cell_type": "code",
   "execution_count": null,
   "metadata": {
    "collapsed": true
   },
   "outputs": [],
   "source": []
  },
  {
   "cell_type": "code",
   "execution_count": null,
   "metadata": {
    "collapsed": false
   },
   "outputs": [],
   "source": []
  },
  {
   "cell_type": "code",
   "execution_count": 272,
   "metadata": {
    "collapsed": false
   },
   "outputs": [
    {
     "data": {
      "text/plain": [
       "<matplotlib.image.AxesImage at 0x7fcaaf47c610>"
      ]
     },
     "execution_count": 272,
     "metadata": {},
     "output_type": "execute_result"
    },
    {
     "data": {
      "image/png": "[encoded data removed]",
      "text/plain": [
       "<Figure size 432x288 with 1 Axes>"
      ]
     },
     "metadata": {},
     "output_type": "display_data"
    }
   ],
   "source": [
    "plt.imshow(x[0][0]*x[1][0], cmap=\"gray\")"
   ]
  },
  {
   "cell_type": "code",
   "execution_count": 273,
   "metadata": {
    "collapsed": false
   },
   "outputs": [
    {
     "data": {
      "text/plain": [
       "<matplotlib.image.AxesImage at 0x7fcaaf3e2610>"
      ]
     },
     "execution_count": 273,
     "metadata": {},
     "output_type": "execute_result"
    },
    {
     "data": {
      "image/png": "[encoded data removed]",
      "text/plain": [
       "<Figure size 432x288 with 1 Axes>"
      ]
     },
     "metadata": {},
     "output_type": "display_data"
    }
   ],
   "source": [
    "plt.imshow(x[1][0])"
   ]
  },
  {
   "cell_type": "code",
   "execution_count": null,
   "metadata": {
    "collapsed": false
   },
   "outputs": [],
   "source": []
  },
  {
   "cell_type": "code",
   "execution_count": null,
   "metadata": {
    "collapsed": false
   },
   "outputs": [],
   "source": []
  },
  {
   "cell_type": "code",
   "execution_count": 274,
   "metadata": {
    "collapsed": false
   },
   "outputs": [
    {
     "data": {
      "text/plain": [
       "<matplotlib.image.AxesImage at 0x7fcaaf346f10>"
      ]
     },
     "execution_count": 274,
     "metadata": {},
     "output_type": "execute_result"
    },
    {
     "data": {
      "image/png": "[encoded data removed]",
      "text/plain": [
       "<Figure size 432x288 with 1 Axes>"
      ]
     },
     "metadata": {},
     "output_type": "display_data"
    }
   ],
   "source": [
    "#these are the only allowed grads\n",
    "masked_grads = np.abs(input_grads)*(x[1][0])\n",
    "masked_grads[0][0] = torch.FloatTensor(np.abs(input_grads)).max()\n",
    "plt.imshow(masked_grads, cmap=\"jet\")"
   ]
  },
  {
   "cell_type": "code",
   "execution_count": 275,
   "metadata": {
    "collapsed": false
   },
   "outputs": [
    {
     "data": {
      "text/plain": [
       "<matplotlib.image.AxesImage at 0x7fcaaf337210>"
      ]
     },
     "execution_count": 275,
     "metadata": {},
     "output_type": "execute_result"
    },
    {
     "data": {
      "image/png": "[encoded data removed]",
      "text/plain": [
       "<Figure size 432x288 with 1 Axes>"
      ]
     },
     "metadata": {},
     "output_type": "display_data"
    }
   ],
   "source": [
    "#We can regularize to reduce this\n",
    "masked_grads = np.abs(input_grads)*(1-x[1][0])\n",
    "masked_grads[0][0] = torch.FloatTensor(np.abs(input_grads)).max()\n",
    "plt.imshow(masked_grads, cmap=\"jet\")"
   ]
  },
  {
   "cell_type": "code",
   "execution_count": null,
   "metadata": {
    "collapsed": true
   },
   "outputs": [],
   "source": []
  },
  {
   "cell_type": "code",
   "execution_count": null,
   "metadata": {
    "collapsed": true
   },
   "outputs": [],
   "source": []
  },
  {
   "cell_type": "code",
   "execution_count": 276,
   "metadata": {
    "collapsed": false
   },
   "outputs": [
    {
     "ename": "IndexError",
     "evalue": "tuple index out of range",
     "output_type": "error",
     "traceback": [
      "\u001b[1;31m---------------------------------------------------------------------------\u001b[0m",
      "\u001b[1;31mIndexError\u001b[0m                                Traceback (most recent call last)",
      "\u001b[1;32m<ipython-input-276-48a110cc04e8>\u001b[0m in \u001b[0;36m<module>\u001b[1;34m()\u001b[0m\n\u001b[0;32m      1\u001b[0m \u001b[1;32mimport\u001b[0m \u001b[0mskimage\u001b[0m\u001b[1;33m.\u001b[0m\u001b[0mfilters\u001b[0m\u001b[1;33m\u001b[0m\u001b[0m\n\u001b[1;32m----> 2\u001b[1;33m \u001b[0menlarged_mask\u001b[0m \u001b[1;33m=\u001b[0m \u001b[0mskimage\u001b[0m\u001b[1;33m.\u001b[0m\u001b[0mfilters\u001b[0m\u001b[1;33m.\u001b[0m\u001b[0mgaussian\u001b[0m\u001b[1;33m(\u001b[0m\u001b[0mx\u001b[0m\u001b[1;33m[\u001b[0m\u001b[1;36m2\u001b[0m\u001b[1;33m]\u001b[0m\u001b[1;33m[\u001b[0m\u001b[1;36m0\u001b[0m\u001b[1;33m]\u001b[0m\u001b[1;33m.\u001b[0m\u001b[0mnumpy\u001b[0m\u001b[1;33m(\u001b[0m\u001b[1;33m)\u001b[0m\u001b[1;33m,\u001b[0m\u001b[1;36m15\u001b[0m\u001b[1;33m)\u001b[0m\u001b[1;33m\u001b[0m\u001b[0m\n\u001b[0m\u001b[0;32m      3\u001b[0m \u001b[0menlarged_mask\u001b[0m \u001b[1;33m=\u001b[0m \u001b[0menlarged_mask\u001b[0m\u001b[1;33m/\u001b[0m\u001b[0menlarged_mask\u001b[0m\u001b[1;33m.\u001b[0m\u001b[0mmax\u001b[0m\u001b[1;33m(\u001b[0m\u001b[1;33m)\u001b[0m\u001b[1;33m\u001b[0m\u001b[0m\n\u001b[0;32m      4\u001b[0m \u001b[0menlarged_mask\u001b[0m\u001b[1;33m.\u001b[0m\u001b[0mmax\u001b[0m\u001b[1;33m(\u001b[0m\u001b[1;33m)\u001b[0m\u001b[1;33m\u001b[0m\u001b[0m\n",
      "\u001b[1;31mIndexError\u001b[0m: tuple index out of range"
     ]
    }
   ],
   "source": [
    "import skimage.filters\n",
    "enlarged_mask = skimage.filters.gaussian(x[2][0].numpy(),15)\n",
    "enlarged_mask = enlarged_mask/enlarged_mask.max()\n",
    "enlarged_mask.max()"
   ]
  },
  {
   "cell_type": "code",
   "execution_count": null,
   "metadata": {
    "collapsed": false
   },
   "outputs": [],
   "source": []
  },
  {
   "cell_type": "code",
   "execution_count": 114,
   "metadata": {
    "collapsed": false
   },
   "outputs": [
    {
     "ename": "NameError",
     "evalue": "name 'enlarged_mask' is not defined",
     "output_type": "error",
     "traceback": [
      "\u001b[1;31m---------------------------------------------------------------------------\u001b[0m",
      "\u001b[1;31mNameError\u001b[0m                                 Traceback (most recent call last)",
      "\u001b[1;32m<ipython-input-114-d420ca75cbde>\u001b[0m in \u001b[0;36m<module>\u001b[1;34m()\u001b[0m\n\u001b[1;32m----> 1\u001b[1;33m \u001b[0mplt\u001b[0m\u001b[1;33m.\u001b[0m\u001b[0mimshow\u001b[0m\u001b[1;33m(\u001b[0m\u001b[0menlarged_mask\u001b[0m\u001b[1;33m)\u001b[0m\u001b[1;33m\u001b[0m\u001b[0m\n\u001b[0m",
      "\u001b[1;31mNameError\u001b[0m: name 'enlarged_mask' is not defined"
     ]
    }
   ],
   "source": [
    "plt.imshow(enlarged_mask)"
   ]
  },
  {
   "cell_type": "code",
   "execution_count": 59,
   "metadata": {
    "collapsed": false
   },
   "outputs": [
    {
     "ename": "NameError",
     "evalue": "name 'enlarged_mask' is not defined",
     "output_type": "error",
     "traceback": [
      "\u001b[1;31m---------------------------------------------------------------------------\u001b[0m",
      "\u001b[1;31mNameError\u001b[0m                                 Traceback (most recent call last)",
      "\u001b[1;32m<ipython-input-59-7661517f3121>\u001b[0m in \u001b[0;36m<module>\u001b[1;34m()\u001b[0m\n\u001b[0;32m      1\u001b[0m \u001b[1;31m#assuming the segmentations are sloppy we can enlarge the segmentations\u001b[0m\u001b[1;33m\u001b[0m\u001b[1;33m\u001b[0m\u001b[0m\n\u001b[1;32m----> 2\u001b[1;33m \u001b[0mmasked_grads\u001b[0m \u001b[1;33m=\u001b[0m \u001b[0minput_grads\u001b[0m\u001b[1;33m*\u001b[0m\u001b[1;33m(\u001b[0m\u001b[1;36m1\u001b[0m\u001b[1;33m-\u001b[0m\u001b[0menlarged_mask\u001b[0m\u001b[1;33m)\u001b[0m\u001b[1;33m\u001b[0m\u001b[0m\n\u001b[0m\u001b[0;32m      3\u001b[0m \u001b[0mplt\u001b[0m\u001b[1;33m.\u001b[0m\u001b[0mimshow\u001b[0m\u001b[1;33m(\u001b[0m\u001b[0mmasked_grads\u001b[0m\u001b[1;33m)\u001b[0m\u001b[1;33m\u001b[0m\u001b[0m\n",
      "\u001b[1;31mNameError\u001b[0m: name 'enlarged_mask' is not defined"
     ]
    }
   ],
   "source": [
    "#assuming the segmentations are sloppy we can enlarge the segmentations\n",
    "masked_grads = input_grads*(1-enlarged_mask)\n",
    "plt.imshow(masked_grads)"
   ]
  },
  {
   "cell_type": "code",
   "execution_count": null,
   "metadata": {
    "collapsed": true
   },
   "outputs": [],
   "source": []
  },
  {
   "cell_type": "code",
   "execution_count": null,
   "metadata": {
    "collapsed": true
   },
   "outputs": [],
   "source": []
  },
  {
   "cell_type": "code",
   "execution_count": null,
   "metadata": {
    "collapsed": true
   },
   "outputs": [],
   "source": []
  },
  {
   "cell_type": "code",
   "execution_count": null,
   "metadata": {
    "collapsed": true
   },
   "outputs": [],
   "source": [
    "#torch.save(cnn.state_dict(), \"./classifier_model.pth\")"
   ]
  },
  {
   "cell_type": "code",
   "execution_count": 18,
   "metadata": {
    "collapsed": false
   },
   "outputs": [],
   "source": [
    "# checkpoint = torch.load(\"./classifier_model.pth\")\n",
    "# cnn.load_state_dict(checkpoint)"
   ]
  },
  {
   "cell_type": "code",
   "execution_count": null,
   "metadata": {
    "collapsed": false
   },
   "outputs": [],
   "source": [
    "# cnn.eval()\n",
    "# test_output, last_layer = cnn(valid_x)\n",
    "# pred_y = torch.max(test_output, 1)[1].data.squeeze()\n",
    "# accuracy = float((pred_y == valid_y).sum()) / float(valid_y.size(0))\n",
    "# print 'valid accuracy: %.2f' % accuracy"
   ]
  },
  {
   "cell_type": "code",
   "execution_count": null,
   "metadata": {
    "collapsed": false
   },
   "outputs": [],
   "source": []
  },
  {
   "cell_type": "code",
   "execution_count": null,
   "metadata": {
    "collapsed": true
   },
   "outputs": [],
   "source": []
  },
  {
   "cell_type": "code",
   "execution_count": null,
   "metadata": {
    "collapsed": true
   },
   "outputs": [],
   "source": []
  },
  {
   "cell_type": "code",
   "execution_count": null,
   "metadata": {
    "collapsed": true
   },
   "outputs": [],
   "source": []
  },
  {
   "cell_type": "code",
   "execution_count": null,
   "metadata": {
    "collapsed": true
   },
   "outputs": [],
   "source": []
  },
  {
   "cell_type": "code",
   "execution_count": null,
   "metadata": {
    "collapsed": false
   },
   "outputs": [],
   "source": []
  },
  {
   "cell_type": "code",
   "execution_count": null,
   "metadata": {
    "collapsed": true
   },
   "outputs": [],
   "source": []
  },
  {
   "cell_type": "code",
   "execution_count": null,
   "metadata": {
    "collapsed": true
   },
   "outputs": [],
   "source": []
  },
  {
   "cell_type": "code",
   "execution_count": null,
   "metadata": {
    "collapsed": true
   },
   "outputs": [],
   "source": []
  },
  {
   "cell_type": "code",
   "execution_count": null,
   "metadata": {
    "collapsed": true
   },
   "outputs": [],
   "source": []
  }
 ],
 "metadata": {
  "kernelspec": {
   "display_name": "Python 2",
   "language": "python",
   "name": "python2"
  },
  "language_info": {
   "codemirror_mode": {
    "name": "ipython",
    "version": 2
   },
   "file_extension": ".py",
   "mimetype": "text/x-python",
   "name": "python",
   "nbconvert_exporter": "python",
   "pygments_lexer": "ipython2",
   "version": "2.7.13"
  }
 },
 "nbformat": 4,
 "nbformat_minor": 2
}
