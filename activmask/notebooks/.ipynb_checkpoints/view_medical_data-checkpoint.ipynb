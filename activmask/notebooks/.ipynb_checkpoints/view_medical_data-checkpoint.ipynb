{
 "cells": [
  {
   "cell_type": "code",
   "execution_count": 1,
   "metadata": {},
   "outputs": [],
   "source": [
    "import os,sys,inspect\n",
    "sys.path.insert(0,\"..\") \n",
    "import datasets, datasets.MSDDataset\n",
    "import json, medpy, collections, numpy as np, h5py\n",
    "import ntpath\n",
    "import matplotlib.pyplot as plt"
   ]
  },
  {
   "cell_type": "code",
   "execution_count": 4,
   "metadata": {
    "scrolled": true
   },
   "outputs": [],
   "source": [
    "# d = datasets.MSDDataset.MSDDataset(dataroot='/network/data1/MSD/MSD/Task03_Liver/', \n",
    "#                                    nsamples=10,         \n",
    "#                                    max_files=10,  \n",
    "#                                     mode=\"train\")"
   ]
  },
  {
   "cell_type": "code",
   "execution_count": 5,
   "metadata": {
    "scrolled": false
   },
   "outputs": [
    {
     "name": "stdout",
     "output_type": "stream",
     "text": [
      "Full dataset contains: Counter({False: 16008, True: 1649})\n",
      "mode=train\n",
      "Loading 18 files:['lung_064.nii.gz', 'lung_073.nii.gz', 'lung_096.nii.gz', 'lung_075.nii.gz', 'lung_048.nii.gz', 'lung_051.nii.gz', 'lung_045.nii.gz', 'lung_069.nii.gz', 'lung_020.nii.gz', 'lung_004.nii.gz', 'lung_042.nii.gz', 'lung_093.nii.gz', 'lung_006.nii.gz', 'lung_018.nii.gz', 'lung_043.nii.gz', 'lung_049.nii.gz', 'lung_053.nii.gz', 'lung_066.nii.gz']\n",
      "Loaded images contain:Counter({False: 4649, True: 433})\n",
      "This dataloader contains:Counter({True: 5, False: 5})\n"
     ]
    }
   ],
   "source": [
    "d = datasets.MSDDataset.MSDDataset(dataroot='/network/data1/MSD/MSD/Task06_Lung/', \n",
    "                                   nsamples=10,\n",
    "                                    mode=\"train\")"
   ]
  },
  {
   "cell_type": "code",
   "execution_count": 8,
   "metadata": {},
   "outputs": [],
   "source": [
    "#d.dataset['lung_064.nii.gz'][\"slices\"]\n",
    "# samples = []\n",
    "# for file in d.files:\n",
    "#     for sli in range(len(d.dataset[file][\"slices\"])):\n",
    "#         samples.append((file, sli))\n",
    "# list((zip(d.dataset['lung_064.nii.gz'][\"slices\"].keys())))"
   ]
  },
  {
   "cell_type": "code",
   "execution_count": 10,
   "metadata": {},
   "outputs": [],
   "source": [
    "e = d[0]\n",
    "plt.imshow(e[0][0][0])\n",
    "plt.imshow(e[0][1][0])"
   ]
  }
 ],
 "metadata": {
  "kernelspec": {
   "display_name": "Python 3",
   "language": "python",
   "name": "python3"
  },
  "language_info": {
   "codemirror_mode": {
    "name": "ipython",
    "version": 3
   },
   "file_extension": ".py",
   "mimetype": "text/x-python",
   "name": "python",
   "nbconvert_exporter": "python",
   "pygments_lexer": "ipython3",
   "version": "3.5.6"
  }
 },
 "nbformat": 4,
 "nbformat_minor": 2
}
