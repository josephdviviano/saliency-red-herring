{
 "cells": [
  {
   "cell_type": "code",
   "execution_count": 5,
   "metadata": {},
   "outputs": [],
   "source": [
    "import os,sys,inspect\n",
    "sys.path.insert(0,\"..\") \n",
    "import datasets, datasets.MSDDataset\n",
    "import json, medpy, collections, numpy as np, h5py\n",
    "import ntpath\n",
    "import matplotlib.pyplot as plt"
   ]
  },
  {
   "cell_type": "code",
   "execution_count": 25,
   "metadata": {
    "scrolled": false
   },
   "outputs": [
    {
     "name": "stdout",
     "output_type": "stream",
     "text": [
      "Full dataset contains: Counter({False: 16008, True: 1649})\n",
      "mode=train\n",
      "Loading 18 files:['lung_064.nii.gz', 'lung_073.nii.gz', 'lung_096.nii.gz', 'lung_075.nii.gz', 'lung_048.nii.gz', 'lung_051.nii.gz', 'lung_045.nii.gz', 'lung_069.nii.gz', 'lung_020.nii.gz', 'lung_004.nii.gz', 'lung_042.nii.gz', 'lung_093.nii.gz', 'lung_006.nii.gz', 'lung_018.nii.gz', 'lung_043.nii.gz', 'lung_049.nii.gz', 'lung_053.nii.gz', 'lung_066.nii.gz']\n",
      "Loaded images contain:Counter({False: 4649, True: 433})\n",
      "This dataloader contains: Counter({False: 16, True: 16})\n"
     ]
    }
   ],
   "source": [
    "d = datasets.MSDDataset.MSDDataset(dataroot='/network/data1/MSD/MSD/Task06_Lung/', \n",
    "                                   mode=\"train\")"
   ]
  },
  {
   "cell_type": "code",
   "execution_count": 26,
   "metadata": {},
   "outputs": [],
   "source": [
    "mins = []\n",
    "maxs = []\n",
    "\n",
    "for e in d: \n",
    "    mins.append(e[0][0][0].min())\n",
    "    maxs.append(e[0][0][0].max())\n",
    "    "
   ]
  },
  {
   "cell_type": "code",
   "execution_count": 27,
   "metadata": {},
   "outputs": [
    {
     "data": {
      "text/plain": [
       "(array([31.,  0.,  0.,  0.,  0.,  0.,  0.,  0.,  0.,  1.]),\n",
       " array([-1024.     , -1022.51556, -1021.0311 , -1019.5467 , -1018.06226,\n",
       "        -1016.57776, -1015.0933 , -1013.6089 , -1012.12445, -1010.64   ,\n",
       "        -1009.1556 ], dtype=float32),\n",
       " <a list of 10 Patch objects>)"
      ]
     },
     "execution_count": 27,
     "metadata": {},
     "output_type": "execute_result"
    },
    {
     "data": {
      "image/png": "[encoded data removed]",
      "text/plain": [
       "<Figure size 432x288 with 1 Axes>"
      ]
     },
     "metadata": {
      "needs_background": "light"
     },
     "output_type": "display_data"
    }
   ],
   "source": [
    "plt.hist(mins)"
   ]
  },
  {
   "cell_type": "code",
   "execution_count": 28,
   "metadata": {},
   "outputs": [
    {
     "data": {
      "text/plain": [
       "(array([ 6., 10.,  4.,  2.,  4.,  2.,  2.,  1.,  0.,  1.]),\n",
       " array([ 566.3287,  722.8219,  879.3151, 1035.8083, 1192.3016, 1348.7948,\n",
       "        1505.2881, 1661.7812, 1818.2745, 1974.7677, 2131.261 ],\n",
       "       dtype=float32),\n",
       " <a list of 10 Patch objects>)"
      ]
     },
     "execution_count": 28,
     "metadata": {},
     "output_type": "execute_result"
    },
    {
     "data": {
      "image/png": "[encoded data removed]",
      "text/plain": [
       "<Figure size 432x288 with 1 Axes>"
      ]
     },
     "metadata": {
      "needs_background": "light"
     },
     "output_type": "display_data"
    }
   ],
   "source": [
    "plt.hist(maxs)"
   ]
  },
  {
   "cell_type": "code",
   "execution_count": null,
   "metadata": {},
   "outputs": [],
   "source": []
  }
 ],
 "metadata": {
  "kernelspec": {
   "display_name": "Python 3",
   "language": "python",
   "name": "python3"
  },
  "language_info": {
   "codemirror_mode": {
    "name": "ipython",
    "version": 3
   },
   "file_extension": ".py",
   "mimetype": "text/x-python",
   "name": "python",
   "nbconvert_exporter": "python",
   "pygments_lexer": "ipython3",
   "version": "3.5.6"
  }
 },
 "nbformat": 4,
 "nbformat_minor": 2
}
