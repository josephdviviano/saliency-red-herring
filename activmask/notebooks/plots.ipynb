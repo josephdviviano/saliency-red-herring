{
 "cells": [
  {
   "cell_type": "code",
   "execution_count": 42,
   "metadata": {},
   "outputs": [],
   "source": [
    "import numpy as np\n",
    "#import matplotlib\n",
    "#matplotlib.use('Agg');\n",
    "import matplotlib.pyplot as plt\n",
    "#plt.set_cmap('jet');\n",
    "import random, os, sys, pandas, os, pickle\n",
    "import argparse\n",
    "from textwrap import wrap\n",
    "%matplotlib inline\n",
    "\n",
    "# UPDATE THIS\n",
    "PATH_TO_STATS = \"/network/home/simpsonb/gradmask/gradmask/logs/(model:(SimpleCNN:(flat_layer:200)),dataset:LungMSDDataset,optimizer:(Adam:(lr:0.001)),penalise_grad:contrast,shuffle:True,nsamples:64,batch_size:32,maxmasks:8,seed:1234)/stats/\""
   ]
  },
  {
   "cell_type": "code",
   "execution_count": 38,
   "metadata": {},
   "outputs": [],
   "source": [
    "##############################################\n",
    "##############################################\n",
    "##############################################\n",
    "##############################################\n",
    "## below is code to plot the results of running this with \"run.sh classify.ipynb\"\n",
    "## e.g \"run.sh classify.ipynb -thing -nsamples 32 -seed 4\"\n",
    "## it writes a pickle file with the results for each run.\n"
   ]
  },
  {
   "cell_type": "code",
   "execution_count": 43,
   "metadata": {},
   "outputs": [],
   "source": [
    "df = pandas.DataFrame()\n",
    "for f in os.listdir(PATH_TO_STATS):\n",
    "    d = (pickle.load(open(PATH_TO_STATS + f,\"rb\")))\n",
    "    df = df.append(pandas.DataFrame(d))"
   ]
  },
  {
   "cell_type": "code",
   "execution_count": 44,
   "metadata": {},
   "outputs": [
    {
     "data": {
      "text/plain": [
       "(10, 22)"
      ]
     },
     "execution_count": 44,
     "metadata": {},
     "output_type": "execute_result"
    }
   ],
   "source": [
    "df.shape"
   ]
  },
  {
   "cell_type": "code",
   "execution_count": 45,
   "metadata": {},
   "outputs": [
    {
     "data": {
      "text/html": [
       "<div>\n",
       "<style scoped>\n",
       "    .dataframe tbody tr th:only-of-type {\n",
       "        vertical-align: middle;\n",
       "    }\n",
       "\n",
       "    .dataframe tbody tr th {\n",
       "        vertical-align: top;\n",
       "    }\n",
       "\n",
       "    .dataframe thead th {\n",
       "        text-align: right;\n",
       "    }\n",
       "</style>\n",
       "<table border=\"1\" class=\"dataframe\">\n",
       "  <thead>\n",
       "    <tr style=\"text-align: right;\">\n",
       "      <th></th>\n",
       "      <th>batch_size</th>\n",
       "      <th>cuda</th>\n",
       "      <th>epoch</th>\n",
       "      <th>maxmasks</th>\n",
       "      <th>model</th>\n",
       "      <th>model_flat_layer</th>\n",
       "      <th>nsamples</th>\n",
       "      <th>optimizer</th>\n",
       "      <th>optimizer_lr</th>\n",
       "      <th>penalise_grad</th>\n",
       "      <th>...</th>\n",
       "      <th>test_dataset</th>\n",
       "      <th>test_dataset_mode</th>\n",
       "      <th>testauc</th>\n",
       "      <th>train_dataset</th>\n",
       "      <th>train_dataset_mode</th>\n",
       "      <th>trainloss</th>\n",
       "      <th>transform</th>\n",
       "      <th>valid_dataset</th>\n",
       "      <th>valid_dataset_mode</th>\n",
       "      <th>validauc</th>\n",
       "    </tr>\n",
       "  </thead>\n",
       "  <tbody>\n",
       "    <tr>\n",
       "      <th>0</th>\n",
       "      <td>32</td>\n",
       "      <td>True</td>\n",
       "      <td>10</td>\n",
       "      <td>8</td>\n",
       "      <td>SimpleCNN</td>\n",
       "      <td>200</td>\n",
       "      <td>64</td>\n",
       "      <td>Adam</td>\n",
       "      <td>0.001</td>\n",
       "      <td>contrast</td>\n",
       "      <td>...</td>\n",
       "      <td>LungMSDDataset</td>\n",
       "      <td>test</td>\n",
       "      <td>0.50000</td>\n",
       "      <td>LungMSDDataset</td>\n",
       "      <td>train</td>\n",
       "      <td>9.355086</td>\n",
       "      <td>train</td>\n",
       "      <td>LungMSDDataset</td>\n",
       "      <td>valid</td>\n",
       "      <td>0.50000</td>\n",
       "    </tr>\n",
       "    <tr>\n",
       "      <th>1</th>\n",
       "      <td>32</td>\n",
       "      <td>True</td>\n",
       "      <td>10</td>\n",
       "      <td>8</td>\n",
       "      <td>SimpleCNN</td>\n",
       "      <td>200</td>\n",
       "      <td>64</td>\n",
       "      <td>Adam</td>\n",
       "      <td>0.001</td>\n",
       "      <td>contrast</td>\n",
       "      <td>...</td>\n",
       "      <td>LungMSDDataset</td>\n",
       "      <td>test</td>\n",
       "      <td>0.65625</td>\n",
       "      <td>LungMSDDataset</td>\n",
       "      <td>train</td>\n",
       "      <td>2.599338</td>\n",
       "      <td>train</td>\n",
       "      <td>LungMSDDataset</td>\n",
       "      <td>valid</td>\n",
       "      <td>0.34375</td>\n",
       "    </tr>\n",
       "    <tr>\n",
       "      <th>2</th>\n",
       "      <td>32</td>\n",
       "      <td>True</td>\n",
       "      <td>10</td>\n",
       "      <td>8</td>\n",
       "      <td>SimpleCNN</td>\n",
       "      <td>200</td>\n",
       "      <td>64</td>\n",
       "      <td>Adam</td>\n",
       "      <td>0.001</td>\n",
       "      <td>contrast</td>\n",
       "      <td>...</td>\n",
       "      <td>LungMSDDataset</td>\n",
       "      <td>test</td>\n",
       "      <td>0.56250</td>\n",
       "      <td>LungMSDDataset</td>\n",
       "      <td>train</td>\n",
       "      <td>1.897338</td>\n",
       "      <td>train</td>\n",
       "      <td>LungMSDDataset</td>\n",
       "      <td>valid</td>\n",
       "      <td>0.34375</td>\n",
       "    </tr>\n",
       "    <tr>\n",
       "      <th>3</th>\n",
       "      <td>32</td>\n",
       "      <td>True</td>\n",
       "      <td>10</td>\n",
       "      <td>8</td>\n",
       "      <td>SimpleCNN</td>\n",
       "      <td>200</td>\n",
       "      <td>64</td>\n",
       "      <td>Adam</td>\n",
       "      <td>0.001</td>\n",
       "      <td>contrast</td>\n",
       "      <td>...</td>\n",
       "      <td>LungMSDDataset</td>\n",
       "      <td>test</td>\n",
       "      <td>0.56250</td>\n",
       "      <td>LungMSDDataset</td>\n",
       "      <td>train</td>\n",
       "      <td>1.511363</td>\n",
       "      <td>train</td>\n",
       "      <td>LungMSDDataset</td>\n",
       "      <td>valid</td>\n",
       "      <td>0.34375</td>\n",
       "    </tr>\n",
       "    <tr>\n",
       "      <th>4</th>\n",
       "      <td>32</td>\n",
       "      <td>True</td>\n",
       "      <td>10</td>\n",
       "      <td>8</td>\n",
       "      <td>SimpleCNN</td>\n",
       "      <td>200</td>\n",
       "      <td>64</td>\n",
       "      <td>Adam</td>\n",
       "      <td>0.001</td>\n",
       "      <td>contrast</td>\n",
       "      <td>...</td>\n",
       "      <td>LungMSDDataset</td>\n",
       "      <td>test</td>\n",
       "      <td>0.50000</td>\n",
       "      <td>LungMSDDataset</td>\n",
       "      <td>train</td>\n",
       "      <td>1.453034</td>\n",
       "      <td>train</td>\n",
       "      <td>LungMSDDataset</td>\n",
       "      <td>valid</td>\n",
       "      <td>0.40625</td>\n",
       "    </tr>\n",
       "  </tbody>\n",
       "</table>\n",
       "<p>5 rows × 22 columns</p>\n",
       "</div>"
      ],
      "text/plain": [
       "   batch_size  cuda  epoch  maxmasks      model  model_flat_layer  nsamples  \\\n",
       "0          32  True     10         8  SimpleCNN               200        64   \n",
       "1          32  True     10         8  SimpleCNN               200        64   \n",
       "2          32  True     10         8  SimpleCNN               200        64   \n",
       "3          32  True     10         8  SimpleCNN               200        64   \n",
       "4          32  True     10         8  SimpleCNN               200        64   \n",
       "\n",
       "  optimizer  optimizer_lr penalise_grad  ...    test_dataset  \\\n",
       "0      Adam         0.001      contrast  ...  LungMSDDataset   \n",
       "1      Adam         0.001      contrast  ...  LungMSDDataset   \n",
       "2      Adam         0.001      contrast  ...  LungMSDDataset   \n",
       "3      Adam         0.001      contrast  ...  LungMSDDataset   \n",
       "4      Adam         0.001      contrast  ...  LungMSDDataset   \n",
       "\n",
       "   test_dataset_mode  testauc   train_dataset  train_dataset_mode trainloss  \\\n",
       "0               test  0.50000  LungMSDDataset               train  9.355086   \n",
       "1               test  0.65625  LungMSDDataset               train  2.599338   \n",
       "2               test  0.56250  LungMSDDataset               train  1.897338   \n",
       "3               test  0.56250  LungMSDDataset               train  1.511363   \n",
       "4               test  0.50000  LungMSDDataset               train  1.453034   \n",
       "\n",
       "  transform   valid_dataset valid_dataset_mode validauc  \n",
       "0     train  LungMSDDataset              valid  0.50000  \n",
       "1     train  LungMSDDataset              valid  0.34375  \n",
       "2     train  LungMSDDataset              valid  0.34375  \n",
       "3     train  LungMSDDataset              valid  0.34375  \n",
       "4     train  LungMSDDataset              valid  0.40625  \n",
       "\n",
       "[5 rows x 22 columns]"
      ]
     },
     "execution_count": 45,
     "metadata": {},
     "output_type": "execute_result"
    }
   ],
   "source": [
    "df.head()"
   ]
  },
  {
   "cell_type": "code",
   "execution_count": 50,
   "metadata": {},
   "outputs": [
    {
     "name": "stdout",
     "output_type": "stream",
     "text": [
      "['LungMSDDataset']\n",
      "['contrast']\n",
      "[64]\n",
      "[8]\n"
     ]
    }
   ],
   "source": [
    "print (df.train_dataset.unique())\n",
    "print (df.penalise_grad.unique())\n",
    "print (df.nsamples.unique())\n",
    "# print (df.maskblur.unique())\n",
    "print (df.maxmasks.unique())"
   ]
  },
  {
   "cell_type": "code",
   "execution_count": 356,
   "metadata": {},
   "outputs": [],
   "source": [
    "#df[(df.nsamples == 32) & (df.epoch == 100) & (df.dataset == \"colon\")]"
   ]
  },
  {
   "cell_type": "code",
   "execution_count": 61,
   "metadata": {
    "scrolled": false
   },
   "outputs": [
    {
     "data": {
      "text/html": [
       "<div>\n",
       "<style scoped>\n",
       "    .dataframe tbody tr th:only-of-type {\n",
       "        vertical-align: middle;\n",
       "    }\n",
       "\n",
       "    .dataframe tbody tr th {\n",
       "        vertical-align: top;\n",
       "    }\n",
       "\n",
       "    .dataframe thead th {\n",
       "        text-align: right;\n",
       "    }\n",
       "</style>\n",
       "<table border=\"1\" class=\"dataframe\">\n",
       "  <thead>\n",
       "    <tr style=\"text-align: right;\">\n",
       "      <th></th>\n",
       "      <th></th>\n",
       "      <th></th>\n",
       "      <th></th>\n",
       "      <th></th>\n",
       "      <th></th>\n",
       "      <th>cuda</th>\n",
       "      <th>model</th>\n",
       "      <th>model_flat_layer</th>\n",
       "      <th>optimizer</th>\n",
       "      <th>seed</th>\n",
       "      <th>shuffle</th>\n",
       "      <th>test_dataset</th>\n",
       "      <th>test_dataset_mode</th>\n",
       "      <th>testauc</th>\n",
       "      <th>train_dataset</th>\n",
       "      <th>train_dataset_mode</th>\n",
       "      <th>trainloss</th>\n",
       "      <th>transform</th>\n",
       "      <th>valid_dataset</th>\n",
       "      <th>valid_dataset_mode</th>\n",
       "      <th>validauc</th>\n",
       "    </tr>\n",
       "    <tr>\n",
       "      <th>nsamples</th>\n",
       "      <th>epoch</th>\n",
       "      <th>penalise_grad</th>\n",
       "      <th>maxmasks</th>\n",
       "      <th>optimizer_lr</th>\n",
       "      <th>batch_size</th>\n",
       "      <th></th>\n",
       "      <th></th>\n",
       "      <th></th>\n",
       "      <th></th>\n",
       "      <th></th>\n",
       "      <th></th>\n",
       "      <th></th>\n",
       "      <th></th>\n",
       "      <th></th>\n",
       "      <th></th>\n",
       "      <th></th>\n",
       "      <th></th>\n",
       "      <th></th>\n",
       "      <th></th>\n",
       "      <th></th>\n",
       "      <th></th>\n",
       "    </tr>\n",
       "  </thead>\n",
       "  <tbody>\n",
       "    <tr>\n",
       "      <th>64</th>\n",
       "      <th>10</th>\n",
       "      <th>contrast</th>\n",
       "      <th>8</th>\n",
       "      <th>0.001</th>\n",
       "      <th>32</th>\n",
       "      <td>10</td>\n",
       "      <td>10</td>\n",
       "      <td>10</td>\n",
       "      <td>10</td>\n",
       "      <td>10</td>\n",
       "      <td>10</td>\n",
       "      <td>10</td>\n",
       "      <td>10</td>\n",
       "      <td>10</td>\n",
       "      <td>10</td>\n",
       "      <td>10</td>\n",
       "      <td>10</td>\n",
       "      <td>10</td>\n",
       "      <td>10</td>\n",
       "      <td>10</td>\n",
       "      <td>10</td>\n",
       "    </tr>\n",
       "  </tbody>\n",
       "</table>\n",
       "</div>"
      ],
      "text/plain": [
       "                                                               cuda  model  \\\n",
       "nsamples epoch penalise_grad maxmasks optimizer_lr batch_size                \n",
       "64       10    contrast      8        0.001        32            10     10   \n",
       "\n",
       "                                                               model_flat_layer  \\\n",
       "nsamples epoch penalise_grad maxmasks optimizer_lr batch_size                     \n",
       "64       10    contrast      8        0.001        32                        10   \n",
       "\n",
       "                                                               optimizer  \\\n",
       "nsamples epoch penalise_grad maxmasks optimizer_lr batch_size              \n",
       "64       10    contrast      8        0.001        32                 10   \n",
       "\n",
       "                                                               seed  shuffle  \\\n",
       "nsamples epoch penalise_grad maxmasks optimizer_lr batch_size                  \n",
       "64       10    contrast      8        0.001        32            10       10   \n",
       "\n",
       "                                                               test_dataset  \\\n",
       "nsamples epoch penalise_grad maxmasks optimizer_lr batch_size                 \n",
       "64       10    contrast      8        0.001        32                    10   \n",
       "\n",
       "                                                               test_dataset_mode  \\\n",
       "nsamples epoch penalise_grad maxmasks optimizer_lr batch_size                      \n",
       "64       10    contrast      8        0.001        32                         10   \n",
       "\n",
       "                                                               testauc  \\\n",
       "nsamples epoch penalise_grad maxmasks optimizer_lr batch_size            \n",
       "64       10    contrast      8        0.001        32               10   \n",
       "\n",
       "                                                               train_dataset  \\\n",
       "nsamples epoch penalise_grad maxmasks optimizer_lr batch_size                  \n",
       "64       10    contrast      8        0.001        32                     10   \n",
       "\n",
       "                                                               train_dataset_mode  \\\n",
       "nsamples epoch penalise_grad maxmasks optimizer_lr batch_size                       \n",
       "64       10    contrast      8        0.001        32                          10   \n",
       "\n",
       "                                                               trainloss  \\\n",
       "nsamples epoch penalise_grad maxmasks optimizer_lr batch_size              \n",
       "64       10    contrast      8        0.001        32                 10   \n",
       "\n",
       "                                                               transform  \\\n",
       "nsamples epoch penalise_grad maxmasks optimizer_lr batch_size              \n",
       "64       10    contrast      8        0.001        32                 10   \n",
       "\n",
       "                                                               valid_dataset  \\\n",
       "nsamples epoch penalise_grad maxmasks optimizer_lr batch_size                  \n",
       "64       10    contrast      8        0.001        32                     10   \n",
       "\n",
       "                                                               valid_dataset_mode  \\\n",
       "nsamples epoch penalise_grad maxmasks optimizer_lr batch_size                       \n",
       "64       10    contrast      8        0.001        32                          10   \n",
       "\n",
       "                                                               validauc  \n",
       "nsamples epoch penalise_grad maxmasks optimizer_lr batch_size            \n",
       "64       10    contrast      8        0.001        32                10  "
      ]
     },
     "execution_count": 61,
     "metadata": {},
     "output_type": "execute_result"
    }
   ],
   "source": [
    "df[(df.nsamples == 64) & (df.epoch == 10) & (df.train_dataset == \"LungMSDDataset\")].groupby(\n",
    "    [\"nsamples\",\"epoch\",\"penalise_grad\", \"maxmasks\",\"optimizer_lr\", \"batch_size\"]).count()"
   ]
  },
  {
   "cell_type": "code",
   "execution_count": 363,
   "metadata": {},
   "outputs": [
    {
     "data": {
      "image/png": "[encoded data removed]",
      "text/plain": [
       "<Figure size 432x288 with 1 Axes>"
      ]
     },
     "metadata": {},
     "output_type": "display_data"
    }
   ],
   "source": [
    "fig, ax = plt.subplots()\n",
    "ls = ['solid', 'dashed', 'dashdot', 'dotted', '-' ,'--' ,'-.' , ':','None' ,' ' ,'' ]\n",
    "\n",
    "subsetdata = df[(df.nsamples == 32) & \n",
    "              (df.maskblur == 3) & \n",
    "              (df.batchsize == 16) & \n",
    "              (df.annealinglambda == 2.0) & \n",
    "              (df.epoch < 800) &\n",
    "              (df.dataset == \"colon\")].reindex()\n",
    "for k,i in enumerate(sorted(subsetdata.thing.unique())):\n",
    "\n",
    "    thisdata = subsetdata[subsetdata.thing == i]\n",
    "    r = thisdata.groupby([\"epoch\"]).mean().plot(\n",
    "        y=\"validauc\", ax=ax, label=str(i), ls=ls[k])\n",
    "    print (i, \"num trials\", thisdata.groupby([\"epoch\"]).count().min()[0])\n",
    "    plt.legend(title=\"gradmask\")\n",
    "plt.ylim(.5, 0.85);\n",
    "#plt.xlim(0,500);\n",
    "\n",
    "plt.title(str(subsetdata.dataset.unique()) + \", nsamples:\" + str(thisdata.nsamples.unique()[0]) + \n",
    "          \", trials:\" + str(thisdata.seed.unique().shape[0]));\n"
   ]
  },
  {
   "cell_type": "code",
   "execution_count": null,
   "metadata": {},
   "outputs": [],
   "source": []
  },
  {
   "cell_type": "code",
   "execution_count": null,
   "metadata": {},
   "outputs": [],
   "source": []
  },
  {
   "cell_type": "code",
   "execution_count": 364,
   "metadata": {},
   "outputs": [],
   "source": [
    "#\"num trials\", subsetdata[subsetdata.thing == False].groupby([\"epoch\"]).count()"
   ]
  },
  {
   "cell_type": "code",
   "execution_count": 368,
   "metadata": {},
   "outputs": [
    {
     "ename": "IndexError",
     "evalue": "single positional indexer is out-of-bounds",
     "output_type": "error",
     "traceback": [
      "\u001b[1;31m---------------------------------------------------------------------------\u001b[0m",
      "\u001b[1;31mIndexError\u001b[0m                                Traceback (most recent call last)",
      "\u001b[1;32m<ipython-input-368-caf666837b15>\u001b[0m in \u001b[0;36m<module>\u001b[1;34m()\u001b[0m\n\u001b[0;32m     19\u001b[0m \u001b[1;31m#plt.xlim(0,500);\u001b[0m\u001b[1;33m\u001b[0m\u001b[1;33m\u001b[0m\u001b[0m\n\u001b[0;32m     20\u001b[0m \u001b[1;33m\u001b[0m\u001b[0m\n\u001b[1;32m---> 21\u001b[1;33m \u001b[0mparams\u001b[0m \u001b[1;33m=\u001b[0m \u001b[0msubsetdata\u001b[0m\u001b[1;33m.\u001b[0m\u001b[0mdrop\u001b[0m\u001b[1;33m(\u001b[0m\u001b[1;33m[\u001b[0m\u001b[1;34m\"trainloss\"\u001b[0m\u001b[1;33m,\u001b[0m \u001b[1;34m\"validauc\"\u001b[0m\u001b[1;33m,\u001b[0m \u001b[1;34m\"seed\"\u001b[0m\u001b[1;33m,\u001b[0m \u001b[1;34m\"epoch\"\u001b[0m\u001b[1;33m]\u001b[0m\u001b[1;33m,\u001b[0m \u001b[0maxis\u001b[0m\u001b[1;33m=\u001b[0m\u001b[1;36m1\u001b[0m\u001b[1;33m)\u001b[0m\u001b[1;33m.\u001b[0m\u001b[0miloc\u001b[0m\u001b[1;33m[\u001b[0m\u001b[1;36m0\u001b[0m\u001b[1;33m]\u001b[0m\u001b[1;33m.\u001b[0m\u001b[0mto_dict\u001b[0m\u001b[1;33m(\u001b[0m\u001b[1;33m)\u001b[0m\u001b[1;33m\u001b[0m\u001b[0m\n\u001b[0m\u001b[0;32m     22\u001b[0m \u001b[0mparams\u001b[0m \u001b[1;33m=\u001b[0m \u001b[1;34m\"\\n\"\u001b[0m\u001b[1;33m.\u001b[0m\u001b[0mjoin\u001b[0m\u001b[1;33m(\u001b[0m\u001b[0mwrap\u001b[0m\u001b[1;33m(\u001b[0m\u001b[0mstr\u001b[0m\u001b[1;33m(\u001b[0m\u001b[0mparams\u001b[0m\u001b[1;33m)\u001b[0m\u001b[1;33m,\u001b[0m \u001b[1;36m60\u001b[0m\u001b[1;33m)\u001b[0m\u001b[1;33m)\u001b[0m\u001b[1;33m\u001b[0m\u001b[0m\n\u001b[0;32m     23\u001b[0m \u001b[0mplt\u001b[0m\u001b[1;33m.\u001b[0m\u001b[0mtitle\u001b[0m\u001b[1;33m(\u001b[0m\u001b[0mstr\u001b[0m\u001b[1;33m(\u001b[0m\u001b[0mparams\u001b[0m\u001b[1;33m)\u001b[0m \u001b[1;33m+\u001b[0m \u001b[1;34m\", trials:\"\u001b[0m \u001b[1;33m+\u001b[0m \u001b[0mstr\u001b[0m\u001b[1;33m(\u001b[0m\u001b[0mthisdata\u001b[0m\u001b[1;33m.\u001b[0m\u001b[0mseed\u001b[0m\u001b[1;33m.\u001b[0m\u001b[0munique\u001b[0m\u001b[1;33m(\u001b[0m\u001b[1;33m)\u001b[0m\u001b[1;33m.\u001b[0m\u001b[0mshape\u001b[0m\u001b[1;33m[\u001b[0m\u001b[1;36m0\u001b[0m\u001b[1;33m]\u001b[0m\u001b[1;33m)\u001b[0m\u001b[1;33m)\u001b[0m\u001b[1;33m;\u001b[0m\u001b[1;33m\u001b[0m\u001b[0m\n",
      "\u001b[1;32m/u/cohenjos/.local/lib/python2.7/site-packages/pandas/core/indexing.pyc\u001b[0m in \u001b[0;36m__getitem__\u001b[1;34m(self, key)\u001b[0m\n\u001b[0;32m   1476\u001b[0m \u001b[1;33m\u001b[0m\u001b[0m\n\u001b[0;32m   1477\u001b[0m             \u001b[0mmaybe_callable\u001b[0m \u001b[1;33m=\u001b[0m \u001b[0mcom\u001b[0m\u001b[1;33m.\u001b[0m\u001b[0m_apply_if_callable\u001b[0m\u001b[1;33m(\u001b[0m\u001b[0mkey\u001b[0m\u001b[1;33m,\u001b[0m \u001b[0mself\u001b[0m\u001b[1;33m.\u001b[0m\u001b[0mobj\u001b[0m\u001b[1;33m)\u001b[0m\u001b[1;33m\u001b[0m\u001b[0m\n\u001b[1;32m-> 1478\u001b[1;33m             \u001b[1;32mreturn\u001b[0m \u001b[0mself\u001b[0m\u001b[1;33m.\u001b[0m\u001b[0m_getitem_axis\u001b[0m\u001b[1;33m(\u001b[0m\u001b[0mmaybe_callable\u001b[0m\u001b[1;33m,\u001b[0m \u001b[0maxis\u001b[0m\u001b[1;33m=\u001b[0m\u001b[0maxis\u001b[0m\u001b[1;33m)\u001b[0m\u001b[1;33m\u001b[0m\u001b[0m\n\u001b[0m\u001b[0;32m   1479\u001b[0m \u001b[1;33m\u001b[0m\u001b[0m\n\u001b[0;32m   1480\u001b[0m     \u001b[1;32mdef\u001b[0m \u001b[0m_is_scalar_access\u001b[0m\u001b[1;33m(\u001b[0m\u001b[0mself\u001b[0m\u001b[1;33m,\u001b[0m \u001b[0mkey\u001b[0m\u001b[1;33m)\u001b[0m\u001b[1;33m:\u001b[0m\u001b[1;33m\u001b[0m\u001b[0m\n",
      "\u001b[1;32m/u/cohenjos/.local/lib/python2.7/site-packages/pandas/core/indexing.pyc\u001b[0m in \u001b[0;36m_getitem_axis\u001b[1;34m(self, key, axis)\u001b[0m\n\u001b[0;32m   2100\u001b[0m \u001b[1;33m\u001b[0m\u001b[0m\n\u001b[0;32m   2101\u001b[0m             \u001b[1;31m# validate the location\u001b[0m\u001b[1;33m\u001b[0m\u001b[1;33m\u001b[0m\u001b[0m\n\u001b[1;32m-> 2102\u001b[1;33m             \u001b[0mself\u001b[0m\u001b[1;33m.\u001b[0m\u001b[0m_validate_integer\u001b[0m\u001b[1;33m(\u001b[0m\u001b[0mkey\u001b[0m\u001b[1;33m,\u001b[0m \u001b[0maxis\u001b[0m\u001b[1;33m)\u001b[0m\u001b[1;33m\u001b[0m\u001b[0m\n\u001b[0m\u001b[0;32m   2103\u001b[0m \u001b[1;33m\u001b[0m\u001b[0m\n\u001b[0;32m   2104\u001b[0m             \u001b[1;32mreturn\u001b[0m \u001b[0mself\u001b[0m\u001b[1;33m.\u001b[0m\u001b[0m_get_loc\u001b[0m\u001b[1;33m(\u001b[0m\u001b[0mkey\u001b[0m\u001b[1;33m,\u001b[0m \u001b[0maxis\u001b[0m\u001b[1;33m=\u001b[0m\u001b[0maxis\u001b[0m\u001b[1;33m)\u001b[0m\u001b[1;33m\u001b[0m\u001b[0m\n",
      "\u001b[1;32m/u/cohenjos/.local/lib/python2.7/site-packages/pandas/core/indexing.pyc\u001b[0m in \u001b[0;36m_validate_integer\u001b[1;34m(self, key, axis)\u001b[0m\n\u001b[0;32m   2007\u001b[0m         \u001b[0ml\u001b[0m \u001b[1;33m=\u001b[0m \u001b[0mlen\u001b[0m\u001b[1;33m(\u001b[0m\u001b[0max\u001b[0m\u001b[1;33m)\u001b[0m\u001b[1;33m\u001b[0m\u001b[0m\n\u001b[0;32m   2008\u001b[0m         \u001b[1;32mif\u001b[0m \u001b[0mkey\u001b[0m \u001b[1;33m>=\u001b[0m \u001b[0ml\u001b[0m \u001b[1;32mor\u001b[0m \u001b[0mkey\u001b[0m \u001b[1;33m<\u001b[0m \u001b[1;33m-\u001b[0m\u001b[0ml\u001b[0m\u001b[1;33m:\u001b[0m\u001b[1;33m\u001b[0m\u001b[0m\n\u001b[1;32m-> 2009\u001b[1;33m             \u001b[1;32mraise\u001b[0m \u001b[0mIndexError\u001b[0m\u001b[1;33m(\u001b[0m\u001b[1;34m\"single positional indexer is out-of-bounds\"\u001b[0m\u001b[1;33m)\u001b[0m\u001b[1;33m\u001b[0m\u001b[0m\n\u001b[0m\u001b[0;32m   2010\u001b[0m \u001b[1;33m\u001b[0m\u001b[0m\n\u001b[0;32m   2011\u001b[0m     \u001b[1;32mdef\u001b[0m \u001b[0m_getitem_tuple\u001b[0m\u001b[1;33m(\u001b[0m\u001b[0mself\u001b[0m\u001b[1;33m,\u001b[0m \u001b[0mtup\u001b[0m\u001b[1;33m)\u001b[0m\u001b[1;33m:\u001b[0m\u001b[1;33m\u001b[0m\u001b[0m\n",
      "\u001b[1;31mIndexError\u001b[0m: single positional indexer is out-of-bounds"
     ]
    },
    {
     "data": {
      "image/png": "[encoded data removed]",
      "text/plain": [
       "<Figure size 432x288 with 1 Axes>"
      ]
     },
     "metadata": {},
     "output_type": "display_data"
    }
   ],
   "source": [
    "fig, ax = plt.subplots()\n",
    "ls = ['solid', 'dashed', 'dashdot', 'dotted', '-' ,'--' ,'-.' , ':','None' ,' ' ,'' ]\n",
    "\n",
    "subsetdata = df[(df.nsamples == 32) & \n",
    "              (df.maskblur == 3) & \n",
    "              (df.batchsize == 16) & \n",
    "              (df.annealinglambda == 1.0) & \n",
    "              (df.thingstyle == 1.0) & \n",
    "              (df.epoch < 800) &\n",
    "              (df.dataset == \"tnt\")].reindex()\n",
    "for k,i in enumerate(sorted(subsetdata.maxmasks.unique())):\n",
    "\n",
    "    thisdata = subsetdata[subsetdata.maxmasks == i]\n",
    "    r = thisdata.groupby([\"epoch\"]).mean().plot(\n",
    "        y=\"validauc\", ax=ax, label=str(i), ls=ls[k])\n",
    "    print (i, \"num trials\", thisdata.groupby([\"epoch\"]).count().min()[0])\n",
    "    plt.legend(title=\"# masks used\")\n",
    "plt.ylim(.55, 0.81);\n",
    "#plt.xlim(0,500);\n",
    "\n",
    "params = subsetdata.drop([\"trainloss\", \"validauc\", \"seed\", \"epoch\"], axis=1).iloc[0].to_dict()\n",
    "params = \"\\n\".join(wrap(str(params), 60))\n",
    "plt.title(str(params) + \", trials:\" + str(thisdata.seed.unique().shape[0]));\n"
   ]
  },
  {
   "cell_type": "code",
   "execution_count": 323,
   "metadata": {},
   "outputs": [
    {
     "data": {
      "text/plain": [
       "{'annealinglambda': 1.0,\n",
       " 'batchsize': 16,\n",
       " 'dataset': 'colon',\n",
       " 'lr': 0.001,\n",
       " 'maskblur': 3,\n",
       " 'maxmasks': 4,\n",
       " 'nsamples': 32,\n",
       " 'thing': True,\n",
       " 'thingstyle': 1}"
      ]
     },
     "execution_count": 323,
     "metadata": {},
     "output_type": "execute_result"
    }
   ],
   "source": []
  },
  {
   "cell_type": "code",
   "execution_count": 98,
   "metadata": {},
   "outputs": [
    {
     "name": "stdout",
     "output_type": "stream",
     "text": [
      "(999, 'num trials', 11)\n"
     ]
    },
    {
     "data": {
      "image/png": "[encoded data removed]",
      "text/plain": [
       "<Figure size 432x288 with 1 Axes>"
      ]
     },
     "metadata": {},
     "output_type": "display_data"
    }
   ],
   "source": [
    "fig, ax = plt.subplots()\n",
    "ls = ['solid', 'dashed', 'dashdot', 'dotted', '-' ,'--' ,'-.' , ':','None' ,' ' ,'' ]\n",
    "\n",
    "subsetdata = df[(df.nsamples == 32) & \n",
    "              (df.thing == True) & \n",
    "              (df.maskblur == 2) & \n",
    "              (df.annealinglambda == 1.0) & \n",
    "              (df.dataset == \"lung\")].reindex()\n",
    "for k,i in enumerate(sorted(subsetdata.maxmasks.unique())):\n",
    "\n",
    "    thisdata = subsetdata[subsetdata.maxmasks == i]\n",
    "    r = thisdata.groupby([\"epoch\"]).mean().plot(\n",
    "        y=\"validauc\", ax=ax, label=str(i), ls=ls[k])\n",
    "    print (i, \"num trials\", thisdata.groupby([\"epoch\"]).count().min()[0])\n",
    "    plt.legend(title=\"# masks used\")\n",
    "#plt.ylim(.65, 0.81);\n",
    "plt.xlim(0,500);\n",
    "\n",
    "plt.title(\"Vary maxmasks used, nsamples:\" + str(thisdata.nsamples.unique()[0]) + \n",
    "          \", trials:\" + str(thisdata.seed.unique().shape[0]));\n"
   ]
  },
  {
   "cell_type": "code",
   "execution_count": null,
   "metadata": {},
   "outputs": [],
   "source": []
  },
  {
   "cell_type": "code",
   "execution_count": 56,
   "metadata": {},
   "outputs": [
    {
     "data": {
      "image/png": "[encoded data removed]",
      "text/plain": [
       "<Figure size 432x288 with 1 Axes>"
      ]
     },
     "metadata": {},
     "output_type": "display_data"
    }
   ],
   "source": [
    "fig, ax = plt.subplots()\n",
    "ls = ['solid', 'dashed', 'dashdot', 'dotted', '-' ,'--' ,'-.' , ':','None' ,' ' ,'' ]\n",
    "\n",
    "subsetdata = df[(df.nsamples == 64) & \n",
    "              (df.thing == True) & \n",
    "              (df.maskblur == 3) & \n",
    "              (df.maxmasks == 64) & \n",
    "              (df.dataset == \"lung\")].reindex()\n",
    "for k,i in enumerate(sorted(subsetdata.annealinglambda.unique())):\n",
    "\n",
    "    thisdata = subsetdata[subsetdata.annealinglambda == i]\n",
    "    r = thisdata.groupby([\"epoch\"]).mean().plot(\n",
    "        y=\"validauc\", ax=ax, label=str(i), ls=ls[k])\n",
    "    print (i, \"num trials\", thisdata.groupby([\"epoch\"]).count().min()[0])\n",
    "    plt.legend(title=\"annealinglambda\")\n",
    "#plt.ylim(.65, 0.85);\n",
    "#plt.xlim(0,600);\n",
    "\n",
    "plt.title(\"Vary annealinglambda, nsamples:\" + str(thisdata.nsamples.unique()[0]) + \n",
    "          \", trials:\" + str(thisdata.seed.unique().shape[0]));\n"
   ]
  },
  {
   "cell_type": "code",
   "execution_count": null,
   "metadata": {
    "collapsed": true
   },
   "outputs": [],
   "source": []
  },
  {
   "cell_type": "code",
   "execution_count": null,
   "metadata": {
    "collapsed": true
   },
   "outputs": [],
   "source": []
  },
  {
   "cell_type": "code",
   "execution_count": null,
   "metadata": {},
   "outputs": [],
   "source": []
  },
  {
   "cell_type": "code",
   "execution_count": null,
   "metadata": {
    "collapsed": true
   },
   "outputs": [],
   "source": []
  },
  {
   "cell_type": "code",
   "execution_count": null,
   "metadata": {
    "collapsed": true
   },
   "outputs": [],
   "source": []
  },
  {
   "cell_type": "code",
   "execution_count": 14,
   "metadata": {},
   "outputs": [],
   "source": [
    "import json\n",
    "import gradmask.utils.configuration as configuration\n",
    "from collections import OrderedDict\n",
    "\n",
    "cfg_file = \"../../gradmask/config/lungmsd.yml\"\n",
    "config = configuration.load_config(cfg_file)\n",
    "# config = json.dumps(cfg)"
   ]
  },
  {
   "cell_type": "code",
   "execution_count": 11,
   "metadata": {},
   "outputs": [],
   "source": [
    "output_dict = {}\n",
    "for mode in ['train', 'valid','test']:\n",
    "    for key, item in config.items():\n",
    "        if type(config[key]) == dict:\n",
    "            # if the 'value' is actually a dict, iterate through and collect train/valid/test values\n",
    "            try:\n",
    "                # config is of the form main_key: train/test/valid: key_val: more_key_val_pairs\n",
    "                sub_dict = config[key][mode]\n",
    "                main_key_value = list(sub_dict.keys())[0]\n",
    "                output_dict[\"{}_{}\".format(mode, key)] = main_key_value\n",
    "                sub_sub_dict = sub_dict[main_key_value] # e.g. name of optimiser, name of dataset\n",
    "                for k, i in sub_sub_dict.items():\n",
    "                    output_dict[\"{}_{}_{}\".format(mode, key, k)] = i # so we don't have e.g. train_dataset_MSD_mode\n",
    "            except:\n",
    "                # config is of the form main_key: key_val: more_key_val_pairs e.g. optimiser: Adam: lr: 0.001\n",
    "                sub_dict = config[key]\n",
    "                main_key_value = list(sub_dict.keys())[0]\n",
    "                output_dict[key] = main_key_value\n",
    "                sub_sub_dict = sub_dict[main_key_value] # e.g. name of optimiser, name of dataset\n",
    "                for k, i in sub_sub_dict.items():\n",
    "                    output_dict[\"{}_{}\".format(key, k)] = i\n",
    "        else:\n",
    "            # standard key: val pair\n",
    "            output_dict[key] = item"
   ]
  },
  {
   "cell_type": "code",
   "execution_count": 18,
   "metadata": {},
   "outputs": [
    {
     "data": {
      "text/plain": [
       "OrderedDict([('optimizer_lr', 0.001),\n",
       "             ('model_flat_layer', 200),\n",
       "             ('transform', 'valid'),\n",
       "             ('maxmasks', 8),\n",
       "             ('epoch', 10),\n",
       "             ('model', 'SimpleCNN'),\n",
       "             ('valid_dataset', 'LungMSDDataset'),\n",
       "             ('optimizer', 'Adam'),\n",
       "             ('valid_dataset_mode', 'valid'),\n",
       "             ('penalise_grad', True),\n",
       "             ('batch_size', 32),\n",
       "             ('train_dataset', 'LungMSDDataset'),\n",
       "             ('test_dataset_mode', 'test'),\n",
       "             ('train_dataset_mode', 'train'),\n",
       "             ('test_dataset', 'LungMSDDataset'),\n",
       "             ('seed', 1234),\n",
       "             ('shuffle', True),\n",
       "             ('cuda', True),\n",
       "             ('nsamples', 64)])"
      ]
     },
     "execution_count": 18,
     "metadata": {},
     "output_type": "execute_result"
    }
   ],
   "source": [
    "OrderedDict(output_dict)"
   ]
  },
  {
   "cell_type": "code",
   "execution_count": null,
   "metadata": {},
   "outputs": [],
   "source": []
  }
 ],
 "metadata": {
  "kernelspec": {
   "display_name": "Python 3",
   "language": "python",
   "name": "python3"
  },
  "language_info": {
   "codemirror_mode": {
    "name": "ipython",
    "version": 3
   },
   "file_extension": ".py",
   "mimetype": "text/x-python",
   "name": "python",
   "nbconvert_exporter": "python",
   "pygments_lexer": "ipython3",
   "version": "3.5.6"
  }
 },
 "nbformat": 4,
 "nbformat_minor": 2
}
