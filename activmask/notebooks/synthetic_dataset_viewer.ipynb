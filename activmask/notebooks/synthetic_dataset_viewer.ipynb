{
 "cells": [
  {
   "cell_type": "code",
   "execution_count": 16,
   "metadata": {},
   "outputs": [],
   "source": [
    "import os,sys,inspect\n",
    "sys.path.insert(0,\"..\") \n",
    "import datasets, datasets.SyntheticDataset2\n",
    "import json, medpy, collections, numpy as np, h5py\n",
    "import ntpath\n",
    "import matplotlib.pyplot as plt"
   ]
  },
  {
   "cell_type": "code",
   "execution_count": 17,
   "metadata": {},
   "outputs": [],
   "source": [
    "# Prepare datasets.\n",
    "DATAROOT = \"../data/synth2/\"\n",
    "train = datasets.SyntheticDataset2.SyntheticDataset2(\n",
    "    dataroot=DATAROOT, \n",
    "    mode=\"distractor1\", \n",
    "    blur=0.25, nsamples=10, distract_noise=0)\n",
    "valid = datasets.SyntheticDataset2.SyntheticDataset2(\n",
    "    dataroot=DATAROOT, \n",
    "    mode=\"distractor2\", \n",
    "    blur=0.25, nsamples=10, distract_noise=1)"
   ]
  },
  {
   "cell_type": "code",
   "execution_count": 18,
   "metadata": {},
   "outputs": [
    {
     "name": "stderr",
     "output_type": "stream",
     "text": [
      "/opt/python-37/envs/activmask/lib/python3.5/site-packages/matplotlib/figure.py:2369: UserWarning: This figure includes Axes that are not compatible with tight_layout, so results might be incorrect.\n",
      "  warnings.warn(\"This figure includes Axes that are not compatible \"\n"
     ]
    },
    {
     "data": {
      "image/png": "[encoded data removed]",
      "text/plain": [
       "<Figure size 432x288 with 4 Axes>"
      ]
     },
     "metadata": {
      "needs_background": "light"
     },
     "output_type": "display_data"
    }
   ],
   "source": [
    "# Loop stuff.\n",
    "dataloaders = [train, valid]\n",
    "images = [[1,5],[4,6]]\n",
    "titles = [\n",
    "    [\"D_train, Class 0\", \"D_train, Class 1\"],\n",
    "    [\"D_valid, Class 0\", \"D_valid, Class 1\"]\n",
    "]\n",
    "\n",
    "fig, axs = plt.subplots(nrows=2, ncols=2, squeeze=True)\n",
    "\n",
    "for i, ax_dist in enumerate(axs):\n",
    "    for j, ax in enumerate(ax_dist):\n",
    "        img = dataloaders[i][images[i][j]]\n",
    "        \n",
    "        ax.imshow(img[0][0][0], interpolation='none', cmap='Greys_r')\n",
    "        ax.set_title(titles[i][j])\n",
    "        ax.get_xaxis().set_visible(False)       \n",
    "        ax.get_yaxis().set_visible(False)\n",
    "    \n",
    "fig.set_tight_layout(tight=True)"
   ]
  },
  {
   "cell_type": "markdown",
   "metadata": {},
   "source": []
  }
 ],
 "metadata": {
  "kernelspec": {
   "display_name": "Python 3",
   "language": "python",
   "name": "python3"
  },
  "language_info": {
   "codemirror_mode": {
    "name": "ipython",
    "version": 3
   },
   "file_extension": ".py",
   "mimetype": "text/x-python",
   "name": "python",
   "nbconvert_exporter": "python",
   "pygments_lexer": "ipython3",
   "version": "3.5.6"
  }
 },
 "nbformat": 4,
 "nbformat_minor": 2
}
